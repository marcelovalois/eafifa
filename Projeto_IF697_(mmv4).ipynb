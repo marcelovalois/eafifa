{
  "nbformat": 4,
  "nbformat_minor": 0,
  "metadata": {
    "colab": {
      "name": "Projeto-IF697 (mmv4).ipynb",
      "provenance": []
    },
    "kernelspec": {
      "name": "python3",
      "display_name": "Python 3"
    },
    "language_info": {
      "name": "python"
    }
  },
  "cells": [
    {
      "cell_type": "code",
      "execution_count": 614,
      "metadata": {
        "id": "Sauw5xPC601L"
      },
      "outputs": [],
      "source": [
        "import pandas as pd\n",
        "import matplotlib.pyplot as plt\n",
        "import numpy as np\n",
        "import seaborn as sns\n",
        "from sklearn.preprocessing import StandardScaler, MinMaxScaler\n",
        "from scipy import stats"
      ]
    },
    {
      "cell_type": "markdown",
      "source": [
        "# 1. Coleta de dados"
      ],
      "metadata": {
        "id": "Wo60-81WDQqK"
      }
    },
    {
      "cell_type": "code",
      "source": [
        "df = pd.read_csv('https://raw.githubusercontent.com/marcelovalois/eafifa/main/FIFA-21.csv')"
      ],
      "metadata": {
        "id": "Dg095nBg8W3D"
      },
      "execution_count": 615,
      "outputs": []
    },
    {
      "cell_type": "code",
      "source": [
        "df.head()"
      ],
      "metadata": {
        "colab": {
          "base_uri": "https://localhost:8080/",
          "height": 206
        },
        "id": "n-Xj2k3u8zJp",
        "outputId": "bc016652-4e7c-4c2f-a508-130df3219307"
      },
      "execution_count": 616,
      "outputs": [
        {
          "output_type": "execute_result",
          "data": {
            "text/plain": [
              "   player_id               name  nationality  position  overall  age  hits  \\\n",
              "0     158023       Lionel Messi    Argentina  ST|CF|RW       94   33   299   \n",
              "1      20801  Cristiano Ronaldo     Portugal     ST|LW       93   35   276   \n",
              "2     190871          Neymar Jr       Brazil    CAM|LW       92   28   186   \n",
              "3     203376    Virgil van Dijk  Netherlands        CB       91   29   127   \n",
              "4     200389          Jan Oblak     Slovenia        GK       91   27    47   \n",
              "\n",
              "   potential                  team  \n",
              "0         94         FC Barcelona   \n",
              "1         93             Juventus   \n",
              "2         92  Paris Saint-Germain   \n",
              "3         92            Liverpool   \n",
              "4         93      Atlético Madrid   "
            ],
            "text/html": [
              "\n",
              "  <div id=\"df-b9d787cb-79af-485d-ae9c-acc777b2e2fa\">\n",
              "    <div class=\"colab-df-container\">\n",
              "      <div>\n",
              "<style scoped>\n",
              "    .dataframe tbody tr th:only-of-type {\n",
              "        vertical-align: middle;\n",
              "    }\n",
              "\n",
              "    .dataframe tbody tr th {\n",
              "        vertical-align: top;\n",
              "    }\n",
              "\n",
              "    .dataframe thead th {\n",
              "        text-align: right;\n",
              "    }\n",
              "</style>\n",
              "<table border=\"1\" class=\"dataframe\">\n",
              "  <thead>\n",
              "    <tr style=\"text-align: right;\">\n",
              "      <th></th>\n",
              "      <th>player_id</th>\n",
              "      <th>name</th>\n",
              "      <th>nationality</th>\n",
              "      <th>position</th>\n",
              "      <th>overall</th>\n",
              "      <th>age</th>\n",
              "      <th>hits</th>\n",
              "      <th>potential</th>\n",
              "      <th>team</th>\n",
              "    </tr>\n",
              "  </thead>\n",
              "  <tbody>\n",
              "    <tr>\n",
              "      <th>0</th>\n",
              "      <td>158023</td>\n",
              "      <td>Lionel Messi</td>\n",
              "      <td>Argentina</td>\n",
              "      <td>ST|CF|RW</td>\n",
              "      <td>94</td>\n",
              "      <td>33</td>\n",
              "      <td>299</td>\n",
              "      <td>94</td>\n",
              "      <td>FC Barcelona</td>\n",
              "    </tr>\n",
              "    <tr>\n",
              "      <th>1</th>\n",
              "      <td>20801</td>\n",
              "      <td>Cristiano Ronaldo</td>\n",
              "      <td>Portugal</td>\n",
              "      <td>ST|LW</td>\n",
              "      <td>93</td>\n",
              "      <td>35</td>\n",
              "      <td>276</td>\n",
              "      <td>93</td>\n",
              "      <td>Juventus</td>\n",
              "    </tr>\n",
              "    <tr>\n",
              "      <th>2</th>\n",
              "      <td>190871</td>\n",
              "      <td>Neymar Jr</td>\n",
              "      <td>Brazil</td>\n",
              "      <td>CAM|LW</td>\n",
              "      <td>92</td>\n",
              "      <td>28</td>\n",
              "      <td>186</td>\n",
              "      <td>92</td>\n",
              "      <td>Paris Saint-Germain</td>\n",
              "    </tr>\n",
              "    <tr>\n",
              "      <th>3</th>\n",
              "      <td>203376</td>\n",
              "      <td>Virgil van Dijk</td>\n",
              "      <td>Netherlands</td>\n",
              "      <td>CB</td>\n",
              "      <td>91</td>\n",
              "      <td>29</td>\n",
              "      <td>127</td>\n",
              "      <td>92</td>\n",
              "      <td>Liverpool</td>\n",
              "    </tr>\n",
              "    <tr>\n",
              "      <th>4</th>\n",
              "      <td>200389</td>\n",
              "      <td>Jan Oblak</td>\n",
              "      <td>Slovenia</td>\n",
              "      <td>GK</td>\n",
              "      <td>91</td>\n",
              "      <td>27</td>\n",
              "      <td>47</td>\n",
              "      <td>93</td>\n",
              "      <td>Atlético Madrid</td>\n",
              "    </tr>\n",
              "  </tbody>\n",
              "</table>\n",
              "</div>\n",
              "      <button class=\"colab-df-convert\" onclick=\"convertToInteractive('df-b9d787cb-79af-485d-ae9c-acc777b2e2fa')\"\n",
              "              title=\"Convert this dataframe to an interactive table.\"\n",
              "              style=\"display:none;\">\n",
              "        \n",
              "  <svg xmlns=\"http://www.w3.org/2000/svg\" height=\"24px\"viewBox=\"0 0 24 24\"\n",
              "       width=\"24px\">\n",
              "    <path d=\"M0 0h24v24H0V0z\" fill=\"none\"/>\n",
              "    <path d=\"M18.56 5.44l.94 2.06.94-2.06 2.06-.94-2.06-.94-.94-2.06-.94 2.06-2.06.94zm-11 1L8.5 8.5l.94-2.06 2.06-.94-2.06-.94L8.5 2.5l-.94 2.06-2.06.94zm10 10l.94 2.06.94-2.06 2.06-.94-2.06-.94-.94-2.06-.94 2.06-2.06.94z\"/><path d=\"M17.41 7.96l-1.37-1.37c-.4-.4-.92-.59-1.43-.59-.52 0-1.04.2-1.43.59L10.3 9.45l-7.72 7.72c-.78.78-.78 2.05 0 2.83L4 21.41c.39.39.9.59 1.41.59.51 0 1.02-.2 1.41-.59l7.78-7.78 2.81-2.81c.8-.78.8-2.07 0-2.86zM5.41 20L4 18.59l7.72-7.72 1.47 1.35L5.41 20z\"/>\n",
              "  </svg>\n",
              "      </button>\n",
              "      \n",
              "  <style>\n",
              "    .colab-df-container {\n",
              "      display:flex;\n",
              "      flex-wrap:wrap;\n",
              "      gap: 12px;\n",
              "    }\n",
              "\n",
              "    .colab-df-convert {\n",
              "      background-color: #E8F0FE;\n",
              "      border: none;\n",
              "      border-radius: 50%;\n",
              "      cursor: pointer;\n",
              "      display: none;\n",
              "      fill: #1967D2;\n",
              "      height: 32px;\n",
              "      padding: 0 0 0 0;\n",
              "      width: 32px;\n",
              "    }\n",
              "\n",
              "    .colab-df-convert:hover {\n",
              "      background-color: #E2EBFA;\n",
              "      box-shadow: 0px 1px 2px rgba(60, 64, 67, 0.3), 0px 1px 3px 1px rgba(60, 64, 67, 0.15);\n",
              "      fill: #174EA6;\n",
              "    }\n",
              "\n",
              "    [theme=dark] .colab-df-convert {\n",
              "      background-color: #3B4455;\n",
              "      fill: #D2E3FC;\n",
              "    }\n",
              "\n",
              "    [theme=dark] .colab-df-convert:hover {\n",
              "      background-color: #434B5C;\n",
              "      box-shadow: 0px 1px 3px 1px rgba(0, 0, 0, 0.15);\n",
              "      filter: drop-shadow(0px 1px 2px rgba(0, 0, 0, 0.3));\n",
              "      fill: #FFFFFF;\n",
              "    }\n",
              "  </style>\n",
              "\n",
              "      <script>\n",
              "        const buttonEl =\n",
              "          document.querySelector('#df-b9d787cb-79af-485d-ae9c-acc777b2e2fa button.colab-df-convert');\n",
              "        buttonEl.style.display =\n",
              "          google.colab.kernel.accessAllowed ? 'block' : 'none';\n",
              "\n",
              "        async function convertToInteractive(key) {\n",
              "          const element = document.querySelector('#df-b9d787cb-79af-485d-ae9c-acc777b2e2fa');\n",
              "          const dataTable =\n",
              "            await google.colab.kernel.invokeFunction('convertToInteractive',\n",
              "                                                     [key], {});\n",
              "          if (!dataTable) return;\n",
              "\n",
              "          const docLinkHtml = 'Like what you see? Visit the ' +\n",
              "            '<a target=\"_blank\" href=https://colab.research.google.com/notebooks/data_table.ipynb>data table notebook</a>'\n",
              "            + ' to learn more about interactive tables.';\n",
              "          element.innerHTML = '';\n",
              "          dataTable['output_type'] = 'display_data';\n",
              "          await google.colab.output.renderOutput(dataTable, element);\n",
              "          const docLink = document.createElement('div');\n",
              "          docLink.innerHTML = docLinkHtml;\n",
              "          element.appendChild(docLink);\n",
              "        }\n",
              "      </script>\n",
              "    </div>\n",
              "  </div>\n",
              "  "
            ]
          },
          "metadata": {},
          "execution_count": 616
        }
      ]
    },
    {
      "cell_type": "markdown",
      "source": [
        "### Descrição dos dados\n",
        "\n",
        "- player_id: o id do jogador no jogo.\n",
        "- name: O nome do jogador.\n",
        "- nationality: O país em que o jogador nasceu.\n",
        "- position: A posição (ou posições) que o jogador atua.\n",
        "- overall: A média geral do jogador no FIFA.\n",
        "- age: A idade do jogador.\n",
        "- potential: O potencial do jogador.\n",
        "- team: O clube em que ele joga."
      ],
      "metadata": {
        "id": "DNpiDoQFBpwj"
      }
    },
    {
      "cell_type": "markdown",
      "source": [
        "# 2. Pré-processamento"
      ],
      "metadata": {
        "id": "VE6pHPSuDVM1"
      }
    },
    {
      "cell_type": "markdown",
      "source": [
        "## Definição de tipos"
      ],
      "metadata": {
        "id": "-V-cumnoDgwo"
      }
    },
    {
      "cell_type": "code",
      "source": [
        "df.dtypes"
      ],
      "metadata": {
        "colab": {
          "base_uri": "https://localhost:8080/"
        },
        "id": "Jxe8ObIXDJhk",
        "outputId": "717f6ec7-26b4-424b-b556-c260f779cc23"
      },
      "execution_count": 617,
      "outputs": [
        {
          "output_type": "execute_result",
          "data": {
            "text/plain": [
              "player_id       int64\n",
              "name           object\n",
              "nationality    object\n",
              "position       object\n",
              "overall         int64\n",
              "age             int64\n",
              "hits            int64\n",
              "potential       int64\n",
              "team           object\n",
              "dtype: object"
            ]
          },
          "metadata": {},
          "execution_count": 617
        }
      ]
    },
    {
      "cell_type": "code",
      "source": [
        "df['name'] = df['name'].astype('category')\n",
        "df['nationality'] = df['nationality'].astype('category')\n",
        "df['position'] = df['position'].astype('category')\n",
        "df['team'] = df['team'].astype('category')"
      ],
      "metadata": {
        "id": "1xl5Sj1dD39C"
      },
      "execution_count": 618,
      "outputs": []
    },
    {
      "cell_type": "code",
      "source": [
        "df.dtypes"
      ],
      "metadata": {
        "colab": {
          "base_uri": "https://localhost:8080/"
        },
        "id": "EUa0LZB_EFHf",
        "outputId": "7038667a-0a76-4f9d-edf1-f747d8c13687"
      },
      "execution_count": 619,
      "outputs": [
        {
          "output_type": "execute_result",
          "data": {
            "text/plain": [
              "player_id         int64\n",
              "name           category\n",
              "nationality    category\n",
              "position       category\n",
              "overall           int64\n",
              "age               int64\n",
              "hits              int64\n",
              "potential         int64\n",
              "team           category\n",
              "dtype: object"
            ]
          },
          "metadata": {},
          "execution_count": 619
        }
      ]
    },
    {
      "cell_type": "markdown",
      "source": [
        "## Tratamento de dados ausentes"
      ],
      "metadata": {
        "id": "yWRNPO4LP39H"
      }
    },
    {
      "cell_type": "code",
      "source": [
        "df.shape"
      ],
      "metadata": {
        "colab": {
          "base_uri": "https://localhost:8080/"
        },
        "id": "64xTuglhP7oO",
        "outputId": "2f4c1d45-f39a-4580-92bd-0c4b920fc37b"
      },
      "execution_count": 620,
      "outputs": [
        {
          "output_type": "execute_result",
          "data": {
            "text/plain": [
              "(17981, 9)"
            ]
          },
          "metadata": {},
          "execution_count": 620
        }
      ]
    },
    {
      "cell_type": "markdown",
      "source": [
        "São listados os jogadores do Real Madrid com overall menor que 65, com o intuito de desconsiderar seus valores. São jogadores que abaixam o overall médio do time mas que nunca veem jogo."
      ],
      "metadata": {
        "id": "-2tQWq2PME2U"
      }
    },
    {
      "cell_type": "code",
      "source": [
        "df.loc[(df['overall'] < 65) & (df['team'] == 'Real Madrid ')]"
      ],
      "metadata": {
        "colab": {
          "base_uri": "https://localhost:8080/",
          "height": 112
        },
        "id": "4AAMGzbTYp00",
        "outputId": "d3ae4eae-f96f-48a5-c344-56aa987fe37b"
      },
      "execution_count": 621,
      "outputs": [
        {
          "output_type": "execute_result",
          "data": {
            "text/plain": [
              "       player_id         name nationality position  overall  age  hits  \\\n",
              "13140     247411       Altube       Spain       GK       63   20     8   \n",
              "13165     246606  Fran García       Spain    LB|LW       63   20     2   \n",
              "\n",
              "       potential          team  \n",
              "13140         80  Real Madrid   \n",
              "13165         78  Real Madrid   "
            ],
            "text/html": [
              "\n",
              "  <div id=\"df-dea62b0a-fd4e-43eb-9403-918aa676bf7a\">\n",
              "    <div class=\"colab-df-container\">\n",
              "      <div>\n",
              "<style scoped>\n",
              "    .dataframe tbody tr th:only-of-type {\n",
              "        vertical-align: middle;\n",
              "    }\n",
              "\n",
              "    .dataframe tbody tr th {\n",
              "        vertical-align: top;\n",
              "    }\n",
              "\n",
              "    .dataframe thead th {\n",
              "        text-align: right;\n",
              "    }\n",
              "</style>\n",
              "<table border=\"1\" class=\"dataframe\">\n",
              "  <thead>\n",
              "    <tr style=\"text-align: right;\">\n",
              "      <th></th>\n",
              "      <th>player_id</th>\n",
              "      <th>name</th>\n",
              "      <th>nationality</th>\n",
              "      <th>position</th>\n",
              "      <th>overall</th>\n",
              "      <th>age</th>\n",
              "      <th>hits</th>\n",
              "      <th>potential</th>\n",
              "      <th>team</th>\n",
              "    </tr>\n",
              "  </thead>\n",
              "  <tbody>\n",
              "    <tr>\n",
              "      <th>13140</th>\n",
              "      <td>247411</td>\n",
              "      <td>Altube</td>\n",
              "      <td>Spain</td>\n",
              "      <td>GK</td>\n",
              "      <td>63</td>\n",
              "      <td>20</td>\n",
              "      <td>8</td>\n",
              "      <td>80</td>\n",
              "      <td>Real Madrid</td>\n",
              "    </tr>\n",
              "    <tr>\n",
              "      <th>13165</th>\n",
              "      <td>246606</td>\n",
              "      <td>Fran García</td>\n",
              "      <td>Spain</td>\n",
              "      <td>LB|LW</td>\n",
              "      <td>63</td>\n",
              "      <td>20</td>\n",
              "      <td>2</td>\n",
              "      <td>78</td>\n",
              "      <td>Real Madrid</td>\n",
              "    </tr>\n",
              "  </tbody>\n",
              "</table>\n",
              "</div>\n",
              "      <button class=\"colab-df-convert\" onclick=\"convertToInteractive('df-dea62b0a-fd4e-43eb-9403-918aa676bf7a')\"\n",
              "              title=\"Convert this dataframe to an interactive table.\"\n",
              "              style=\"display:none;\">\n",
              "        \n",
              "  <svg xmlns=\"http://www.w3.org/2000/svg\" height=\"24px\"viewBox=\"0 0 24 24\"\n",
              "       width=\"24px\">\n",
              "    <path d=\"M0 0h24v24H0V0z\" fill=\"none\"/>\n",
              "    <path d=\"M18.56 5.44l.94 2.06.94-2.06 2.06-.94-2.06-.94-.94-2.06-.94 2.06-2.06.94zm-11 1L8.5 8.5l.94-2.06 2.06-.94-2.06-.94L8.5 2.5l-.94 2.06-2.06.94zm10 10l.94 2.06.94-2.06 2.06-.94-2.06-.94-.94-2.06-.94 2.06-2.06.94z\"/><path d=\"M17.41 7.96l-1.37-1.37c-.4-.4-.92-.59-1.43-.59-.52 0-1.04.2-1.43.59L10.3 9.45l-7.72 7.72c-.78.78-.78 2.05 0 2.83L4 21.41c.39.39.9.59 1.41.59.51 0 1.02-.2 1.41-.59l7.78-7.78 2.81-2.81c.8-.78.8-2.07 0-2.86zM5.41 20L4 18.59l7.72-7.72 1.47 1.35L5.41 20z\"/>\n",
              "  </svg>\n",
              "      </button>\n",
              "      \n",
              "  <style>\n",
              "    .colab-df-container {\n",
              "      display:flex;\n",
              "      flex-wrap:wrap;\n",
              "      gap: 12px;\n",
              "    }\n",
              "\n",
              "    .colab-df-convert {\n",
              "      background-color: #E8F0FE;\n",
              "      border: none;\n",
              "      border-radius: 50%;\n",
              "      cursor: pointer;\n",
              "      display: none;\n",
              "      fill: #1967D2;\n",
              "      height: 32px;\n",
              "      padding: 0 0 0 0;\n",
              "      width: 32px;\n",
              "    }\n",
              "\n",
              "    .colab-df-convert:hover {\n",
              "      background-color: #E2EBFA;\n",
              "      box-shadow: 0px 1px 2px rgba(60, 64, 67, 0.3), 0px 1px 3px 1px rgba(60, 64, 67, 0.15);\n",
              "      fill: #174EA6;\n",
              "    }\n",
              "\n",
              "    [theme=dark] .colab-df-convert {\n",
              "      background-color: #3B4455;\n",
              "      fill: #D2E3FC;\n",
              "    }\n",
              "\n",
              "    [theme=dark] .colab-df-convert:hover {\n",
              "      background-color: #434B5C;\n",
              "      box-shadow: 0px 1px 3px 1px rgba(0, 0, 0, 0.15);\n",
              "      filter: drop-shadow(0px 1px 2px rgba(0, 0, 0, 0.3));\n",
              "      fill: #FFFFFF;\n",
              "    }\n",
              "  </style>\n",
              "\n",
              "      <script>\n",
              "        const buttonEl =\n",
              "          document.querySelector('#df-dea62b0a-fd4e-43eb-9403-918aa676bf7a button.colab-df-convert');\n",
              "        buttonEl.style.display =\n",
              "          google.colab.kernel.accessAllowed ? 'block' : 'none';\n",
              "\n",
              "        async function convertToInteractive(key) {\n",
              "          const element = document.querySelector('#df-dea62b0a-fd4e-43eb-9403-918aa676bf7a');\n",
              "          const dataTable =\n",
              "            await google.colab.kernel.invokeFunction('convertToInteractive',\n",
              "                                                     [key], {});\n",
              "          if (!dataTable) return;\n",
              "\n",
              "          const docLinkHtml = 'Like what you see? Visit the ' +\n",
              "            '<a target=\"_blank\" href=https://colab.research.google.com/notebooks/data_table.ipynb>data table notebook</a>'\n",
              "            + ' to learn more about interactive tables.';\n",
              "          element.innerHTML = '';\n",
              "          dataTable['output_type'] = 'display_data';\n",
              "          await google.colab.output.renderOutput(dataTable, element);\n",
              "          const docLink = document.createElement('div');\n",
              "          docLink.innerHTML = docLinkHtml;\n",
              "          element.appendChild(docLink);\n",
              "        }\n",
              "      </script>\n",
              "    </div>\n",
              "  </div>\n",
              "  "
            ]
          },
          "metadata": {},
          "execution_count": 621
        }
      ]
    },
    {
      "cell_type": "code",
      "source": [
        "df.loc[(df['overall'] < 65) & (df['team'] == 'Real Madrid '), ['overall']] = np.nan"
      ],
      "metadata": {
        "id": "ttVyxbPJZ_aD"
      },
      "execution_count": 622,
      "outputs": []
    },
    {
      "cell_type": "code",
      "source": [
        "print(df.isnull().sum())"
      ],
      "metadata": {
        "colab": {
          "base_uri": "https://localhost:8080/"
        },
        "id": "SNPSaqA6QHQ4",
        "outputId": "9e180e77-54d2-40ea-8ebf-e6ea908815f0"
      },
      "execution_count": 623,
      "outputs": [
        {
          "output_type": "stream",
          "name": "stdout",
          "text": [
            "player_id      0\n",
            "name           0\n",
            "nationality    0\n",
            "position       0\n",
            "overall        2\n",
            "age            0\n",
            "hits           0\n",
            "potential      0\n",
            "team           0\n",
            "dtype: int64\n"
          ]
        }
      ]
    },
    {
      "cell_type": "markdown",
      "source": [
        "É feita imputação de dados com a mediana"
      ],
      "metadata": {
        "id": "zvozc9P1MbSE"
      }
    },
    {
      "cell_type": "code",
      "source": [
        "realMadridMean = df[df['team'] == 'Real Madrid ']['overall'].median()\n",
        "realMadridMean"
      ],
      "metadata": {
        "colab": {
          "base_uri": "https://localhost:8080/"
        },
        "id": "Je3gIZzBdDPd",
        "outputId": "05037757-a1cd-4ae4-d78d-c9a9ebbf9459"
      },
      "execution_count": 624,
      "outputs": [
        {
          "output_type": "execute_result",
          "data": {
            "text/plain": [
              "82.0"
            ]
          },
          "metadata": {},
          "execution_count": 624
        }
      ]
    },
    {
      "cell_type": "code",
      "source": [
        "df['overall'].fillna(realMadridMean, inplace=True)"
      ],
      "metadata": {
        "id": "KUFR9_B_aTFd"
      },
      "execution_count": 625,
      "outputs": []
    },
    {
      "cell_type": "code",
      "source": [
        "df[df['team'] == 'Real Madrid ']['overall']\n"
      ],
      "metadata": {
        "colab": {
          "base_uri": "https://localhost:8080/"
        },
        "id": "ttr3P6Pbd08V",
        "outputId": "3a33560e-3ba3-4e1e-c458-adfdce0decc1"
      },
      "execution_count": 626,
      "outputs": [
        {
          "output_type": "execute_result",
          "data": {
            "text/plain": [
              "7        91.0\n",
              "17       89.0\n",
              "18       89.0\n",
              "21       89.0\n",
              "26       88.0\n",
              "28       88.0\n",
              "31       88.0\n",
              "68       86.0\n",
              "94       85.0\n",
              "98       85.0\n",
              "109      85.0\n",
              "135      84.0\n",
              "151      84.0\n",
              "226      82.0\n",
              "229      82.0\n",
              "250      82.0\n",
              "277      82.0\n",
              "289      82.0\n",
              "316      81.0\n",
              "329      81.0\n",
              "469      80.0\n",
              "562      79.0\n",
              "735      78.0\n",
              "806      78.0\n",
              "2240     74.0\n",
              "3358     72.0\n",
              "4288     71.0\n",
              "6037     69.0\n",
              "9430     66.0\n",
              "9448     66.0\n",
              "10743    65.0\n",
              "13140    82.0\n",
              "13165    82.0\n",
              "Name: overall, dtype: float64"
            ]
          },
          "metadata": {},
          "execution_count": 626
        }
      ]
    },
    {
      "cell_type": "markdown",
      "source": [
        "## Normalização e limpeza"
      ],
      "metadata": {
        "id": "1kFvtNNdNLKI"
      }
    },
    {
      "cell_type": "code",
      "source": [
        "scaler = MinMaxScaler()\n",
        "df['overall_norm'] = scaler.fit_transform(df[['overall']])\n",
        "df['overall_norm'].describe()"
      ],
      "metadata": {
        "colab": {
          "base_uri": "https://localhost:8080/"
        },
        "id": "BN3EBj4pNM6w",
        "outputId": "edd2f905-419b-48cf-b7e8-f020772fcaad"
      },
      "execution_count": 627,
      "outputs": [
        {
          "output_type": "execute_result",
          "data": {
            "text/plain": [
              "count    17981.000000\n",
              "mean         0.296749\n",
              "std          0.155954\n",
              "min          0.000000\n",
              "25%          0.184211\n",
              "50%          0.289474\n",
              "75%          0.394737\n",
              "max          1.000000\n",
              "Name: overall_norm, dtype: float64"
            ]
          },
          "metadata": {},
          "execution_count": 627
        }
      ]
    },
    {
      "cell_type": "code",
      "source": [
        "df['overall_norm'].hist()"
      ],
      "metadata": {
        "colab": {
          "base_uri": "https://localhost:8080/",
          "height": 282
        },
        "id": "jWBiXKIjN8r-",
        "outputId": "89ee9726-72b6-4d37-fec8-64181a3df92b"
      },
      "execution_count": 628,
      "outputs": [
        {
          "output_type": "execute_result",
          "data": {
            "text/plain": [
              "<matplotlib.axes._subplots.AxesSubplot at 0x7f67fd056790>"
            ]
          },
          "metadata": {},
          "execution_count": 628
        },
        {
          "output_type": "display_data",
          "data": {
            "text/plain": [
              "<Figure size 432x288 with 1 Axes>"
            ],
            "image/png": "[encoded data removed]"
          },
          "metadata": {
            "needs_background": "light"
          }
        }
      ]
    },
    {
      "cell_type": "code",
      "source": [
        "q1 = df['overall_norm'].quantile(q=0.25)\n",
        "q3 = df['overall_norm'].quantile(q=0.75)\n",
        "iqr = q3 - q1\n",
        "print(iqr)"
      ],
      "metadata": {
        "colab": {
          "base_uri": "https://localhost:8080/"
        },
        "id": "g6LqaqqsOEZC",
        "outputId": "0bfec3d5-5833-4e4a-ef58-ca651c71e3f9"
      },
      "execution_count": 629,
      "outputs": [
        {
          "output_type": "stream",
          "name": "stdout",
          "text": [
            "0.21052631578947367\n"
          ]
        }
      ]
    },
    {
      "cell_type": "code",
      "source": [
        "df[df['overall_norm'] > (q3+1.5*iqr)]"
      ],
      "metadata": {
        "colab": {
          "base_uri": "https://localhost:8080/",
          "height": 424
        },
        "id": "JxWKkIjOOLhP",
        "outputId": "0cb57900-bb56-48a0-e498-17fc5a95610c"
      },
      "execution_count": 630,
      "outputs": [
        {
          "output_type": "execute_result",
          "data": {
            "text/plain": [
              "     player_id               name  nationality   position  overall  age  hits  \\\n",
              "0       158023       Lionel Messi    Argentina   ST|CF|RW     94.0   33   299   \n",
              "1        20801  Cristiano Ronaldo     Portugal      ST|LW     93.0   35   276   \n",
              "2       190871          Neymar Jr       Brazil     CAM|LW     92.0   28   186   \n",
              "3       203376    Virgil van Dijk  Netherlands         CB     91.0   29   127   \n",
              "4       200389          Jan Oblak     Slovenia         GK     91.0   27    47   \n",
              "..         ...                ...          ...        ...      ...  ...   ...   \n",
              "218     163705     Steve Mandanda       France         GK     83.0   35     4   \n",
              "219     163587  Kasper Schmeichel      Denmark         GK     83.0   33    41   \n",
              "220     157481        Raúl Albiol        Spain         CB     83.0   34     7   \n",
              "221     146562      Santi Cazorla        Spain  CDM|LM|CM     83.0   35    22   \n",
              "222       1179   Gianluigi Buffon        Italy         GK     83.0   42    50   \n",
              "\n",
              "     potential                     team  overall_norm  \n",
              "0           94            FC Barcelona       1.000000  \n",
              "1           93                Juventus       0.973684  \n",
              "2           92     Paris Saint-Germain       0.947368  \n",
              "3           92               Liverpool       0.921053  \n",
              "4           93         Atlético Madrid       0.921053  \n",
              "..         ...                      ...           ...  \n",
              "218         83  Olympique de Marseille       0.710526  \n",
              "219         83          Leicester City       0.710526  \n",
              "220         83           Villarreal CF       0.710526  \n",
              "221         83           Villarreal CF       0.710526  \n",
              "222         83                Juventus       0.710526  \n",
              "\n",
              "[223 rows x 10 columns]"
            ],
            "text/html": [
              "\n",
              "  <div id=\"df-b81d2926-233d-44a7-a5ac-61e4c801b7b5\">\n",
              "    <div class=\"colab-df-container\">\n",
              "      <div>\n",
              "<style scoped>\n",
              "    .dataframe tbody tr th:only-of-type {\n",
              "        vertical-align: middle;\n",
              "    }\n",
              "\n",
              "    .dataframe tbody tr th {\n",
              "        vertical-align: top;\n",
              "    }\n",
              "\n",
              "    .dataframe thead th {\n",
              "        text-align: right;\n",
              "    }\n",
              "</style>\n",
              "<table border=\"1\" class=\"dataframe\">\n",
              "  <thead>\n",
              "    <tr style=\"text-align: right;\">\n",
              "      <th></th>\n",
              "      <th>player_id</th>\n",
              "      <th>name</th>\n",
              "      <th>nationality</th>\n",
              "      <th>position</th>\n",
              "      <th>overall</th>\n",
              "      <th>age</th>\n",
              "      <th>hits</th>\n",
              "      <th>potential</th>\n",
              "      <th>team</th>\n",
              "      <th>overall_norm</th>\n",
              "    </tr>\n",
              "  </thead>\n",
              "  <tbody>\n",
              "    <tr>\n",
              "      <th>0</th>\n",
              "      <td>158023</td>\n",
              "      <td>Lionel Messi</td>\n",
              "      <td>Argentina</td>\n",
              "      <td>ST|CF|RW</td>\n",
              "      <td>94.0</td>\n",
              "      <td>33</td>\n",
              "      <td>299</td>\n",
              "      <td>94</td>\n",
              "      <td>FC Barcelona</td>\n",
              "      <td>1.000000</td>\n",
              "    </tr>\n",
              "    <tr>\n",
              "      <th>1</th>\n",
              "      <td>20801</td>\n",
              "      <td>Cristiano Ronaldo</td>\n",
              "      <td>Portugal</td>\n",
              "      <td>ST|LW</td>\n",
              "      <td>93.0</td>\n",
              "      <td>35</td>\n",
              "      <td>276</td>\n",
              "      <td>93</td>\n",
              "      <td>Juventus</td>\n",
              "      <td>0.973684</td>\n",
              "    </tr>\n",
              "    <tr>\n",
              "      <th>2</th>\n",
              "      <td>190871</td>\n",
              "      <td>Neymar Jr</td>\n",
              "      <td>Brazil</td>\n",
              "      <td>CAM|LW</td>\n",
              "      <td>92.0</td>\n",
              "      <td>28</td>\n",
              "      <td>186</td>\n",
              "      <td>92</td>\n",
              "      <td>Paris Saint-Germain</td>\n",
              "      <td>0.947368</td>\n",
              "    </tr>\n",
              "    <tr>\n",
              "      <th>3</th>\n",
              "      <td>203376</td>\n",
              "      <td>Virgil van Dijk</td>\n",
              "      <td>Netherlands</td>\n",
              "      <td>CB</td>\n",
              "      <td>91.0</td>\n",
              "      <td>29</td>\n",
              "      <td>127</td>\n",
              "      <td>92</td>\n",
              "      <td>Liverpool</td>\n",
              "      <td>0.921053</td>\n",
              "    </tr>\n",
              "    <tr>\n",
              "      <th>4</th>\n",
              "      <td>200389</td>\n",
              "      <td>Jan Oblak</td>\n",
              "      <td>Slovenia</td>\n",
              "      <td>GK</td>\n",
              "      <td>91.0</td>\n",
              "      <td>27</td>\n",
              "      <td>47</td>\n",
              "      <td>93</td>\n",
              "      <td>Atlético Madrid</td>\n",
              "      <td>0.921053</td>\n",
              "    </tr>\n",
              "    <tr>\n",
              "      <th>...</th>\n",
              "      <td>...</td>\n",
              "      <td>...</td>\n",
              "      <td>...</td>\n",
              "      <td>...</td>\n",
              "      <td>...</td>\n",
              "      <td>...</td>\n",
              "      <td>...</td>\n",
              "      <td>...</td>\n",
              "      <td>...</td>\n",
              "      <td>...</td>\n",
              "    </tr>\n",
              "    <tr>\n",
              "      <th>218</th>\n",
              "      <td>163705</td>\n",
              "      <td>Steve Mandanda</td>\n",
              "      <td>France</td>\n",
              "      <td>GK</td>\n",
              "      <td>83.0</td>\n",
              "      <td>35</td>\n",
              "      <td>4</td>\n",
              "      <td>83</td>\n",
              "      <td>Olympique de Marseille</td>\n",
              "      <td>0.710526</td>\n",
              "    </tr>\n",
              "    <tr>\n",
              "      <th>219</th>\n",
              "      <td>163587</td>\n",
              "      <td>Kasper Schmeichel</td>\n",
              "      <td>Denmark</td>\n",
              "      <td>GK</td>\n",
              "      <td>83.0</td>\n",
              "      <td>33</td>\n",
              "      <td>41</td>\n",
              "      <td>83</td>\n",
              "      <td>Leicester City</td>\n",
              "      <td>0.710526</td>\n",
              "    </tr>\n",
              "    <tr>\n",
              "      <th>220</th>\n",
              "      <td>157481</td>\n",
              "      <td>Raúl Albiol</td>\n",
              "      <td>Spain</td>\n",
              "      <td>CB</td>\n",
              "      <td>83.0</td>\n",
              "      <td>34</td>\n",
              "      <td>7</td>\n",
              "      <td>83</td>\n",
              "      <td>Villarreal CF</td>\n",
              "      <td>0.710526</td>\n",
              "    </tr>\n",
              "    <tr>\n",
              "      <th>221</th>\n",
              "      <td>146562</td>\n",
              "      <td>Santi Cazorla</td>\n",
              "      <td>Spain</td>\n",
              "      <td>CDM|LM|CM</td>\n",
              "      <td>83.0</td>\n",
              "      <td>35</td>\n",
              "      <td>22</td>\n",
              "      <td>83</td>\n",
              "      <td>Villarreal CF</td>\n",
              "      <td>0.710526</td>\n",
              "    </tr>\n",
              "    <tr>\n",
              "      <th>222</th>\n",
              "      <td>1179</td>\n",
              "      <td>Gianluigi Buffon</td>\n",
              "      <td>Italy</td>\n",
              "      <td>GK</td>\n",
              "      <td>83.0</td>\n",
              "      <td>42</td>\n",
              "      <td>50</td>\n",
              "      <td>83</td>\n",
              "      <td>Juventus</td>\n",
              "      <td>0.710526</td>\n",
              "    </tr>\n",
              "  </tbody>\n",
              "</table>\n",
              "<p>223 rows × 10 columns</p>\n",
              "</div>\n",
              "      <button class=\"colab-df-convert\" onclick=\"convertToInteractive('df-b81d2926-233d-44a7-a5ac-61e4c801b7b5')\"\n",
              "              title=\"Convert this dataframe to an interactive table.\"\n",
              "              style=\"display:none;\">\n",
              "        \n",
              "  <svg xmlns=\"http://www.w3.org/2000/svg\" height=\"24px\"viewBox=\"0 0 24 24\"\n",
              "       width=\"24px\">\n",
              "    <path d=\"M0 0h24v24H0V0z\" fill=\"none\"/>\n",
              "    <path d=\"M18.56 5.44l.94 2.06.94-2.06 2.06-.94-2.06-.94-.94-2.06-.94 2.06-2.06.94zm-11 1L8.5 8.5l.94-2.06 2.06-.94-2.06-.94L8.5 2.5l-.94 2.06-2.06.94zm10 10l.94 2.06.94-2.06 2.06-.94-2.06-.94-.94-2.06-.94 2.06-2.06.94z\"/><path d=\"M17.41 7.96l-1.37-1.37c-.4-.4-.92-.59-1.43-.59-.52 0-1.04.2-1.43.59L10.3 9.45l-7.72 7.72c-.78.78-.78 2.05 0 2.83L4 21.41c.39.39.9.59 1.41.59.51 0 1.02-.2 1.41-.59l7.78-7.78 2.81-2.81c.8-.78.8-2.07 0-2.86zM5.41 20L4 18.59l7.72-7.72 1.47 1.35L5.41 20z\"/>\n",
              "  </svg>\n",
              "      </button>\n",
              "      \n",
              "  <style>\n",
              "    .colab-df-container {\n",
              "      display:flex;\n",
              "      flex-wrap:wrap;\n",
              "      gap: 12px;\n",
              "    }\n",
              "\n",
              "    .colab-df-convert {\n",
              "      background-color: #E8F0FE;\n",
              "      border: none;\n",
              "      border-radius: 50%;\n",
              "      cursor: pointer;\n",
              "      display: none;\n",
              "      fill: #1967D2;\n",
              "      height: 32px;\n",
              "      padding: 0 0 0 0;\n",
              "      width: 32px;\n",
              "    }\n",
              "\n",
              "    .colab-df-convert:hover {\n",
              "      background-color: #E2EBFA;\n",
              "      box-shadow: 0px 1px 2px rgba(60, 64, 67, 0.3), 0px 1px 3px 1px rgba(60, 64, 67, 0.15);\n",
              "      fill: #174EA6;\n",
              "    }\n",
              "\n",
              "    [theme=dark] .colab-df-convert {\n",
              "      background-color: #3B4455;\n",
              "      fill: #D2E3FC;\n",
              "    }\n",
              "\n",
              "    [theme=dark] .colab-df-convert:hover {\n",
              "      background-color: #434B5C;\n",
              "      box-shadow: 0px 1px 3px 1px rgba(0, 0, 0, 0.15);\n",
              "      filter: drop-shadow(0px 1px 2px rgba(0, 0, 0, 0.3));\n",
              "      fill: #FFFFFF;\n",
              "    }\n",
              "  </style>\n",
              "\n",
              "      <script>\n",
              "        const buttonEl =\n",
              "          document.querySelector('#df-b81d2926-233d-44a7-a5ac-61e4c801b7b5 button.colab-df-convert');\n",
              "        buttonEl.style.display =\n",
              "          google.colab.kernel.accessAllowed ? 'block' : 'none';\n",
              "\n",
              "        async function convertToInteractive(key) {\n",
              "          const element = document.querySelector('#df-b81d2926-233d-44a7-a5ac-61e4c801b7b5');\n",
              "          const dataTable =\n",
              "            await google.colab.kernel.invokeFunction('convertToInteractive',\n",
              "                                                     [key], {});\n",
              "          if (!dataTable) return;\n",
              "\n",
              "          const docLinkHtml = 'Like what you see? Visit the ' +\n",
              "            '<a target=\"_blank\" href=https://colab.research.google.com/notebooks/data_table.ipynb>data table notebook</a>'\n",
              "            + ' to learn more about interactive tables.';\n",
              "          element.innerHTML = '';\n",
              "          dataTable['output_type'] = 'display_data';\n",
              "          await google.colab.output.renderOutput(dataTable, element);\n",
              "          const docLink = document.createElement('div');\n",
              "          docLink.innerHTML = docLinkHtml;\n",
              "          element.appendChild(docLink);\n",
              "        }\n",
              "      </script>\n",
              "    </div>\n",
              "  </div>\n",
              "  "
            ]
          },
          "metadata": {},
          "execution_count": 630
        }
      ]
    },
    {
      "cell_type": "markdown",
      "source": [
        "## Discretização"
      ],
      "metadata": {
        "id": "zTb71fF2RPaG"
      }
    },
    {
      "cell_type": "markdown",
      "source": [
        "É feita a discritização com 5 bins com mesmo intervalo"
      ],
      "metadata": {
        "id": "ImDEjvWbSODs"
      }
    },
    {
      "cell_type": "code",
      "source": [
        "df['potential_dist'] = pd.cut(df['potential'], 5)"
      ],
      "metadata": {
        "id": "9GAx8P74RTGL"
      },
      "execution_count": 631,
      "outputs": []
    },
    {
      "cell_type": "code",
      "source": [
        "df['potential_dist'].value_counts()"
      ],
      "metadata": {
        "colab": {
          "base_uri": "https://localhost:8080/"
        },
        "id": "-UOL5fOTRhZc",
        "outputId": "50c5c061-0ef5-49de-a331-dbfce7ee9b8e"
      },
      "execution_count": 632,
      "outputs": [
        {
          "output_type": "execute_result",
          "data": {
            "text/plain": [
              "(64.6, 72.2]      8325\n",
              "(72.2, 79.8]      5832\n",
              "(56.962, 64.6]    1913\n",
              "(79.8, 87.4]      1788\n",
              "(87.4, 95.0]       123\n",
              "Name: potential_dist, dtype: int64"
            ]
          },
          "metadata": {},
          "execution_count": 632
        }
      ]
    },
    {
      "cell_type": "code",
      "source": [
        "df['potential_dist'].describe()"
      ],
      "metadata": {
        "colab": {
          "base_uri": "https://localhost:8080/"
        },
        "id": "B6PZT3JaSKVi",
        "outputId": "05c1272a-bab1-48c8-e629-6d80b415891c"
      },
      "execution_count": 633,
      "outputs": [
        {
          "output_type": "execute_result",
          "data": {
            "text/plain": [
              "count            17981\n",
              "unique               5\n",
              "top       (64.6, 72.2]\n",
              "freq              8325\n",
              "Name: potential_dist, dtype: object"
            ]
          },
          "metadata": {},
          "execution_count": 633
        }
      ]
    },
    {
      "cell_type": "markdown",
      "source": [
        "# 3. Estatísticas descritivas com visualizações"
      ],
      "metadata": {
        "id": "3i5UdlX_TFmO"
      }
    },
    {
      "cell_type": "code",
      "source": [
        "df.describe()"
      ],
      "metadata": {
        "colab": {
          "base_uri": "https://localhost:8080/",
          "height": 300
        },
        "id": "gDep4lHCTJlE",
        "outputId": "1db9bd50-f01d-4907-e17e-b58586464cdf"
      },
      "execution_count": 634,
      "outputs": [
        {
          "output_type": "execute_result",
          "data": {
            "text/plain": [
              "           player_id       overall           age          hits     potential  \\\n",
              "count   17981.000000  17981.000000  17981.000000  17981.000000  17981.000000   \n",
              "mean   220912.660531     67.276458     26.311440      2.689450     71.738057   \n",
              "std     27738.072671      5.926256      4.556077     10.846286      5.961968   \n",
              "min        41.000000     56.000000     17.000000      0.000000     57.000000   \n",
              "25%    204881.000000     63.000000     23.000000      0.000000     67.000000   \n",
              "50%    226753.000000     67.000000     26.000000      0.000000     71.000000   \n",
              "75%    241587.000000     71.000000     30.000000      2.000000     76.000000   \n",
              "max    256469.000000     94.000000     43.000000    371.000000     95.000000   \n",
              "\n",
              "       overall_norm  \n",
              "count  17981.000000  \n",
              "mean       0.296749  \n",
              "std        0.155954  \n",
              "min        0.000000  \n",
              "25%        0.184211  \n",
              "50%        0.289474  \n",
              "75%        0.394737  \n",
              "max        1.000000  "
            ],
            "text/html": [
              "\n",
              "  <div id=\"df-65e84fa6-4c73-4d02-8452-d3ebdb34d84c\">\n",
              "    <div class=\"colab-df-container\">\n",
              "      <div>\n",
              "<style scoped>\n",
              "    .dataframe tbody tr th:only-of-type {\n",
              "        vertical-align: middle;\n",
              "    }\n",
              "\n",
              "    .dataframe tbody tr th {\n",
              "        vertical-align: top;\n",
              "    }\n",
              "\n",
              "    .dataframe thead th {\n",
              "        text-align: right;\n",
              "    }\n",
              "</style>\n",
              "<table border=\"1\" class=\"dataframe\">\n",
              "  <thead>\n",
              "    <tr style=\"text-align: right;\">\n",
              "      <th></th>\n",
              "      <th>player_id</th>\n",
              "      <th>overall</th>\n",
              "      <th>age</th>\n",
              "      <th>hits</th>\n",
              "      <th>potential</th>\n",
              "      <th>overall_norm</th>\n",
              "    </tr>\n",
              "  </thead>\n",
              "  <tbody>\n",
              "    <tr>\n",
              "      <th>count</th>\n",
              "      <td>17981.000000</td>\n",
              "      <td>17981.000000</td>\n",
              "      <td>17981.000000</td>\n",
              "      <td>17981.000000</td>\n",
              "      <td>17981.000000</td>\n",
              "      <td>17981.000000</td>\n",
              "    </tr>\n",
              "    <tr>\n",
              "      <th>mean</th>\n",
              "      <td>220912.660531</td>\n",
              "      <td>67.276458</td>\n",
              "      <td>26.311440</td>\n",
              "      <td>2.689450</td>\n",
              "      <td>71.738057</td>\n",
              "      <td>0.296749</td>\n",
              "    </tr>\n",
              "    <tr>\n",
              "      <th>std</th>\n",
              "      <td>27738.072671</td>\n",
              "      <td>5.926256</td>\n",
              "      <td>4.556077</td>\n",
              "      <td>10.846286</td>\n",
              "      <td>5.961968</td>\n",
              "      <td>0.155954</td>\n",
              "    </tr>\n",
              "    <tr>\n",
              "      <th>min</th>\n",
              "      <td>41.000000</td>\n",
              "      <td>56.000000</td>\n",
              "      <td>17.000000</td>\n",
              "      <td>0.000000</td>\n",
              "      <td>57.000000</td>\n",
              "      <td>0.000000</td>\n",
              "    </tr>\n",
              "    <tr>\n",
              "      <th>25%</th>\n",
              "      <td>204881.000000</td>\n",
              "      <td>63.000000</td>\n",
              "      <td>23.000000</td>\n",
              "      <td>0.000000</td>\n",
              "      <td>67.000000</td>\n",
              "      <td>0.184211</td>\n",
              "    </tr>\n",
              "    <tr>\n",
              "      <th>50%</th>\n",
              "      <td>226753.000000</td>\n",
              "      <td>67.000000</td>\n",
              "      <td>26.000000</td>\n",
              "      <td>0.000000</td>\n",
              "      <td>71.000000</td>\n",
              "      <td>0.289474</td>\n",
              "    </tr>\n",
              "    <tr>\n",
              "      <th>75%</th>\n",
              "      <td>241587.000000</td>\n",
              "      <td>71.000000</td>\n",
              "      <td>30.000000</td>\n",
              "      <td>2.000000</td>\n",
              "      <td>76.000000</td>\n",
              "      <td>0.394737</td>\n",
              "    </tr>\n",
              "    <tr>\n",
              "      <th>max</th>\n",
              "      <td>256469.000000</td>\n",
              "      <td>94.000000</td>\n",
              "      <td>43.000000</td>\n",
              "      <td>371.000000</td>\n",
              "      <td>95.000000</td>\n",
              "      <td>1.000000</td>\n",
              "    </tr>\n",
              "  </tbody>\n",
              "</table>\n",
              "</div>\n",
              "      <button class=\"colab-df-convert\" onclick=\"convertToInteractive('df-65e84fa6-4c73-4d02-8452-d3ebdb34d84c')\"\n",
              "              title=\"Convert this dataframe to an interactive table.\"\n",
              "              style=\"display:none;\">\n",
              "        \n",
              "  <svg xmlns=\"http://www.w3.org/2000/svg\" height=\"24px\"viewBox=\"0 0 24 24\"\n",
              "       width=\"24px\">\n",
              "    <path d=\"M0 0h24v24H0V0z\" fill=\"none\"/>\n",
              "    <path d=\"M18.56 5.44l.94 2.06.94-2.06 2.06-.94-2.06-.94-.94-2.06-.94 2.06-2.06.94zm-11 1L8.5 8.5l.94-2.06 2.06-.94-2.06-.94L8.5 2.5l-.94 2.06-2.06.94zm10 10l.94 2.06.94-2.06 2.06-.94-2.06-.94-.94-2.06-.94 2.06-2.06.94z\"/><path d=\"M17.41 7.96l-1.37-1.37c-.4-.4-.92-.59-1.43-.59-.52 0-1.04.2-1.43.59L10.3 9.45l-7.72 7.72c-.78.78-.78 2.05 0 2.83L4 21.41c.39.39.9.59 1.41.59.51 0 1.02-.2 1.41-.59l7.78-7.78 2.81-2.81c.8-.78.8-2.07 0-2.86zM5.41 20L4 18.59l7.72-7.72 1.47 1.35L5.41 20z\"/>\n",
              "  </svg>\n",
              "      </button>\n",
              "      \n",
              "  <style>\n",
              "    .colab-df-container {\n",
              "      display:flex;\n",
              "      flex-wrap:wrap;\n",
              "      gap: 12px;\n",
              "    }\n",
              "\n",
              "    .colab-df-convert {\n",
              "      background-color: #E8F0FE;\n",
              "      border: none;\n",
              "      border-radius: 50%;\n",
              "      cursor: pointer;\n",
              "      display: none;\n",
              "      fill: #1967D2;\n",
              "      height: 32px;\n",
              "      padding: 0 0 0 0;\n",
              "      width: 32px;\n",
              "    }\n",
              "\n",
              "    .colab-df-convert:hover {\n",
              "      background-color: #E2EBFA;\n",
              "      box-shadow: 0px 1px 2px rgba(60, 64, 67, 0.3), 0px 1px 3px 1px rgba(60, 64, 67, 0.15);\n",
              "      fill: #174EA6;\n",
              "    }\n",
              "\n",
              "    [theme=dark] .colab-df-convert {\n",
              "      background-color: #3B4455;\n",
              "      fill: #D2E3FC;\n",
              "    }\n",
              "\n",
              "    [theme=dark] .colab-df-convert:hover {\n",
              "      background-color: #434B5C;\n",
              "      box-shadow: 0px 1px 3px 1px rgba(0, 0, 0, 0.15);\n",
              "      filter: drop-shadow(0px 1px 2px rgba(0, 0, 0, 0.3));\n",
              "      fill: #FFFFFF;\n",
              "    }\n",
              "  </style>\n",
              "\n",
              "      <script>\n",
              "        const buttonEl =\n",
              "          document.querySelector('#df-65e84fa6-4c73-4d02-8452-d3ebdb34d84c button.colab-df-convert');\n",
              "        buttonEl.style.display =\n",
              "          google.colab.kernel.accessAllowed ? 'block' : 'none';\n",
              "\n",
              "        async function convertToInteractive(key) {\n",
              "          const element = document.querySelector('#df-65e84fa6-4c73-4d02-8452-d3ebdb34d84c');\n",
              "          const dataTable =\n",
              "            await google.colab.kernel.invokeFunction('convertToInteractive',\n",
              "                                                     [key], {});\n",
              "          if (!dataTable) return;\n",
              "\n",
              "          const docLinkHtml = 'Like what you see? Visit the ' +\n",
              "            '<a target=\"_blank\" href=https://colab.research.google.com/notebooks/data_table.ipynb>data table notebook</a>'\n",
              "            + ' to learn more about interactive tables.';\n",
              "          element.innerHTML = '';\n",
              "          dataTable['output_type'] = 'display_data';\n",
              "          await google.colab.output.renderOutput(dataTable, element);\n",
              "          const docLink = document.createElement('div');\n",
              "          docLink.innerHTML = docLinkHtml;\n",
              "          element.appendChild(docLink);\n",
              "        }\n",
              "      </script>\n",
              "    </div>\n",
              "  </div>\n",
              "  "
            ]
          },
          "metadata": {},
          "execution_count": 634
        }
      ]
    },
    {
      "cell_type": "code",
      "source": [
        "numero_de_paises = df['nationality'].nunique()\n",
        "numero_de_paises"
      ],
      "metadata": {
        "colab": {
          "base_uri": "https://localhost:8080/"
        },
        "id": "cOdRra-WUqn9",
        "outputId": "f3d9d0eb-e3bb-44bb-f136-1f8cf4b13a75"
      },
      "execution_count": 635,
      "outputs": [
        {
          "output_type": "execute_result",
          "data": {
            "text/plain": [
              "162"
            ]
          },
          "metadata": {},
          "execution_count": 635
        }
      ]
    },
    {
      "cell_type": "code",
      "source": [
        "top_paises = df['nationality'].value_counts().head(20)\n",
        "\n",
        "top_paises"
      ],
      "metadata": {
        "colab": {
          "base_uri": "https://localhost:8080/"
        },
        "id": "aiocmaQlXRxR",
        "outputId": "1a298b8e-f137-469f-c3bd-395e8727cfe2"
      },
      "execution_count": 636,
      "outputs": [
        {
          "output_type": "execute_result",
          "data": {
            "text/plain": [
              "England           1496\n",
              "Germany           1138\n",
              "Spain             1055\n",
              "Argentina          970\n",
              "France             948\n",
              "Brazil             894\n",
              "Italy              637\n",
              "Colombia           561\n",
              "Japan              448\n",
              "Netherlands        418\n",
              "Uruguay            352\n",
              "Portugal           351\n",
              "Mexico             329\n",
              "Chile              318\n",
              "Austria            306\n",
              "Norway             293\n",
              "Korea Republic     286\n",
              "Poland             283\n",
              "United States      282\n",
              "Denmark            275\n",
              "Name: nationality, dtype: int64"
            ]
          },
          "metadata": {},
          "execution_count": 636
        }
      ]
    },
    {
      "cell_type": "code",
      "source": [
        "top_paises = df['nationality'].value_counts().head(20)\n",
        "plt.figure(figsize=(8,6))\n",
        "plt.xticks(rotation=75)\n",
        "plt.title(\"Top Countries\")\n",
        "sns.barplot(top_paises.index.remove_unused_categories(), top_paises)"
      ],
      "metadata": {
        "colab": {
          "base_uri": "https://localhost:8080/",
          "height": 526
        },
        "id": "Fnt772JbXnJJ",
        "outputId": "bf957189-570b-4736-edf7-6b860f9d0fcf"
      },
      "execution_count": 637,
      "outputs": [
        {
          "output_type": "stream",
          "name": "stderr",
          "text": [
            "/usr/local/lib/python3.7/dist-packages/seaborn/_decorators.py:43: FutureWarning: Pass the following variables as keyword args: x, y. From version 0.12, the only valid positional argument will be `data`, and passing other arguments without an explicit keyword will result in an error or misinterpretation.\n",
            "  FutureWarning\n"
          ]
        },
        {
          "output_type": "execute_result",
          "data": {
            "text/plain": [
              "<matplotlib.axes._subplots.AxesSubplot at 0x7f67fd202dd0>"
            ]
          },
          "metadata": {},
          "execution_count": 637
        },
        {
          "output_type": "display_data",
          "data": {
            "text/plain": [
              "<Figure size 576x432 with 1 Axes>"
            ],
            "image/png": "[encoded data removed]"
          },
          "metadata": {
            "needs_background": "light"
          }
        }
      ]
    },
    {
      "cell_type": "code",
      "source": [
        "plt.figure(figsize=(8, 6))\n",
        "\n",
        "plt.xlabel('Idade')\n",
        "plt.ylabel('Quantidade')\n",
        "\n",
        "plt.hist(df['age'], bins=np.arange(15,50,5), color='blue');"
      ],
      "metadata": {
        "colab": {
          "base_uri": "https://localhost:8080/",
          "height": 388
        },
        "id": "95YfoKFVivEa",
        "outputId": "1eb11ff9-576f-4419-c77b-16b5a7c4ed28"
      },
      "execution_count": 638,
      "outputs": [
        {
          "output_type": "display_data",
          "data": {
            "text/plain": [
              "<Figure size 576x432 with 1 Axes>"
            ],
            "image/png": "[encoded data removed]"
          },
          "metadata": {
            "needs_background": "light"
          }
        }
      ]
    },
    {
      "cell_type": "code",
      "source": [
        "sns.countplot(x=df['age'])\n",
        "plt.xticks(rotation=90);"
      ],
      "metadata": {
        "colab": {
          "base_uri": "https://localhost:8080/",
          "height": 282
        },
        "id": "t2PdxpcRjBkz",
        "outputId": "166390c0-c84e-40d3-ae07-36fc692c431c"
      },
      "execution_count": 639,
      "outputs": [
        {
          "output_type": "display_data",
          "data": {
            "text/plain": [
              "<Figure size 432x288 with 1 Axes>"
            ],
            "image/png": "[encoded data removed]"
          },
          "metadata": {
            "needs_background": "light"
          }
        }
      ]
    },
    {
      "cell_type": "code",
      "source": [
        "df = df.drop('overall_norm', axis=1)\n",
        "sns.heatmap(data=df.corr(), cmap=\"YlGnBu\", annot=True)\n"
      ],
      "metadata": {
        "colab": {
          "base_uri": "https://localhost:8080/",
          "height": 287
        },
        "id": "lGi2pJD7jiRZ",
        "outputId": "32d5d44f-3054-4ca5-c24a-f365c0d853d2"
      },
      "execution_count": 640,
      "outputs": [
        {
          "output_type": "execute_result",
          "data": {
            "text/plain": [
              "<matplotlib.axes._subplots.AxesSubplot at 0x7f67fcd30a90>"
            ]
          },
          "metadata": {},
          "execution_count": 640
        },
        {
          "output_type": "display_data",
          "data": {
            "text/plain": [
              "<Figure size 432x288 with 2 Axes>"
            ],
            "image/png": "[encoded data removed]"
          },
          "metadata": {
            "needs_background": "light"
          }
        }
      ]
    },
    {
      "cell_type": "markdown",
      "source": [
        "# 4. Teste de Hipótese"
      ],
      "metadata": {
        "id": "Cep1RBKtoL1u"
      }
    },
    {
      "cell_type": "markdown",
      "source": [
        "H0: Jogadores brasileiros têm overall semelhante ao dos franceses.\n",
        "H1: Jogadores brasileiros são melhores (têm mais overall) que jogadores franceses?"
      ],
      "metadata": {
        "id": "pYI25E_797X7"
      }
    },
    {
      "cell_type": "code",
      "source": [
        "def check_normality(data):\n",
        "    test_stat_normality, p_value_normality=stats.shapiro(data)\n",
        "    print(\"p value:%.12f\" % p_value_normality)\n",
        "    if p_value_normality <0.05:\n",
        "        print(\"Reject null hypothesis >> The data is not normally distributed\")\n",
        "    else:\n",
        "        print(\"Fail to reject null hypothesis >> The data is normally distributed\")"
      ],
      "metadata": {
        "id": "EomqI8DzoPZd"
      },
      "execution_count": 641,
      "outputs": []
    },
    {
      "cell_type": "code",
      "source": [
        "def check_variance_homogeneity(group1, group2):\n",
        "    test_stat_var, p_value_var= stats.levene(group1,group2)\n",
        "    print(\"p value:%.12f\" % p_value_var)\n",
        "    if p_value_var <0.05:\n",
        "        print(\"Reject null hypothesis >> The variances of the samples are different.\")\n",
        "    else:\n",
        "        print(\"Fail to reject null hypothesis >> The variances of the samples are same.\")"
      ],
      "metadata": {
        "id": "W6xqQRYZ1uqa"
      },
      "execution_count": 642,
      "outputs": []
    },
    {
      "cell_type": "code",
      "source": [
        "jogadores_brasileiros = df[df['nationality'] == 'Brazil']['overall']\n",
        "jogadores_franceses = df[df['nationality'] == 'France']['overall']"
      ],
      "metadata": {
        "id": "9FPCCHNu1w52"
      },
      "execution_count": 643,
      "outputs": []
    },
    {
      "cell_type": "code",
      "source": [
        "jogadores_brasileiros.count()"
      ],
      "metadata": {
        "colab": {
          "base_uri": "https://localhost:8080/"
        },
        "id": "HC1mWAHS4iIr",
        "outputId": "5c17a85f-0412-45e6-994b-82bc2ad3bd6d"
      },
      "execution_count": 644,
      "outputs": [
        {
          "output_type": "execute_result",
          "data": {
            "text/plain": [
              "894"
            ]
          },
          "metadata": {},
          "execution_count": 644
        }
      ]
    },
    {
      "cell_type": "code",
      "source": [
        "jogadores_franceses.count()"
      ],
      "metadata": {
        "colab": {
          "base_uri": "https://localhost:8080/"
        },
        "id": "W7YJnBtS4tRM",
        "outputId": "61a01399-95a4-4ba9-8624-bb8392c38228"
      },
      "execution_count": 645,
      "outputs": [
        {
          "output_type": "execute_result",
          "data": {
            "text/plain": [
              "948"
            ]
          },
          "metadata": {},
          "execution_count": 645
        }
      ]
    },
    {
      "cell_type": "code",
      "source": [
        "check_normality(jogadores_brasileiros)"
      ],
      "metadata": {
        "colab": {
          "base_uri": "https://localhost:8080/"
        },
        "id": "YlelPFJ64y-Z",
        "outputId": "5eea1310-6c6b-4354-8976-fdbffd293d26"
      },
      "execution_count": 646,
      "outputs": [
        {
          "output_type": "stream",
          "name": "stdout",
          "text": [
            "p value:0.000003308748\n",
            "Reject null hypothesis >> The data is not normally distributed\n"
          ]
        }
      ]
    },
    {
      "cell_type": "code",
      "source": [
        "check_normality(jogadores_franceses)"
      ],
      "metadata": {
        "colab": {
          "base_uri": "https://localhost:8080/"
        },
        "id": "BsCvqKQF43HZ",
        "outputId": "82aa2920-4576-42f3-c7fd-b28d6439cdee"
      },
      "execution_count": 647,
      "outputs": [
        {
          "output_type": "stream",
          "name": "stdout",
          "text": [
            "p value:0.000000000047\n",
            "Reject null hypothesis >> The data is not normally distributed\n"
          ]
        }
      ]
    },
    {
      "cell_type": "code",
      "source": [
        "check_variance_homogeneity(jogadores_brasileiros, jogadores_franceses)"
      ],
      "metadata": {
        "colab": {
          "base_uri": "https://localhost:8080/"
        },
        "id": "oU4W-ETr6FIv",
        "outputId": "b2eae5a9-d58d-413b-a953-cb6bce920f43"
      },
      "execution_count": 648,
      "outputs": [
        {
          "output_type": "stream",
          "name": "stdout",
          "text": [
            "p value:0.000000000031\n",
            "Reject null hypothesis >> The variances of the samples are different.\n"
          ]
        }
      ]
    },
    {
      "cell_type": "code",
      "source": [
        "ttest,pvalue = stats.mannwhitneyu(jogadores_brasileiros,jogadores_franceses, alternative=\"two-sided\")\n",
        "print(\"p-value:%.4f\" % pvalue)\n",
        "if pvalue <0.05:\n",
        "    print(\"Reject null hypothesis\")\n",
        "else:\n",
        "    print(\"Fail to reject null hypothesis\")"
      ],
      "metadata": {
        "colab": {
          "base_uri": "https://localhost:8080/"
        },
        "id": "uYTHterl83dv",
        "outputId": "d069de6e-b19f-4871-96e5-0f37bc0c0161"
      },
      "execution_count": 649,
      "outputs": [
        {
          "output_type": "stream",
          "name": "stdout",
          "text": [
            "p-value:0.0000\n",
            "Reject null hypothesis\n"
          ]
        }
      ]
    },
    {
      "cell_type": "markdown",
      "source": [
        "Aqui é possível observar que os brasileiros têm overall maior que os franceses\n",
        "\n"
      ],
      "metadata": {
        "id": "Fjb1x_RF-Pnw"
      }
    }
  ]
}