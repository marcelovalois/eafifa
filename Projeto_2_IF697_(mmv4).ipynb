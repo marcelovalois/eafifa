{
  "nbformat": 4,
  "nbformat_minor": 0,
  "metadata": {
    "colab": {
      "provenance": [],
      "collapsed_sections": [
        "Wo60-81WDQqK",
        "VE6pHPSuDVM1",
        "yWRNPO4LP39H",
        "1kFvtNNdNLKI",
        "zTb71fF2RPaG",
        "3i5UdlX_TFmO",
        "Cep1RBKtoL1u"
      ]
    },
    "kernelspec": {
      "name": "python3",
      "display_name": "Python 3"
    },
    "language_info": {
      "name": "python"
    }
  },
  "cells": [
    {
      "cell_type": "code",
      "execution_count": 479,
      "metadata": {
        "id": "Sauw5xPC601L"
      },
      "outputs": [],
      "source": [
        "import pandas as pd\n",
        "import matplotlib.pyplot as plt\n",
        "import numpy as np\n",
        "import seaborn as sns\n",
        "from sklearn.preprocessing import StandardScaler, MinMaxScaler\n",
        "from scipy import stats"
      ]
    },
    {
      "cell_type": "markdown",
      "source": [
        "# 1. Coleta de dados"
      ],
      "metadata": {
        "id": "Wo60-81WDQqK"
      }
    },
    {
      "cell_type": "code",
      "source": [
        "df = pd.read_csv('https://raw.githubusercontent.com/marcelovalois/eafifa/main/FIFA-21.csv')"
      ],
      "metadata": {
        "id": "Dg095nBg8W3D"
      },
      "execution_count": 480,
      "outputs": []
    },
    {
      "cell_type": "code",
      "source": [
        "df.head()"
      ],
      "metadata": {
        "colab": {
          "base_uri": "https://localhost:8080/",
          "height": 206
        },
        "id": "n-Xj2k3u8zJp",
        "outputId": "2273e791-a026-404c-a9d0-b0e6a78d4171"
      },
      "execution_count": 481,
      "outputs": [
        {
          "output_type": "execute_result",
          "data": {
            "text/plain": [
              "   player_id               name  nationality  position  overall  age  hits  \\\n",
              "0     158023       Lionel Messi    Argentina  ST|CF|RW       94   33   299   \n",
              "1      20801  Cristiano Ronaldo     Portugal     ST|LW       93   35   276   \n",
              "2     190871          Neymar Jr       Brazil    CAM|LW       92   28   186   \n",
              "3     203376    Virgil van Dijk  Netherlands        CB       91   29   127   \n",
              "4     200389          Jan Oblak     Slovenia        GK       91   27    47   \n",
              "\n",
              "   potential                  team  \n",
              "0         94         FC Barcelona   \n",
              "1         93             Juventus   \n",
              "2         92  Paris Saint-Germain   \n",
              "3         92            Liverpool   \n",
              "4         93      Atlético Madrid   "
            ],
            "text/html": [
              "\n",
              "  <div id=\"df-54ea8b57-970f-446e-b073-55d4dbadbc39\">\n",
              "    <div class=\"colab-df-container\">\n",
              "      <div>\n",
              "<style scoped>\n",
              "    .dataframe tbody tr th:only-of-type {\n",
              "        vertical-align: middle;\n",
              "    }\n",
              "\n",
              "    .dataframe tbody tr th {\n",
              "        vertical-align: top;\n",
              "    }\n",
              "\n",
              "    .dataframe thead th {\n",
              "        text-align: right;\n",
              "    }\n",
              "</style>\n",
              "<table border=\"1\" class=\"dataframe\">\n",
              "  <thead>\n",
              "    <tr style=\"text-align: right;\">\n",
              "      <th></th>\n",
              "      <th>player_id</th>\n",
              "      <th>name</th>\n",
              "      <th>nationality</th>\n",
              "      <th>position</th>\n",
              "      <th>overall</th>\n",
              "      <th>age</th>\n",
              "      <th>hits</th>\n",
              "      <th>potential</th>\n",
              "      <th>team</th>\n",
              "    </tr>\n",
              "  </thead>\n",
              "  <tbody>\n",
              "    <tr>\n",
              "      <th>0</th>\n",
              "      <td>158023</td>\n",
              "      <td>Lionel Messi</td>\n",
              "      <td>Argentina</td>\n",
              "      <td>ST|CF|RW</td>\n",
              "      <td>94</td>\n",
              "      <td>33</td>\n",
              "      <td>299</td>\n",
              "      <td>94</td>\n",
              "      <td>FC Barcelona</td>\n",
              "    </tr>\n",
              "    <tr>\n",
              "      <th>1</th>\n",
              "      <td>20801</td>\n",
              "      <td>Cristiano Ronaldo</td>\n",
              "      <td>Portugal</td>\n",
              "      <td>ST|LW</td>\n",
              "      <td>93</td>\n",
              "      <td>35</td>\n",
              "      <td>276</td>\n",
              "      <td>93</td>\n",
              "      <td>Juventus</td>\n",
              "    </tr>\n",
              "    <tr>\n",
              "      <th>2</th>\n",
              "      <td>190871</td>\n",
              "      <td>Neymar Jr</td>\n",
              "      <td>Brazil</td>\n",
              "      <td>CAM|LW</td>\n",
              "      <td>92</td>\n",
              "      <td>28</td>\n",
              "      <td>186</td>\n",
              "      <td>92</td>\n",
              "      <td>Paris Saint-Germain</td>\n",
              "    </tr>\n",
              "    <tr>\n",
              "      <th>3</th>\n",
              "      <td>203376</td>\n",
              "      <td>Virgil van Dijk</td>\n",
              "      <td>Netherlands</td>\n",
              "      <td>CB</td>\n",
              "      <td>91</td>\n",
              "      <td>29</td>\n",
              "      <td>127</td>\n",
              "      <td>92</td>\n",
              "      <td>Liverpool</td>\n",
              "    </tr>\n",
              "    <tr>\n",
              "      <th>4</th>\n",
              "      <td>200389</td>\n",
              "      <td>Jan Oblak</td>\n",
              "      <td>Slovenia</td>\n",
              "      <td>GK</td>\n",
              "      <td>91</td>\n",
              "      <td>27</td>\n",
              "      <td>47</td>\n",
              "      <td>93</td>\n",
              "      <td>Atlético Madrid</td>\n",
              "    </tr>\n",
              "  </tbody>\n",
              "</table>\n",
              "</div>\n",
              "      <button class=\"colab-df-convert\" onclick=\"convertToInteractive('df-54ea8b57-970f-446e-b073-55d4dbadbc39')\"\n",
              "              title=\"Convert this dataframe to an interactive table.\"\n",
              "              style=\"display:none;\">\n",
              "        \n",
              "  <svg xmlns=\"http://www.w3.org/2000/svg\" height=\"24px\"viewBox=\"0 0 24 24\"\n",
              "       width=\"24px\">\n",
              "    <path d=\"M0 0h24v24H0V0z\" fill=\"none\"/>\n",
              "    <path d=\"M18.56 5.44l.94 2.06.94-2.06 2.06-.94-2.06-.94-.94-2.06-.94 2.06-2.06.94zm-11 1L8.5 8.5l.94-2.06 2.06-.94-2.06-.94L8.5 2.5l-.94 2.06-2.06.94zm10 10l.94 2.06.94-2.06 2.06-.94-2.06-.94-.94-2.06-.94 2.06-2.06.94z\"/><path d=\"M17.41 7.96l-1.37-1.37c-.4-.4-.92-.59-1.43-.59-.52 0-1.04.2-1.43.59L10.3 9.45l-7.72 7.72c-.78.78-.78 2.05 0 2.83L4 21.41c.39.39.9.59 1.41.59.51 0 1.02-.2 1.41-.59l7.78-7.78 2.81-2.81c.8-.78.8-2.07 0-2.86zM5.41 20L4 18.59l7.72-7.72 1.47 1.35L5.41 20z\"/>\n",
              "  </svg>\n",
              "      </button>\n",
              "      \n",
              "  <style>\n",
              "    .colab-df-container {\n",
              "      display:flex;\n",
              "      flex-wrap:wrap;\n",
              "      gap: 12px;\n",
              "    }\n",
              "\n",
              "    .colab-df-convert {\n",
              "      background-color: #E8F0FE;\n",
              "      border: none;\n",
              "      border-radius: 50%;\n",
              "      cursor: pointer;\n",
              "      display: none;\n",
              "      fill: #1967D2;\n",
              "      height: 32px;\n",
              "      padding: 0 0 0 0;\n",
              "      width: 32px;\n",
              "    }\n",
              "\n",
              "    .colab-df-convert:hover {\n",
              "      background-color: #E2EBFA;\n",
              "      box-shadow: 0px 1px 2px rgba(60, 64, 67, 0.3), 0px 1px 3px 1px rgba(60, 64, 67, 0.15);\n",
              "      fill: #174EA6;\n",
              "    }\n",
              "\n",
              "    [theme=dark] .colab-df-convert {\n",
              "      background-color: #3B4455;\n",
              "      fill: #D2E3FC;\n",
              "    }\n",
              "\n",
              "    [theme=dark] .colab-df-convert:hover {\n",
              "      background-color: #434B5C;\n",
              "      box-shadow: 0px 1px 3px 1px rgba(0, 0, 0, 0.15);\n",
              "      filter: drop-shadow(0px 1px 2px rgba(0, 0, 0, 0.3));\n",
              "      fill: #FFFFFF;\n",
              "    }\n",
              "  </style>\n",
              "\n",
              "      <script>\n",
              "        const buttonEl =\n",
              "          document.querySelector('#df-54ea8b57-970f-446e-b073-55d4dbadbc39 button.colab-df-convert');\n",
              "        buttonEl.style.display =\n",
              "          google.colab.kernel.accessAllowed ? 'block' : 'none';\n",
              "\n",
              "        async function convertToInteractive(key) {\n",
              "          const element = document.querySelector('#df-54ea8b57-970f-446e-b073-55d4dbadbc39');\n",
              "          const dataTable =\n",
              "            await google.colab.kernel.invokeFunction('convertToInteractive',\n",
              "                                                     [key], {});\n",
              "          if (!dataTable) return;\n",
              "\n",
              "          const docLinkHtml = 'Like what you see? Visit the ' +\n",
              "            '<a target=\"_blank\" href=https://colab.research.google.com/notebooks/data_table.ipynb>data table notebook</a>'\n",
              "            + ' to learn more about interactive tables.';\n",
              "          element.innerHTML = '';\n",
              "          dataTable['output_type'] = 'display_data';\n",
              "          await google.colab.output.renderOutput(dataTable, element);\n",
              "          const docLink = document.createElement('div');\n",
              "          docLink.innerHTML = docLinkHtml;\n",
              "          element.appendChild(docLink);\n",
              "        }\n",
              "      </script>\n",
              "    </div>\n",
              "  </div>\n",
              "  "
            ]
          },
          "metadata": {},
          "execution_count": 481
        }
      ]
    },
    {
      "cell_type": "markdown",
      "source": [
        "### Descrição dos dados\n",
        "\n",
        "- player_id: o id do jogador no jogo.\n",
        "- name: O nome do jogador.\n",
        "- nationality: O país em que o jogador nasceu.\n",
        "- position: A posição (ou posições) que o jogador atua.\n",
        "- overall: A média geral do jogador no FIFA.\n",
        "- age: A idade do jogador.\n",
        "- potential: O potencial do jogador.\n",
        "- team: O clube em que ele joga."
      ],
      "metadata": {
        "id": "DNpiDoQFBpwj"
      }
    },
    {
      "cell_type": "markdown",
      "source": [
        "# 2. Pré-processamento"
      ],
      "metadata": {
        "id": "VE6pHPSuDVM1"
      }
    },
    {
      "cell_type": "markdown",
      "source": [
        "## Definição de tipos"
      ],
      "metadata": {
        "id": "-V-cumnoDgwo"
      }
    },
    {
      "cell_type": "code",
      "source": [
        "df.dtypes"
      ],
      "metadata": {
        "colab": {
          "base_uri": "https://localhost:8080/"
        },
        "id": "Jxe8ObIXDJhk",
        "outputId": "ea23d3e6-5c50-42c6-a2c3-2523146e6cdd"
      },
      "execution_count": 482,
      "outputs": [
        {
          "output_type": "execute_result",
          "data": {
            "text/plain": [
              "player_id       int64\n",
              "name           object\n",
              "nationality    object\n",
              "position       object\n",
              "overall         int64\n",
              "age             int64\n",
              "hits            int64\n",
              "potential       int64\n",
              "team           object\n",
              "dtype: object"
            ]
          },
          "metadata": {},
          "execution_count": 482
        }
      ]
    },
    {
      "cell_type": "code",
      "source": [
        "df['name'] = df['name'].astype('category')\n",
        "df['nationality'] = df['nationality'].astype('category')\n",
        "df['position'] = df['position'].astype('category')\n",
        "df['team'] = df['team'].astype('category')"
      ],
      "metadata": {
        "id": "1xl5Sj1dD39C"
      },
      "execution_count": 483,
      "outputs": []
    },
    {
      "cell_type": "code",
      "source": [
        "df.dtypes"
      ],
      "metadata": {
        "colab": {
          "base_uri": "https://localhost:8080/"
        },
        "id": "EUa0LZB_EFHf",
        "outputId": "e7c0e50e-3b50-4d18-a273-ce72af956bfe"
      },
      "execution_count": 484,
      "outputs": [
        {
          "output_type": "execute_result",
          "data": {
            "text/plain": [
              "player_id         int64\n",
              "name           category\n",
              "nationality    category\n",
              "position       category\n",
              "overall           int64\n",
              "age               int64\n",
              "hits              int64\n",
              "potential         int64\n",
              "team           category\n",
              "dtype: object"
            ]
          },
          "metadata": {},
          "execution_count": 484
        }
      ]
    },
    {
      "cell_type": "markdown",
      "source": [
        "## Tratamento de dados ausentes"
      ],
      "metadata": {
        "id": "yWRNPO4LP39H"
      }
    },
    {
      "cell_type": "code",
      "source": [
        "df.shape"
      ],
      "metadata": {
        "colab": {
          "base_uri": "https://localhost:8080/"
        },
        "id": "64xTuglhP7oO",
        "outputId": "a6b43f6d-e0b3-43db-cfdc-6e0db2569cf4"
      },
      "execution_count": 485,
      "outputs": [
        {
          "output_type": "execute_result",
          "data": {
            "text/plain": [
              "(17981, 9)"
            ]
          },
          "metadata": {},
          "execution_count": 485
        }
      ]
    },
    {
      "cell_type": "markdown",
      "source": [
        "São listados os jogadores do Real Madrid com overall menor que 65, com o intuito de desconsiderar seus valores. São jogadores que abaixam o overall médio do time mas que nunca veem jogo."
      ],
      "metadata": {
        "id": "-2tQWq2PME2U"
      }
    },
    {
      "cell_type": "code",
      "source": [
        "df.loc[(df['overall'] < 65) & (df['team'] == 'Real Madrid ')]"
      ],
      "metadata": {
        "colab": {
          "base_uri": "https://localhost:8080/",
          "height": 0
        },
        "id": "4AAMGzbTYp00",
        "outputId": "cb1e16b1-0d59-4af7-e83a-f36705c7e6c9"
      },
      "execution_count": 486,
      "outputs": [
        {
          "output_type": "execute_result",
          "data": {
            "text/plain": [
              "       player_id         name nationality position  overall  age  hits  \\\n",
              "13140     247411       Altube       Spain       GK       63   20     8   \n",
              "13165     246606  Fran García       Spain    LB|LW       63   20     2   \n",
              "\n",
              "       potential          team  \n",
              "13140         80  Real Madrid   \n",
              "13165         78  Real Madrid   "
            ],
            "text/html": [
              "\n",
              "  <div id=\"df-c4a0870e-1c4b-4bb1-af4b-1b92112e266e\">\n",
              "    <div class=\"colab-df-container\">\n",
              "      <div>\n",
              "<style scoped>\n",
              "    .dataframe tbody tr th:only-of-type {\n",
              "        vertical-align: middle;\n",
              "    }\n",
              "\n",
              "    .dataframe tbody tr th {\n",
              "        vertical-align: top;\n",
              "    }\n",
              "\n",
              "    .dataframe thead th {\n",
              "        text-align: right;\n",
              "    }\n",
              "</style>\n",
              "<table border=\"1\" class=\"dataframe\">\n",
              "  <thead>\n",
              "    <tr style=\"text-align: right;\">\n",
              "      <th></th>\n",
              "      <th>player_id</th>\n",
              "      <th>name</th>\n",
              "      <th>nationality</th>\n",
              "      <th>position</th>\n",
              "      <th>overall</th>\n",
              "      <th>age</th>\n",
              "      <th>hits</th>\n",
              "      <th>potential</th>\n",
              "      <th>team</th>\n",
              "    </tr>\n",
              "  </thead>\n",
              "  <tbody>\n",
              "    <tr>\n",
              "      <th>13140</th>\n",
              "      <td>247411</td>\n",
              "      <td>Altube</td>\n",
              "      <td>Spain</td>\n",
              "      <td>GK</td>\n",
              "      <td>63</td>\n",
              "      <td>20</td>\n",
              "      <td>8</td>\n",
              "      <td>80</td>\n",
              "      <td>Real Madrid</td>\n",
              "    </tr>\n",
              "    <tr>\n",
              "      <th>13165</th>\n",
              "      <td>246606</td>\n",
              "      <td>Fran García</td>\n",
              "      <td>Spain</td>\n",
              "      <td>LB|LW</td>\n",
              "      <td>63</td>\n",
              "      <td>20</td>\n",
              "      <td>2</td>\n",
              "      <td>78</td>\n",
              "      <td>Real Madrid</td>\n",
              "    </tr>\n",
              "  </tbody>\n",
              "</table>\n",
              "</div>\n",
              "      <button class=\"colab-df-convert\" onclick=\"convertToInteractive('df-c4a0870e-1c4b-4bb1-af4b-1b92112e266e')\"\n",
              "              title=\"Convert this dataframe to an interactive table.\"\n",
              "              style=\"display:none;\">\n",
              "        \n",
              "  <svg xmlns=\"http://www.w3.org/2000/svg\" height=\"24px\"viewBox=\"0 0 24 24\"\n",
              "       width=\"24px\">\n",
              "    <path d=\"M0 0h24v24H0V0z\" fill=\"none\"/>\n",
              "    <path d=\"M18.56 5.44l.94 2.06.94-2.06 2.06-.94-2.06-.94-.94-2.06-.94 2.06-2.06.94zm-11 1L8.5 8.5l.94-2.06 2.06-.94-2.06-.94L8.5 2.5l-.94 2.06-2.06.94zm10 10l.94 2.06.94-2.06 2.06-.94-2.06-.94-.94-2.06-.94 2.06-2.06.94z\"/><path d=\"M17.41 7.96l-1.37-1.37c-.4-.4-.92-.59-1.43-.59-.52 0-1.04.2-1.43.59L10.3 9.45l-7.72 7.72c-.78.78-.78 2.05 0 2.83L4 21.41c.39.39.9.59 1.41.59.51 0 1.02-.2 1.41-.59l7.78-7.78 2.81-2.81c.8-.78.8-2.07 0-2.86zM5.41 20L4 18.59l7.72-7.72 1.47 1.35L5.41 20z\"/>\n",
              "  </svg>\n",
              "      </button>\n",
              "      \n",
              "  <style>\n",
              "    .colab-df-container {\n",
              "      display:flex;\n",
              "      flex-wrap:wrap;\n",
              "      gap: 12px;\n",
              "    }\n",
              "\n",
              "    .colab-df-convert {\n",
              "      background-color: #E8F0FE;\n",
              "      border: none;\n",
              "      border-radius: 50%;\n",
              "      cursor: pointer;\n",
              "      display: none;\n",
              "      fill: #1967D2;\n",
              "      height: 32px;\n",
              "      padding: 0 0 0 0;\n",
              "      width: 32px;\n",
              "    }\n",
              "\n",
              "    .colab-df-convert:hover {\n",
              "      background-color: #E2EBFA;\n",
              "      box-shadow: 0px 1px 2px rgba(60, 64, 67, 0.3), 0px 1px 3px 1px rgba(60, 64, 67, 0.15);\n",
              "      fill: #174EA6;\n",
              "    }\n",
              "\n",
              "    [theme=dark] .colab-df-convert {\n",
              "      background-color: #3B4455;\n",
              "      fill: #D2E3FC;\n",
              "    }\n",
              "\n",
              "    [theme=dark] .colab-df-convert:hover {\n",
              "      background-color: #434B5C;\n",
              "      box-shadow: 0px 1px 3px 1px rgba(0, 0, 0, 0.15);\n",
              "      filter: drop-shadow(0px 1px 2px rgba(0, 0, 0, 0.3));\n",
              "      fill: #FFFFFF;\n",
              "    }\n",
              "  </style>\n",
              "\n",
              "      <script>\n",
              "        const buttonEl =\n",
              "          document.querySelector('#df-c4a0870e-1c4b-4bb1-af4b-1b92112e266e button.colab-df-convert');\n",
              "        buttonEl.style.display =\n",
              "          google.colab.kernel.accessAllowed ? 'block' : 'none';\n",
              "\n",
              "        async function convertToInteractive(key) {\n",
              "          const element = document.querySelector('#df-c4a0870e-1c4b-4bb1-af4b-1b92112e266e');\n",
              "          const dataTable =\n",
              "            await google.colab.kernel.invokeFunction('convertToInteractive',\n",
              "                                                     [key], {});\n",
              "          if (!dataTable) return;\n",
              "\n",
              "          const docLinkHtml = 'Like what you see? Visit the ' +\n",
              "            '<a target=\"_blank\" href=https://colab.research.google.com/notebooks/data_table.ipynb>data table notebook</a>'\n",
              "            + ' to learn more about interactive tables.';\n",
              "          element.innerHTML = '';\n",
              "          dataTable['output_type'] = 'display_data';\n",
              "          await google.colab.output.renderOutput(dataTable, element);\n",
              "          const docLink = document.createElement('div');\n",
              "          docLink.innerHTML = docLinkHtml;\n",
              "          element.appendChild(docLink);\n",
              "        }\n",
              "      </script>\n",
              "    </div>\n",
              "  </div>\n",
              "  "
            ]
          },
          "metadata": {},
          "execution_count": 486
        }
      ]
    },
    {
      "cell_type": "code",
      "source": [
        "df.loc[(df['overall'] < 65) & (df['team'] == 'Real Madrid '), ['overall']] = np.nan"
      ],
      "metadata": {
        "id": "ttVyxbPJZ_aD"
      },
      "execution_count": 487,
      "outputs": []
    },
    {
      "cell_type": "code",
      "source": [
        "print(df.isnull().sum())"
      ],
      "metadata": {
        "colab": {
          "base_uri": "https://localhost:8080/"
        },
        "id": "SNPSaqA6QHQ4",
        "outputId": "c0610ae1-e330-447e-eb1c-775157ac5206"
      },
      "execution_count": 488,
      "outputs": [
        {
          "output_type": "stream",
          "name": "stdout",
          "text": [
            "player_id      0\n",
            "name           0\n",
            "nationality    0\n",
            "position       0\n",
            "overall        2\n",
            "age            0\n",
            "hits           0\n",
            "potential      0\n",
            "team           0\n",
            "dtype: int64\n"
          ]
        }
      ]
    },
    {
      "cell_type": "markdown",
      "source": [
        "É feita imputação de dados com a mediana"
      ],
      "metadata": {
        "id": "zvozc9P1MbSE"
      }
    },
    {
      "cell_type": "code",
      "source": [
        "realMadridMean = df[df['team'] == 'Real Madrid ']['overall'].median()\n",
        "realMadridMean"
      ],
      "metadata": {
        "colab": {
          "base_uri": "https://localhost:8080/"
        },
        "id": "Je3gIZzBdDPd",
        "outputId": "ea0b503c-f02d-4201-b0e5-2ea0686e8ff2"
      },
      "execution_count": 489,
      "outputs": [
        {
          "output_type": "execute_result",
          "data": {
            "text/plain": [
              "82.0"
            ]
          },
          "metadata": {},
          "execution_count": 489
        }
      ]
    },
    {
      "cell_type": "code",
      "source": [
        "df['overall'].fillna(realMadridMean, inplace=True)"
      ],
      "metadata": {
        "id": "KUFR9_B_aTFd"
      },
      "execution_count": 490,
      "outputs": []
    },
    {
      "cell_type": "code",
      "source": [
        "df[df['team'] == 'Real Madrid ']['overall']\n"
      ],
      "metadata": {
        "colab": {
          "base_uri": "https://localhost:8080/"
        },
        "id": "ttr3P6Pbd08V",
        "outputId": "e055939c-6d4f-422b-ed7d-6a74d4258a8e"
      },
      "execution_count": 491,
      "outputs": [
        {
          "output_type": "execute_result",
          "data": {
            "text/plain": [
              "7        91.0\n",
              "17       89.0\n",
              "18       89.0\n",
              "21       89.0\n",
              "26       88.0\n",
              "28       88.0\n",
              "31       88.0\n",
              "68       86.0\n",
              "94       85.0\n",
              "98       85.0\n",
              "109      85.0\n",
              "135      84.0\n",
              "151      84.0\n",
              "226      82.0\n",
              "229      82.0\n",
              "250      82.0\n",
              "277      82.0\n",
              "289      82.0\n",
              "316      81.0\n",
              "329      81.0\n",
              "469      80.0\n",
              "562      79.0\n",
              "735      78.0\n",
              "806      78.0\n",
              "2240     74.0\n",
              "3358     72.0\n",
              "4288     71.0\n",
              "6037     69.0\n",
              "9430     66.0\n",
              "9448     66.0\n",
              "10743    65.0\n",
              "13140    82.0\n",
              "13165    82.0\n",
              "Name: overall, dtype: float64"
            ]
          },
          "metadata": {},
          "execution_count": 491
        }
      ]
    },
    {
      "cell_type": "markdown",
      "source": [
        "## Normalização e limpeza"
      ],
      "metadata": {
        "id": "1kFvtNNdNLKI"
      }
    },
    {
      "cell_type": "code",
      "source": [
        "scaler = MinMaxScaler()\n",
        "df['overall_norm'] = scaler.fit_transform(df[['overall']])\n",
        "df['overall_norm'].describe()"
      ],
      "metadata": {
        "colab": {
          "base_uri": "https://localhost:8080/"
        },
        "id": "BN3EBj4pNM6w",
        "outputId": "ec54c0c4-4864-44a8-ba8f-0a25bbd4eb45"
      },
      "execution_count": 492,
      "outputs": [
        {
          "output_type": "execute_result",
          "data": {
            "text/plain": [
              "count    17981.000000\n",
              "mean         0.296749\n",
              "std          0.155954\n",
              "min          0.000000\n",
              "25%          0.184211\n",
              "50%          0.289474\n",
              "75%          0.394737\n",
              "max          1.000000\n",
              "Name: overall_norm, dtype: float64"
            ]
          },
          "metadata": {},
          "execution_count": 492
        }
      ]
    },
    {
      "cell_type": "code",
      "source": [
        "df['overall_norm'].hist()"
      ],
      "metadata": {
        "colab": {
          "base_uri": "https://localhost:8080/",
          "height": 0
        },
        "id": "jWBiXKIjN8r-",
        "outputId": "fb475f8b-0bcc-4cd3-8c78-c121a0eea6bd"
      },
      "execution_count": 493,
      "outputs": [
        {
          "output_type": "execute_result",
          "data": {
            "text/plain": [
              "<matplotlib.axes._subplots.AxesSubplot at 0x7fec902c0f10>"
            ]
          },
          "metadata": {},
          "execution_count": 493
        },
        {
          "output_type": "display_data",
          "data": {
            "text/plain": [
              "<Figure size 432x288 with 1 Axes>"
            ],
            "image/png": "[encoded data removed]"
          },
          "metadata": {
            "needs_background": "light"
          }
        }
      ]
    },
    {
      "cell_type": "code",
      "source": [
        "q1 = df['overall_norm'].quantile(q=0.25)\n",
        "q3 = df['overall_norm'].quantile(q=0.75)\n",
        "iqr = q3 - q1\n",
        "print(iqr)"
      ],
      "metadata": {
        "colab": {
          "base_uri": "https://localhost:8080/"
        },
        "id": "g6LqaqqsOEZC",
        "outputId": "facc163a-fd45-4967-f812-e713bbe802a7"
      },
      "execution_count": 494,
      "outputs": [
        {
          "output_type": "stream",
          "name": "stdout",
          "text": [
            "0.21052631578947367\n"
          ]
        }
      ]
    },
    {
      "cell_type": "code",
      "source": [
        "df[df['overall_norm'] > (q3+1.5*iqr)]"
      ],
      "metadata": {
        "colab": {
          "base_uri": "https://localhost:8080/",
          "height": 0
        },
        "id": "JxWKkIjOOLhP",
        "outputId": "949e6fa1-5762-41d8-c6c6-e3ebcca2e369"
      },
      "execution_count": 495,
      "outputs": [
        {
          "output_type": "execute_result",
          "data": {
            "text/plain": [
              "     player_id               name  nationality   position  overall  age  hits  \\\n",
              "0       158023       Lionel Messi    Argentina   ST|CF|RW     94.0   33   299   \n",
              "1        20801  Cristiano Ronaldo     Portugal      ST|LW     93.0   35   276   \n",
              "2       190871          Neymar Jr       Brazil     CAM|LW     92.0   28   186   \n",
              "3       203376    Virgil van Dijk  Netherlands         CB     91.0   29   127   \n",
              "4       200389          Jan Oblak     Slovenia         GK     91.0   27    47   \n",
              "..         ...                ...          ...        ...      ...  ...   ...   \n",
              "218     163705     Steve Mandanda       France         GK     83.0   35     4   \n",
              "219     163587  Kasper Schmeichel      Denmark         GK     83.0   33    41   \n",
              "220     157481        Raúl Albiol        Spain         CB     83.0   34     7   \n",
              "221     146562      Santi Cazorla        Spain  CDM|LM|CM     83.0   35    22   \n",
              "222       1179   Gianluigi Buffon        Italy         GK     83.0   42    50   \n",
              "\n",
              "     potential                     team  overall_norm  \n",
              "0           94            FC Barcelona       1.000000  \n",
              "1           93                Juventus       0.973684  \n",
              "2           92     Paris Saint-Germain       0.947368  \n",
              "3           92               Liverpool       0.921053  \n",
              "4           93         Atlético Madrid       0.921053  \n",
              "..         ...                      ...           ...  \n",
              "218         83  Olympique de Marseille       0.710526  \n",
              "219         83          Leicester City       0.710526  \n",
              "220         83           Villarreal CF       0.710526  \n",
              "221         83           Villarreal CF       0.710526  \n",
              "222         83                Juventus       0.710526  \n",
              "\n",
              "[223 rows x 10 columns]"
            ],
            "text/html": [
              "\n",
              "  <div id=\"df-9bafff60-2d31-4c70-a02a-4366475c3a29\">\n",
              "    <div class=\"colab-df-container\">\n",
              "      <div>\n",
              "<style scoped>\n",
              "    .dataframe tbody tr th:only-of-type {\n",
              "        vertical-align: middle;\n",
              "    }\n",
              "\n",
              "    .dataframe tbody tr th {\n",
              "        vertical-align: top;\n",
              "    }\n",
              "\n",
              "    .dataframe thead th {\n",
              "        text-align: right;\n",
              "    }\n",
              "</style>\n",
              "<table border=\"1\" class=\"dataframe\">\n",
              "  <thead>\n",
              "    <tr style=\"text-align: right;\">\n",
              "      <th></th>\n",
              "      <th>player_id</th>\n",
              "      <th>name</th>\n",
              "      <th>nationality</th>\n",
              "      <th>position</th>\n",
              "      <th>overall</th>\n",
              "      <th>age</th>\n",
              "      <th>hits</th>\n",
              "      <th>potential</th>\n",
              "      <th>team</th>\n",
              "      <th>overall_norm</th>\n",
              "    </tr>\n",
              "  </thead>\n",
              "  <tbody>\n",
              "    <tr>\n",
              "      <th>0</th>\n",
              "      <td>158023</td>\n",
              "      <td>Lionel Messi</td>\n",
              "      <td>Argentina</td>\n",
              "      <td>ST|CF|RW</td>\n",
              "      <td>94.0</td>\n",
              "      <td>33</td>\n",
              "      <td>299</td>\n",
              "      <td>94</td>\n",
              "      <td>FC Barcelona</td>\n",
              "      <td>1.000000</td>\n",
              "    </tr>\n",
              "    <tr>\n",
              "      <th>1</th>\n",
              "      <td>20801</td>\n",
              "      <td>Cristiano Ronaldo</td>\n",
              "      <td>Portugal</td>\n",
              "      <td>ST|LW</td>\n",
              "      <td>93.0</td>\n",
              "      <td>35</td>\n",
              "      <td>276</td>\n",
              "      <td>93</td>\n",
              "      <td>Juventus</td>\n",
              "      <td>0.973684</td>\n",
              "    </tr>\n",
              "    <tr>\n",
              "      <th>2</th>\n",
              "      <td>190871</td>\n",
              "      <td>Neymar Jr</td>\n",
              "      <td>Brazil</td>\n",
              "      <td>CAM|LW</td>\n",
              "      <td>92.0</td>\n",
              "      <td>28</td>\n",
              "      <td>186</td>\n",
              "      <td>92</td>\n",
              "      <td>Paris Saint-Germain</td>\n",
              "      <td>0.947368</td>\n",
              "    </tr>\n",
              "    <tr>\n",
              "      <th>3</th>\n",
              "      <td>203376</td>\n",
              "      <td>Virgil van Dijk</td>\n",
              "      <td>Netherlands</td>\n",
              "      <td>CB</td>\n",
              "      <td>91.0</td>\n",
              "      <td>29</td>\n",
              "      <td>127</td>\n",
              "      <td>92</td>\n",
              "      <td>Liverpool</td>\n",
              "      <td>0.921053</td>\n",
              "    </tr>\n",
              "    <tr>\n",
              "      <th>4</th>\n",
              "      <td>200389</td>\n",
              "      <td>Jan Oblak</td>\n",
              "      <td>Slovenia</td>\n",
              "      <td>GK</td>\n",
              "      <td>91.0</td>\n",
              "      <td>27</td>\n",
              "      <td>47</td>\n",
              "      <td>93</td>\n",
              "      <td>Atlético Madrid</td>\n",
              "      <td>0.921053</td>\n",
              "    </tr>\n",
              "    <tr>\n",
              "      <th>...</th>\n",
              "      <td>...</td>\n",
              "      <td>...</td>\n",
              "      <td>...</td>\n",
              "      <td>...</td>\n",
              "      <td>...</td>\n",
              "      <td>...</td>\n",
              "      <td>...</td>\n",
              "      <td>...</td>\n",
              "      <td>...</td>\n",
              "      <td>...</td>\n",
              "    </tr>\n",
              "    <tr>\n",
              "      <th>218</th>\n",
              "      <td>163705</td>\n",
              "      <td>Steve Mandanda</td>\n",
              "      <td>France</td>\n",
              "      <td>GK</td>\n",
              "      <td>83.0</td>\n",
              "      <td>35</td>\n",
              "      <td>4</td>\n",
              "      <td>83</td>\n",
              "      <td>Olympique de Marseille</td>\n",
              "      <td>0.710526</td>\n",
              "    </tr>\n",
              "    <tr>\n",
              "      <th>219</th>\n",
              "      <td>163587</td>\n",
              "      <td>Kasper Schmeichel</td>\n",
              "      <td>Denmark</td>\n",
              "      <td>GK</td>\n",
              "      <td>83.0</td>\n",
              "      <td>33</td>\n",
              "      <td>41</td>\n",
              "      <td>83</td>\n",
              "      <td>Leicester City</td>\n",
              "      <td>0.710526</td>\n",
              "    </tr>\n",
              "    <tr>\n",
              "      <th>220</th>\n",
              "      <td>157481</td>\n",
              "      <td>Raúl Albiol</td>\n",
              "      <td>Spain</td>\n",
              "      <td>CB</td>\n",
              "      <td>83.0</td>\n",
              "      <td>34</td>\n",
              "      <td>7</td>\n",
              "      <td>83</td>\n",
              "      <td>Villarreal CF</td>\n",
              "      <td>0.710526</td>\n",
              "    </tr>\n",
              "    <tr>\n",
              "      <th>221</th>\n",
              "      <td>146562</td>\n",
              "      <td>Santi Cazorla</td>\n",
              "      <td>Spain</td>\n",
              "      <td>CDM|LM|CM</td>\n",
              "      <td>83.0</td>\n",
              "      <td>35</td>\n",
              "      <td>22</td>\n",
              "      <td>83</td>\n",
              "      <td>Villarreal CF</td>\n",
              "      <td>0.710526</td>\n",
              "    </tr>\n",
              "    <tr>\n",
              "      <th>222</th>\n",
              "      <td>1179</td>\n",
              "      <td>Gianluigi Buffon</td>\n",
              "      <td>Italy</td>\n",
              "      <td>GK</td>\n",
              "      <td>83.0</td>\n",
              "      <td>42</td>\n",
              "      <td>50</td>\n",
              "      <td>83</td>\n",
              "      <td>Juventus</td>\n",
              "      <td>0.710526</td>\n",
              "    </tr>\n",
              "  </tbody>\n",
              "</table>\n",
              "<p>223 rows × 10 columns</p>\n",
              "</div>\n",
              "      <button class=\"colab-df-convert\" onclick=\"convertToInteractive('df-9bafff60-2d31-4c70-a02a-4366475c3a29')\"\n",
              "              title=\"Convert this dataframe to an interactive table.\"\n",
              "              style=\"display:none;\">\n",
              "        \n",
              "  <svg xmlns=\"http://www.w3.org/2000/svg\" height=\"24px\"viewBox=\"0 0 24 24\"\n",
              "       width=\"24px\">\n",
              "    <path d=\"M0 0h24v24H0V0z\" fill=\"none\"/>\n",
              "    <path d=\"M18.56 5.44l.94 2.06.94-2.06 2.06-.94-2.06-.94-.94-2.06-.94 2.06-2.06.94zm-11 1L8.5 8.5l.94-2.06 2.06-.94-2.06-.94L8.5 2.5l-.94 2.06-2.06.94zm10 10l.94 2.06.94-2.06 2.06-.94-2.06-.94-.94-2.06-.94 2.06-2.06.94z\"/><path d=\"M17.41 7.96l-1.37-1.37c-.4-.4-.92-.59-1.43-.59-.52 0-1.04.2-1.43.59L10.3 9.45l-7.72 7.72c-.78.78-.78 2.05 0 2.83L4 21.41c.39.39.9.59 1.41.59.51 0 1.02-.2 1.41-.59l7.78-7.78 2.81-2.81c.8-.78.8-2.07 0-2.86zM5.41 20L4 18.59l7.72-7.72 1.47 1.35L5.41 20z\"/>\n",
              "  </svg>\n",
              "      </button>\n",
              "      \n",
              "  <style>\n",
              "    .colab-df-container {\n",
              "      display:flex;\n",
              "      flex-wrap:wrap;\n",
              "      gap: 12px;\n",
              "    }\n",
              "\n",
              "    .colab-df-convert {\n",
              "      background-color: #E8F0FE;\n",
              "      border: none;\n",
              "      border-radius: 50%;\n",
              "      cursor: pointer;\n",
              "      display: none;\n",
              "      fill: #1967D2;\n",
              "      height: 32px;\n",
              "      padding: 0 0 0 0;\n",
              "      width: 32px;\n",
              "    }\n",
              "\n",
              "    .colab-df-convert:hover {\n",
              "      background-color: #E2EBFA;\n",
              "      box-shadow: 0px 1px 2px rgba(60, 64, 67, 0.3), 0px 1px 3px 1px rgba(60, 64, 67, 0.15);\n",
              "      fill: #174EA6;\n",
              "    }\n",
              "\n",
              "    [theme=dark] .colab-df-convert {\n",
              "      background-color: #3B4455;\n",
              "      fill: #D2E3FC;\n",
              "    }\n",
              "\n",
              "    [theme=dark] .colab-df-convert:hover {\n",
              "      background-color: #434B5C;\n",
              "      box-shadow: 0px 1px 3px 1px rgba(0, 0, 0, 0.15);\n",
              "      filter: drop-shadow(0px 1px 2px rgba(0, 0, 0, 0.3));\n",
              "      fill: #FFFFFF;\n",
              "    }\n",
              "  </style>\n",
              "\n",
              "      <script>\n",
              "        const buttonEl =\n",
              "          document.querySelector('#df-9bafff60-2d31-4c70-a02a-4366475c3a29 button.colab-df-convert');\n",
              "        buttonEl.style.display =\n",
              "          google.colab.kernel.accessAllowed ? 'block' : 'none';\n",
              "\n",
              "        async function convertToInteractive(key) {\n",
              "          const element = document.querySelector('#df-9bafff60-2d31-4c70-a02a-4366475c3a29');\n",
              "          const dataTable =\n",
              "            await google.colab.kernel.invokeFunction('convertToInteractive',\n",
              "                                                     [key], {});\n",
              "          if (!dataTable) return;\n",
              "\n",
              "          const docLinkHtml = 'Like what you see? Visit the ' +\n",
              "            '<a target=\"_blank\" href=https://colab.research.google.com/notebooks/data_table.ipynb>data table notebook</a>'\n",
              "            + ' to learn more about interactive tables.';\n",
              "          element.innerHTML = '';\n",
              "          dataTable['output_type'] = 'display_data';\n",
              "          await google.colab.output.renderOutput(dataTable, element);\n",
              "          const docLink = document.createElement('div');\n",
              "          docLink.innerHTML = docLinkHtml;\n",
              "          element.appendChild(docLink);\n",
              "        }\n",
              "      </script>\n",
              "    </div>\n",
              "  </div>\n",
              "  "
            ]
          },
          "metadata": {},
          "execution_count": 495
        }
      ]
    },
    {
      "cell_type": "markdown",
      "source": [
        "## Discretização"
      ],
      "metadata": {
        "id": "zTb71fF2RPaG"
      }
    },
    {
      "cell_type": "markdown",
      "source": [
        "É feita a discritização com 5 bins com mesmo intervalo"
      ],
      "metadata": {
        "id": "ImDEjvWbSODs"
      }
    },
    {
      "cell_type": "code",
      "source": [
        "df['potential_dist'] = pd.cut(df['potential'], 5)"
      ],
      "metadata": {
        "id": "9GAx8P74RTGL"
      },
      "execution_count": 496,
      "outputs": []
    },
    {
      "cell_type": "code",
      "source": [
        "df['potential_dist'].value_counts()"
      ],
      "metadata": {
        "colab": {
          "base_uri": "https://localhost:8080/"
        },
        "id": "-UOL5fOTRhZc",
        "outputId": "e4e8ee3c-d067-449a-bd44-94266f0c5e5b"
      },
      "execution_count": 497,
      "outputs": [
        {
          "output_type": "execute_result",
          "data": {
            "text/plain": [
              "(64.6, 72.2]      8325\n",
              "(72.2, 79.8]      5832\n",
              "(56.962, 64.6]    1913\n",
              "(79.8, 87.4]      1788\n",
              "(87.4, 95.0]       123\n",
              "Name: potential_dist, dtype: int64"
            ]
          },
          "metadata": {},
          "execution_count": 497
        }
      ]
    },
    {
      "cell_type": "code",
      "source": [
        "df['potential_dist'].describe()"
      ],
      "metadata": {
        "colab": {
          "base_uri": "https://localhost:8080/"
        },
        "id": "B6PZT3JaSKVi",
        "outputId": "68a295d8-33e1-4e24-9973-028e1499017d"
      },
      "execution_count": 498,
      "outputs": [
        {
          "output_type": "execute_result",
          "data": {
            "text/plain": [
              "count            17981\n",
              "unique               5\n",
              "top       (64.6, 72.2]\n",
              "freq              8325\n",
              "Name: potential_dist, dtype: object"
            ]
          },
          "metadata": {},
          "execution_count": 498
        }
      ]
    },
    {
      "cell_type": "markdown",
      "source": [
        "# Projeto 2"
      ],
      "metadata": {
        "id": "8Q3P02Yqh927"
      }
    },
    {
      "cell_type": "markdown",
      "source": [
        "# 1. Escolher uma das colunas para predição"
      ],
      "metadata": {
        "id": "QYkXnzsTlHmV"
      }
    },
    {
      "cell_type": "markdown",
      "source": [
        "Separa a coluna \"hits\" do dataset, que é a coluna que será realizada a predição.\n",
        "Além disso, é realizado o drop das colunas \"name\" e \"player_id\", por não serem importantes para a predição."
      ],
      "metadata": {
        "id": "waxBoKi6MbaX"
      }
    },
    {
      "cell_type": "code",
      "source": [
        "x_df = df.drop(['hits', 'name', 'player_id', 'potential_dist'], axis=1)\n",
        "y_df = df['hits']\n",
        "\n",
        "x_df.head()"
      ],
      "metadata": {
        "colab": {
          "base_uri": "https://localhost:8080/",
          "height": 206
        },
        "id": "3JjABD5YomLI",
        "outputId": "9776abbc-4341-441b-be30-be25519ee8de"
      },
      "execution_count": 499,
      "outputs": [
        {
          "output_type": "execute_result",
          "data": {
            "text/plain": [
              "   nationality  position  overall  age  potential                  team  \\\n",
              "0    Argentina  ST|CF|RW     94.0   33         94         FC Barcelona    \n",
              "1     Portugal     ST|LW     93.0   35         93             Juventus    \n",
              "2       Brazil    CAM|LW     92.0   28         92  Paris Saint-Germain    \n",
              "3  Netherlands        CB     91.0   29         92            Liverpool    \n",
              "4     Slovenia        GK     91.0   27         93      Atlético Madrid    \n",
              "\n",
              "   overall_norm  \n",
              "0      1.000000  \n",
              "1      0.973684  \n",
              "2      0.947368  \n",
              "3      0.921053  \n",
              "4      0.921053  "
            ],
            "text/html": [
              "\n",
              "  <div id=\"df-6200cee4-0652-421e-88e7-0257db237f5c\">\n",
              "    <div class=\"colab-df-container\">\n",
              "      <div>\n",
              "<style scoped>\n",
              "    .dataframe tbody tr th:only-of-type {\n",
              "        vertical-align: middle;\n",
              "    }\n",
              "\n",
              "    .dataframe tbody tr th {\n",
              "        vertical-align: top;\n",
              "    }\n",
              "\n",
              "    .dataframe thead th {\n",
              "        text-align: right;\n",
              "    }\n",
              "</style>\n",
              "<table border=\"1\" class=\"dataframe\">\n",
              "  <thead>\n",
              "    <tr style=\"text-align: right;\">\n",
              "      <th></th>\n",
              "      <th>nationality</th>\n",
              "      <th>position</th>\n",
              "      <th>overall</th>\n",
              "      <th>age</th>\n",
              "      <th>potential</th>\n",
              "      <th>team</th>\n",
              "      <th>overall_norm</th>\n",
              "    </tr>\n",
              "  </thead>\n",
              "  <tbody>\n",
              "    <tr>\n",
              "      <th>0</th>\n",
              "      <td>Argentina</td>\n",
              "      <td>ST|CF|RW</td>\n",
              "      <td>94.0</td>\n",
              "      <td>33</td>\n",
              "      <td>94</td>\n",
              "      <td>FC Barcelona</td>\n",
              "      <td>1.000000</td>\n",
              "    </tr>\n",
              "    <tr>\n",
              "      <th>1</th>\n",
              "      <td>Portugal</td>\n",
              "      <td>ST|LW</td>\n",
              "      <td>93.0</td>\n",
              "      <td>35</td>\n",
              "      <td>93</td>\n",
              "      <td>Juventus</td>\n",
              "      <td>0.973684</td>\n",
              "    </tr>\n",
              "    <tr>\n",
              "      <th>2</th>\n",
              "      <td>Brazil</td>\n",
              "      <td>CAM|LW</td>\n",
              "      <td>92.0</td>\n",
              "      <td>28</td>\n",
              "      <td>92</td>\n",
              "      <td>Paris Saint-Germain</td>\n",
              "      <td>0.947368</td>\n",
              "    </tr>\n",
              "    <tr>\n",
              "      <th>3</th>\n",
              "      <td>Netherlands</td>\n",
              "      <td>CB</td>\n",
              "      <td>91.0</td>\n",
              "      <td>29</td>\n",
              "      <td>92</td>\n",
              "      <td>Liverpool</td>\n",
              "      <td>0.921053</td>\n",
              "    </tr>\n",
              "    <tr>\n",
              "      <th>4</th>\n",
              "      <td>Slovenia</td>\n",
              "      <td>GK</td>\n",
              "      <td>91.0</td>\n",
              "      <td>27</td>\n",
              "      <td>93</td>\n",
              "      <td>Atlético Madrid</td>\n",
              "      <td>0.921053</td>\n",
              "    </tr>\n",
              "  </tbody>\n",
              "</table>\n",
              "</div>\n",
              "      <button class=\"colab-df-convert\" onclick=\"convertToInteractive('df-6200cee4-0652-421e-88e7-0257db237f5c')\"\n",
              "              title=\"Convert this dataframe to an interactive table.\"\n",
              "              style=\"display:none;\">\n",
              "        \n",
              "  <svg xmlns=\"http://www.w3.org/2000/svg\" height=\"24px\"viewBox=\"0 0 24 24\"\n",
              "       width=\"24px\">\n",
              "    <path d=\"M0 0h24v24H0V0z\" fill=\"none\"/>\n",
              "    <path d=\"M18.56 5.44l.94 2.06.94-2.06 2.06-.94-2.06-.94-.94-2.06-.94 2.06-2.06.94zm-11 1L8.5 8.5l.94-2.06 2.06-.94-2.06-.94L8.5 2.5l-.94 2.06-2.06.94zm10 10l.94 2.06.94-2.06 2.06-.94-2.06-.94-.94-2.06-.94 2.06-2.06.94z\"/><path d=\"M17.41 7.96l-1.37-1.37c-.4-.4-.92-.59-1.43-.59-.52 0-1.04.2-1.43.59L10.3 9.45l-7.72 7.72c-.78.78-.78 2.05 0 2.83L4 21.41c.39.39.9.59 1.41.59.51 0 1.02-.2 1.41-.59l7.78-7.78 2.81-2.81c.8-.78.8-2.07 0-2.86zM5.41 20L4 18.59l7.72-7.72 1.47 1.35L5.41 20z\"/>\n",
              "  </svg>\n",
              "      </button>\n",
              "      \n",
              "  <style>\n",
              "    .colab-df-container {\n",
              "      display:flex;\n",
              "      flex-wrap:wrap;\n",
              "      gap: 12px;\n",
              "    }\n",
              "\n",
              "    .colab-df-convert {\n",
              "      background-color: #E8F0FE;\n",
              "      border: none;\n",
              "      border-radius: 50%;\n",
              "      cursor: pointer;\n",
              "      display: none;\n",
              "      fill: #1967D2;\n",
              "      height: 32px;\n",
              "      padding: 0 0 0 0;\n",
              "      width: 32px;\n",
              "    }\n",
              "\n",
              "    .colab-df-convert:hover {\n",
              "      background-color: #E2EBFA;\n",
              "      box-shadow: 0px 1px 2px rgba(60, 64, 67, 0.3), 0px 1px 3px 1px rgba(60, 64, 67, 0.15);\n",
              "      fill: #174EA6;\n",
              "    }\n",
              "\n",
              "    [theme=dark] .colab-df-convert {\n",
              "      background-color: #3B4455;\n",
              "      fill: #D2E3FC;\n",
              "    }\n",
              "\n",
              "    [theme=dark] .colab-df-convert:hover {\n",
              "      background-color: #434B5C;\n",
              "      box-shadow: 0px 1px 3px 1px rgba(0, 0, 0, 0.15);\n",
              "      filter: drop-shadow(0px 1px 2px rgba(0, 0, 0, 0.3));\n",
              "      fill: #FFFFFF;\n",
              "    }\n",
              "  </style>\n",
              "\n",
              "      <script>\n",
              "        const buttonEl =\n",
              "          document.querySelector('#df-6200cee4-0652-421e-88e7-0257db237f5c button.colab-df-convert');\n",
              "        buttonEl.style.display =\n",
              "          google.colab.kernel.accessAllowed ? 'block' : 'none';\n",
              "\n",
              "        async function convertToInteractive(key) {\n",
              "          const element = document.querySelector('#df-6200cee4-0652-421e-88e7-0257db237f5c');\n",
              "          const dataTable =\n",
              "            await google.colab.kernel.invokeFunction('convertToInteractive',\n",
              "                                                     [key], {});\n",
              "          if (!dataTable) return;\n",
              "\n",
              "          const docLinkHtml = 'Like what you see? Visit the ' +\n",
              "            '<a target=\"_blank\" href=https://colab.research.google.com/notebooks/data_table.ipynb>data table notebook</a>'\n",
              "            + ' to learn more about interactive tables.';\n",
              "          element.innerHTML = '';\n",
              "          dataTable['output_type'] = 'display_data';\n",
              "          await google.colab.output.renderOutput(dataTable, element);\n",
              "          const docLink = document.createElement('div');\n",
              "          docLink.innerHTML = docLinkHtml;\n",
              "          element.appendChild(docLink);\n",
              "        }\n",
              "      </script>\n",
              "    </div>\n",
              "  </div>\n",
              "  "
            ]
          },
          "metadata": {},
          "execution_count": 499
        }
      ]
    },
    {
      "cell_type": "markdown",
      "source": [
        "Algumas colunas do dataset são categóricas, logo, precisam ser transformadas em inteiro para poder fazer o modelo"
      ],
      "metadata": {
        "id": "nNc1KmP7NGbR"
      }
    },
    {
      "cell_type": "code",
      "source": [
        "def makeDict(uniques):\n",
        "  uniques_dict = {}\n",
        "  for i in range(len(uniques)):\n",
        "    uniques_dict[uniques[i]] = i\n",
        "  return uniques_dict"
      ],
      "metadata": {
        "id": "dFLoBWbgR3TX"
      },
      "execution_count": 500,
      "outputs": []
    },
    {
      "cell_type": "code",
      "source": [
        "nationality_uniques = x_df.nationality.unique()\n",
        "position_uniques = x_df.position.unique()\n",
        "team_uniques = x_df.team.unique()\n",
        "\n",
        "position_uniques_dict = makeDict(position_uniques)\n",
        "team_uniques_dict = makeDict(team_uniques)\n",
        "nationality_uniques_dict = makeDict(nationality_uniques)\n",
        "\n",
        "x_df['position'] = x_df['position'].map(position_uniques_dict)\n",
        "x_df['team'] = x_df['team'].map(team_uniques_dict)\n",
        "x_df['nationality'] = x_df['nationality'].map(nationality_uniques_dict)\n",
        "\n",
        "x_df = x_df.astype({'nationality': 'int64', 'position': 'int64', 'team': 'int64', 'overall': 'int64'})\n",
        "\n",
        "x_df.head()"
      ],
      "metadata": {
        "colab": {
          "base_uri": "https://localhost:8080/",
          "height": 206
        },
        "id": "rUSLIUc5NVUW",
        "outputId": "26286932-0ef7-420d-c483-b88ff7e06565"
      },
      "execution_count": 501,
      "outputs": [
        {
          "output_type": "execute_result",
          "data": {
            "text/plain": [
              "   nationality  position  overall  age  potential  team  overall_norm\n",
              "0            0         0       94   33         94     0      1.000000\n",
              "1            1         1       93   35         93     1      0.973684\n",
              "2            2         2       92   28         92     2      0.947368\n",
              "3            3         3       91   29         92     3      0.921053\n",
              "4            4         4       91   27         93     4      0.921053"
            ],
            "text/html": [
              "\n",
              "  <div id=\"df-3ced338d-d9f3-4167-aeb4-12fea75109b8\">\n",
              "    <div class=\"colab-df-container\">\n",
              "      <div>\n",
              "<style scoped>\n",
              "    .dataframe tbody tr th:only-of-type {\n",
              "        vertical-align: middle;\n",
              "    }\n",
              "\n",
              "    .dataframe tbody tr th {\n",
              "        vertical-align: top;\n",
              "    }\n",
              "\n",
              "    .dataframe thead th {\n",
              "        text-align: right;\n",
              "    }\n",
              "</style>\n",
              "<table border=\"1\" class=\"dataframe\">\n",
              "  <thead>\n",
              "    <tr style=\"text-align: right;\">\n",
              "      <th></th>\n",
              "      <th>nationality</th>\n",
              "      <th>position</th>\n",
              "      <th>overall</th>\n",
              "      <th>age</th>\n",
              "      <th>potential</th>\n",
              "      <th>team</th>\n",
              "      <th>overall_norm</th>\n",
              "    </tr>\n",
              "  </thead>\n",
              "  <tbody>\n",
              "    <tr>\n",
              "      <th>0</th>\n",
              "      <td>0</td>\n",
              "      <td>0</td>\n",
              "      <td>94</td>\n",
              "      <td>33</td>\n",
              "      <td>94</td>\n",
              "      <td>0</td>\n",
              "      <td>1.000000</td>\n",
              "    </tr>\n",
              "    <tr>\n",
              "      <th>1</th>\n",
              "      <td>1</td>\n",
              "      <td>1</td>\n",
              "      <td>93</td>\n",
              "      <td>35</td>\n",
              "      <td>93</td>\n",
              "      <td>1</td>\n",
              "      <td>0.973684</td>\n",
              "    </tr>\n",
              "    <tr>\n",
              "      <th>2</th>\n",
              "      <td>2</td>\n",
              "      <td>2</td>\n",
              "      <td>92</td>\n",
              "      <td>28</td>\n",
              "      <td>92</td>\n",
              "      <td>2</td>\n",
              "      <td>0.947368</td>\n",
              "    </tr>\n",
              "    <tr>\n",
              "      <th>3</th>\n",
              "      <td>3</td>\n",
              "      <td>3</td>\n",
              "      <td>91</td>\n",
              "      <td>29</td>\n",
              "      <td>92</td>\n",
              "      <td>3</td>\n",
              "      <td>0.921053</td>\n",
              "    </tr>\n",
              "    <tr>\n",
              "      <th>4</th>\n",
              "      <td>4</td>\n",
              "      <td>4</td>\n",
              "      <td>91</td>\n",
              "      <td>27</td>\n",
              "      <td>93</td>\n",
              "      <td>4</td>\n",
              "      <td>0.921053</td>\n",
              "    </tr>\n",
              "  </tbody>\n",
              "</table>\n",
              "</div>\n",
              "      <button class=\"colab-df-convert\" onclick=\"convertToInteractive('df-3ced338d-d9f3-4167-aeb4-12fea75109b8')\"\n",
              "              title=\"Convert this dataframe to an interactive table.\"\n",
              "              style=\"display:none;\">\n",
              "        \n",
              "  <svg xmlns=\"http://www.w3.org/2000/svg\" height=\"24px\"viewBox=\"0 0 24 24\"\n",
              "       width=\"24px\">\n",
              "    <path d=\"M0 0h24v24H0V0z\" fill=\"none\"/>\n",
              "    <path d=\"M18.56 5.44l.94 2.06.94-2.06 2.06-.94-2.06-.94-.94-2.06-.94 2.06-2.06.94zm-11 1L8.5 8.5l.94-2.06 2.06-.94-2.06-.94L8.5 2.5l-.94 2.06-2.06.94zm10 10l.94 2.06.94-2.06 2.06-.94-2.06-.94-.94-2.06-.94 2.06-2.06.94z\"/><path d=\"M17.41 7.96l-1.37-1.37c-.4-.4-.92-.59-1.43-.59-.52 0-1.04.2-1.43.59L10.3 9.45l-7.72 7.72c-.78.78-.78 2.05 0 2.83L4 21.41c.39.39.9.59 1.41.59.51 0 1.02-.2 1.41-.59l7.78-7.78 2.81-2.81c.8-.78.8-2.07 0-2.86zM5.41 20L4 18.59l7.72-7.72 1.47 1.35L5.41 20z\"/>\n",
              "  </svg>\n",
              "      </button>\n",
              "      \n",
              "  <style>\n",
              "    .colab-df-container {\n",
              "      display:flex;\n",
              "      flex-wrap:wrap;\n",
              "      gap: 12px;\n",
              "    }\n",
              "\n",
              "    .colab-df-convert {\n",
              "      background-color: #E8F0FE;\n",
              "      border: none;\n",
              "      border-radius: 50%;\n",
              "      cursor: pointer;\n",
              "      display: none;\n",
              "      fill: #1967D2;\n",
              "      height: 32px;\n",
              "      padding: 0 0 0 0;\n",
              "      width: 32px;\n",
              "    }\n",
              "\n",
              "    .colab-df-convert:hover {\n",
              "      background-color: #E2EBFA;\n",
              "      box-shadow: 0px 1px 2px rgba(60, 64, 67, 0.3), 0px 1px 3px 1px rgba(60, 64, 67, 0.15);\n",
              "      fill: #174EA6;\n",
              "    }\n",
              "\n",
              "    [theme=dark] .colab-df-convert {\n",
              "      background-color: #3B4455;\n",
              "      fill: #D2E3FC;\n",
              "    }\n",
              "\n",
              "    [theme=dark] .colab-df-convert:hover {\n",
              "      background-color: #434B5C;\n",
              "      box-shadow: 0px 1px 3px 1px rgba(0, 0, 0, 0.15);\n",
              "      filter: drop-shadow(0px 1px 2px rgba(0, 0, 0, 0.3));\n",
              "      fill: #FFFFFF;\n",
              "    }\n",
              "  </style>\n",
              "\n",
              "      <script>\n",
              "        const buttonEl =\n",
              "          document.querySelector('#df-3ced338d-d9f3-4167-aeb4-12fea75109b8 button.colab-df-convert');\n",
              "        buttonEl.style.display =\n",
              "          google.colab.kernel.accessAllowed ? 'block' : 'none';\n",
              "\n",
              "        async function convertToInteractive(key) {\n",
              "          const element = document.querySelector('#df-3ced338d-d9f3-4167-aeb4-12fea75109b8');\n",
              "          const dataTable =\n",
              "            await google.colab.kernel.invokeFunction('convertToInteractive',\n",
              "                                                     [key], {});\n",
              "          if (!dataTable) return;\n",
              "\n",
              "          const docLinkHtml = 'Like what you see? Visit the ' +\n",
              "            '<a target=\"_blank\" href=https://colab.research.google.com/notebooks/data_table.ipynb>data table notebook</a>'\n",
              "            + ' to learn more about interactive tables.';\n",
              "          element.innerHTML = '';\n",
              "          dataTable['output_type'] = 'display_data';\n",
              "          await google.colab.output.renderOutput(dataTable, element);\n",
              "          const docLink = document.createElement('div');\n",
              "          docLink.innerHTML = docLinkHtml;\n",
              "          element.appendChild(docLink);\n",
              "        }\n",
              "      </script>\n",
              "    </div>\n",
              "  </div>\n",
              "  "
            ]
          },
          "metadata": {},
          "execution_count": 501
        }
      ]
    },
    {
      "cell_type": "code",
      "source": [
        "x_df.dtypes"
      ],
      "metadata": {
        "colab": {
          "base_uri": "https://localhost:8080/"
        },
        "id": "xPrgKneKVpFL",
        "outputId": "ca923ace-80f6-4433-c7dc-7c6da5c2bea0"
      },
      "execution_count": 502,
      "outputs": [
        {
          "output_type": "execute_result",
          "data": {
            "text/plain": [
              "nationality       int64\n",
              "position          int64\n",
              "overall           int64\n",
              "age               int64\n",
              "potential         int64\n",
              "team              int64\n",
              "overall_norm    float64\n",
              "dtype: object"
            ]
          },
          "metadata": {},
          "execution_count": 502
        }
      ]
    },
    {
      "cell_type": "markdown",
      "source": [
        "Realização do treinamento e teste:"
      ],
      "metadata": {
        "id": "R5aE2J27TuxR"
      }
    },
    {
      "cell_type": "code",
      "source": [
        "from sklearn.model_selection import train_test_split\n",
        "x_train, x_test, y_train, y_test = train_test_split(x_df,y_df,random_state=10, test_size=0.2)"
      ],
      "metadata": {
        "id": "ZjQ-FDWCTzc_"
      },
      "execution_count": 503,
      "outputs": []
    },
    {
      "cell_type": "code",
      "source": [
        "x_train.head()"
      ],
      "metadata": {
        "colab": {
          "base_uri": "https://localhost:8080/",
          "height": 206
        },
        "id": "8austQQmvJyF",
        "outputId": "caff5ba2-a37b-435f-f80b-886bde8f6592"
      },
      "execution_count": 504,
      "outputs": [
        {
          "output_type": "execute_result",
          "data": {
            "text/plain": [
              "       nationality  position  overall  age  potential  team  overall_norm\n",
              "12539           44         6       64   24         71   362      0.210526\n",
              "4434            39         4       71   28         74   271      0.394737\n",
              "7594            33        48       68   31         68   586      0.315789\n",
              "6492            35        58       69   33         69   515      0.342105\n",
              "8326            98        40       67   27         68   367      0.289474"
            ],
            "text/html": [
              "\n",
              "  <div id=\"df-46288807-1d88-46c3-8016-ea2a0fa474d9\">\n",
              "    <div class=\"colab-df-container\">\n",
              "      <div>\n",
              "<style scoped>\n",
              "    .dataframe tbody tr th:only-of-type {\n",
              "        vertical-align: middle;\n",
              "    }\n",
              "\n",
              "    .dataframe tbody tr th {\n",
              "        vertical-align: top;\n",
              "    }\n",
              "\n",
              "    .dataframe thead th {\n",
              "        text-align: right;\n",
              "    }\n",
              "</style>\n",
              "<table border=\"1\" class=\"dataframe\">\n",
              "  <thead>\n",
              "    <tr style=\"text-align: right;\">\n",
              "      <th></th>\n",
              "      <th>nationality</th>\n",
              "      <th>position</th>\n",
              "      <th>overall</th>\n",
              "      <th>age</th>\n",
              "      <th>potential</th>\n",
              "      <th>team</th>\n",
              "      <th>overall_norm</th>\n",
              "    </tr>\n",
              "  </thead>\n",
              "  <tbody>\n",
              "    <tr>\n",
              "      <th>12539</th>\n",
              "      <td>44</td>\n",
              "      <td>6</td>\n",
              "      <td>64</td>\n",
              "      <td>24</td>\n",
              "      <td>71</td>\n",
              "      <td>362</td>\n",
              "      <td>0.210526</td>\n",
              "    </tr>\n",
              "    <tr>\n",
              "      <th>4434</th>\n",
              "      <td>39</td>\n",
              "      <td>4</td>\n",
              "      <td>71</td>\n",
              "      <td>28</td>\n",
              "      <td>74</td>\n",
              "      <td>271</td>\n",
              "      <td>0.394737</td>\n",
              "    </tr>\n",
              "    <tr>\n",
              "      <th>7594</th>\n",
              "      <td>33</td>\n",
              "      <td>48</td>\n",
              "      <td>68</td>\n",
              "      <td>31</td>\n",
              "      <td>68</td>\n",
              "      <td>586</td>\n",
              "      <td>0.315789</td>\n",
              "    </tr>\n",
              "    <tr>\n",
              "      <th>6492</th>\n",
              "      <td>35</td>\n",
              "      <td>58</td>\n",
              "      <td>69</td>\n",
              "      <td>33</td>\n",
              "      <td>69</td>\n",
              "      <td>515</td>\n",
              "      <td>0.342105</td>\n",
              "    </tr>\n",
              "    <tr>\n",
              "      <th>8326</th>\n",
              "      <td>98</td>\n",
              "      <td>40</td>\n",
              "      <td>67</td>\n",
              "      <td>27</td>\n",
              "      <td>68</td>\n",
              "      <td>367</td>\n",
              "      <td>0.289474</td>\n",
              "    </tr>\n",
              "  </tbody>\n",
              "</table>\n",
              "</div>\n",
              "      <button class=\"colab-df-convert\" onclick=\"convertToInteractive('df-46288807-1d88-46c3-8016-ea2a0fa474d9')\"\n",
              "              title=\"Convert this dataframe to an interactive table.\"\n",
              "              style=\"display:none;\">\n",
              "        \n",
              "  <svg xmlns=\"http://www.w3.org/2000/svg\" height=\"24px\"viewBox=\"0 0 24 24\"\n",
              "       width=\"24px\">\n",
              "    <path d=\"M0 0h24v24H0V0z\" fill=\"none\"/>\n",
              "    <path d=\"M18.56 5.44l.94 2.06.94-2.06 2.06-.94-2.06-.94-.94-2.06-.94 2.06-2.06.94zm-11 1L8.5 8.5l.94-2.06 2.06-.94-2.06-.94L8.5 2.5l-.94 2.06-2.06.94zm10 10l.94 2.06.94-2.06 2.06-.94-2.06-.94-.94-2.06-.94 2.06-2.06.94z\"/><path d=\"M17.41 7.96l-1.37-1.37c-.4-.4-.92-.59-1.43-.59-.52 0-1.04.2-1.43.59L10.3 9.45l-7.72 7.72c-.78.78-.78 2.05 0 2.83L4 21.41c.39.39.9.59 1.41.59.51 0 1.02-.2 1.41-.59l7.78-7.78 2.81-2.81c.8-.78.8-2.07 0-2.86zM5.41 20L4 18.59l7.72-7.72 1.47 1.35L5.41 20z\"/>\n",
              "  </svg>\n",
              "      </button>\n",
              "      \n",
              "  <style>\n",
              "    .colab-df-container {\n",
              "      display:flex;\n",
              "      flex-wrap:wrap;\n",
              "      gap: 12px;\n",
              "    }\n",
              "\n",
              "    .colab-df-convert {\n",
              "      background-color: #E8F0FE;\n",
              "      border: none;\n",
              "      border-radius: 50%;\n",
              "      cursor: pointer;\n",
              "      display: none;\n",
              "      fill: #1967D2;\n",
              "      height: 32px;\n",
              "      padding: 0 0 0 0;\n",
              "      width: 32px;\n",
              "    }\n",
              "\n",
              "    .colab-df-convert:hover {\n",
              "      background-color: #E2EBFA;\n",
              "      box-shadow: 0px 1px 2px rgba(60, 64, 67, 0.3), 0px 1px 3px 1px rgba(60, 64, 67, 0.15);\n",
              "      fill: #174EA6;\n",
              "    }\n",
              "\n",
              "    [theme=dark] .colab-df-convert {\n",
              "      background-color: #3B4455;\n",
              "      fill: #D2E3FC;\n",
              "    }\n",
              "\n",
              "    [theme=dark] .colab-df-convert:hover {\n",
              "      background-color: #434B5C;\n",
              "      box-shadow: 0px 1px 3px 1px rgba(0, 0, 0, 0.15);\n",
              "      filter: drop-shadow(0px 1px 2px rgba(0, 0, 0, 0.3));\n",
              "      fill: #FFFFFF;\n",
              "    }\n",
              "  </style>\n",
              "\n",
              "      <script>\n",
              "        const buttonEl =\n",
              "          document.querySelector('#df-46288807-1d88-46c3-8016-ea2a0fa474d9 button.colab-df-convert');\n",
              "        buttonEl.style.display =\n",
              "          google.colab.kernel.accessAllowed ? 'block' : 'none';\n",
              "\n",
              "        async function convertToInteractive(key) {\n",
              "          const element = document.querySelector('#df-46288807-1d88-46c3-8016-ea2a0fa474d9');\n",
              "          const dataTable =\n",
              "            await google.colab.kernel.invokeFunction('convertToInteractive',\n",
              "                                                     [key], {});\n",
              "          if (!dataTable) return;\n",
              "\n",
              "          const docLinkHtml = 'Like what you see? Visit the ' +\n",
              "            '<a target=\"_blank\" href=https://colab.research.google.com/notebooks/data_table.ipynb>data table notebook</a>'\n",
              "            + ' to learn more about interactive tables.';\n",
              "          element.innerHTML = '';\n",
              "          dataTable['output_type'] = 'display_data';\n",
              "          await google.colab.output.renderOutput(dataTable, element);\n",
              "          const docLink = document.createElement('div');\n",
              "          docLink.innerHTML = docLinkHtml;\n",
              "          element.appendChild(docLink);\n",
              "        }\n",
              "      </script>\n",
              "    </div>\n",
              "  </div>\n",
              "  "
            ]
          },
          "metadata": {},
          "execution_count": 504
        }
      ]
    },
    {
      "cell_type": "code",
      "source": [
        "y_train.head()"
      ],
      "metadata": {
        "colab": {
          "base_uri": "https://localhost:8080/"
        },
        "id": "B7pHEciWvQK9",
        "outputId": "c7d3b5eb-b26a-4a01-afec-c51a9577453f"
      },
      "execution_count": 505,
      "outputs": [
        {
          "output_type": "execute_result",
          "data": {
            "text/plain": [
              "12539    0\n",
              "4434     3\n",
              "7594     0\n",
              "6492     1\n",
              "8326     1\n",
              "Name: hits, dtype: int64"
            ]
          },
          "metadata": {},
          "execution_count": 505
        }
      ]
    },
    {
      "cell_type": "code",
      "source": [
        "len(x_train), len(y_train), len(x_test), len(y_test)\n"
      ],
      "metadata": {
        "colab": {
          "base_uri": "https://localhost:8080/"
        },
        "id": "62C0Uk1CaWs_",
        "outputId": "1f3ea594-deec-4148-9bab-f5c0d3e4bc60"
      },
      "execution_count": 506,
      "outputs": [
        {
          "output_type": "execute_result",
          "data": {
            "text/plain": [
              "(14384, 14384, 3597, 3597)"
            ]
          },
          "metadata": {},
          "execution_count": 506
        }
      ]
    },
    {
      "cell_type": "code",
      "source": [
        "x_train.dtypes"
      ],
      "metadata": {
        "colab": {
          "base_uri": "https://localhost:8080/"
        },
        "id": "zbaAdOHBWgq2",
        "outputId": "7d5dc380-8b93-43dc-9a5c-d2bd1b9e522b"
      },
      "execution_count": 507,
      "outputs": [
        {
          "output_type": "execute_result",
          "data": {
            "text/plain": [
              "nationality       int64\n",
              "position          int64\n",
              "overall           int64\n",
              "age               int64\n",
              "potential         int64\n",
              "team              int64\n",
              "overall_norm    float64\n",
              "dtype: object"
            ]
          },
          "metadata": {},
          "execution_count": 507
        }
      ]
    },
    {
      "cell_type": "markdown",
      "source": [
        "# 2. Escolher 4 algoritmos para regressão"
      ],
      "metadata": {
        "id": "2H7VdJxECDL2"
      }
    },
    {
      "cell_type": "code",
      "source": [
        "!pip install mlflow\n",
        "import mlflow\n",
        "import mlflow.sklearn"
      ],
      "metadata": {
        "colab": {
          "base_uri": "https://localhost:8080/"
        },
        "id": "dey_XoOuI9UJ",
        "outputId": "a9049e95-25a5-4d0e-bbe9-9932a4b2fc40"
      },
      "execution_count": 508,
      "outputs": [
        {
          "output_type": "stream",
          "name": "stdout",
          "text": [
            "Looking in indexes: https://pypi.org/simple, https://us-python.pkg.dev/colab-wheels/public/simple/\n",
            "Requirement already satisfied: mlflow in /usr/local/lib/python3.7/dist-packages (1.29.0)\n",
            "Requirement already satisfied: importlib-metadata!=4.7.0,<5,>=3.7.0 in /usr/local/lib/python3.7/dist-packages (from mlflow) (4.12.0)\n",
            "Requirement already satisfied: sqlparse<1,>=0.4.0 in /usr/local/lib/python3.7/dist-packages (from mlflow) (0.4.2)\n",
            "Requirement already satisfied: scipy<2 in /usr/local/lib/python3.7/dist-packages (from mlflow) (1.7.3)\n",
            "Requirement already satisfied: click<9,>=7.0 in /usr/local/lib/python3.7/dist-packages (from mlflow) (7.1.2)\n",
            "Requirement already satisfied: databricks-cli<1,>=0.8.7 in /usr/local/lib/python3.7/dist-packages (from mlflow) (0.17.3)\n",
            "Requirement already satisfied: entrypoints<1 in /usr/local/lib/python3.7/dist-packages (from mlflow) (0.4)\n",
            "Requirement already satisfied: packaging<22 in /usr/local/lib/python3.7/dist-packages (from mlflow) (21.3)\n",
            "Requirement already satisfied: docker<7,>=4.0.0 in /usr/local/lib/python3.7/dist-packages (from mlflow) (6.0.0)\n",
            "Requirement already satisfied: numpy<2 in /usr/local/lib/python3.7/dist-packages (from mlflow) (1.21.6)\n",
            "Requirement already satisfied: gunicorn<21 in /usr/local/lib/python3.7/dist-packages (from mlflow) (20.1.0)\n",
            "Requirement already satisfied: prometheus-flask-exporter<1 in /usr/local/lib/python3.7/dist-packages (from mlflow) (0.20.3)\n",
            "Requirement already satisfied: querystring-parser<2 in /usr/local/lib/python3.7/dist-packages (from mlflow) (1.2.4)\n",
            "Requirement already satisfied: cloudpickle<3 in /usr/local/lib/python3.7/dist-packages (from mlflow) (1.5.0)\n",
            "Requirement already satisfied: pytz<2023 in /usr/local/lib/python3.7/dist-packages (from mlflow) (2022.2.1)\n",
            "Requirement already satisfied: alembic<2 in /usr/local/lib/python3.7/dist-packages (from mlflow) (1.8.1)\n",
            "Requirement already satisfied: pandas<2 in /usr/local/lib/python3.7/dist-packages (from mlflow) (1.3.5)\n",
            "Requirement already satisfied: gitpython<4,>=2.1.0 in /usr/local/lib/python3.7/dist-packages (from mlflow) (3.1.27)\n",
            "Requirement already satisfied: requests<3,>=2.17.3 in /usr/local/lib/python3.7/dist-packages (from mlflow) (2.28.1)\n",
            "Requirement already satisfied: Flask<3 in /usr/local/lib/python3.7/dist-packages (from mlflow) (1.1.4)\n",
            "Requirement already satisfied: protobuf<5,>=3.12.0 in /usr/local/lib/python3.7/dist-packages (from mlflow) (3.17.3)\n",
            "Requirement already satisfied: pyyaml<7,>=5.1 in /usr/local/lib/python3.7/dist-packages (from mlflow) (6.0)\n",
            "Requirement already satisfied: sqlalchemy<2,>=1.4.0 in /usr/local/lib/python3.7/dist-packages (from mlflow) (1.4.41)\n",
            "Requirement already satisfied: importlib-resources in /usr/local/lib/python3.7/dist-packages (from alembic<2->mlflow) (5.9.0)\n",
            "Requirement already satisfied: Mako in /usr/local/lib/python3.7/dist-packages (from alembic<2->mlflow) (1.2.3)\n",
            "Requirement already satisfied: pyjwt>=1.7.0 in /usr/local/lib/python3.7/dist-packages (from databricks-cli<1,>=0.8.7->mlflow) (2.5.0)\n",
            "Requirement already satisfied: six>=1.10.0 in /usr/local/lib/python3.7/dist-packages (from databricks-cli<1,>=0.8.7->mlflow) (1.15.0)\n",
            "Requirement already satisfied: oauthlib>=3.1.0 in /usr/local/lib/python3.7/dist-packages (from databricks-cli<1,>=0.8.7->mlflow) (3.2.0)\n",
            "Requirement already satisfied: tabulate>=0.7.7 in /usr/local/lib/python3.7/dist-packages (from databricks-cli<1,>=0.8.7->mlflow) (0.8.10)\n",
            "Requirement already satisfied: urllib3>=1.26.0 in /usr/local/lib/python3.7/dist-packages (from docker<7,>=4.0.0->mlflow) (1.26.12)\n",
            "Requirement already satisfied: websocket-client>=0.32.0 in /usr/local/lib/python3.7/dist-packages (from docker<7,>=4.0.0->mlflow) (1.4.1)\n",
            "Requirement already satisfied: itsdangerous<2.0,>=0.24 in /usr/local/lib/python3.7/dist-packages (from Flask<3->mlflow) (1.1.0)\n",
            "Requirement already satisfied: Jinja2<3.0,>=2.10.1 in /usr/local/lib/python3.7/dist-packages (from Flask<3->mlflow) (2.11.3)\n",
            "Requirement already satisfied: Werkzeug<2.0,>=0.15 in /usr/local/lib/python3.7/dist-packages (from Flask<3->mlflow) (1.0.1)\n",
            "Requirement already satisfied: typing-extensions>=3.7.4.3 in /usr/local/lib/python3.7/dist-packages (from gitpython<4,>=2.1.0->mlflow) (4.1.1)\n",
            "Requirement already satisfied: gitdb<5,>=4.0.1 in /usr/local/lib/python3.7/dist-packages (from gitpython<4,>=2.1.0->mlflow) (4.0.9)\n",
            "Requirement already satisfied: smmap<6,>=3.0.1 in /usr/local/lib/python3.7/dist-packages (from gitdb<5,>=4.0.1->gitpython<4,>=2.1.0->mlflow) (5.0.0)\n",
            "Requirement already satisfied: setuptools>=3.0 in /usr/local/lib/python3.7/dist-packages (from gunicorn<21->mlflow) (57.4.0)\n",
            "Requirement already satisfied: zipp>=0.5 in /usr/local/lib/python3.7/dist-packages (from importlib-metadata!=4.7.0,<5,>=3.7.0->mlflow) (3.8.1)\n",
            "Requirement already satisfied: MarkupSafe>=0.23 in /usr/local/lib/python3.7/dist-packages (from Jinja2<3.0,>=2.10.1->Flask<3->mlflow) (2.0.1)\n",
            "Requirement already satisfied: pyparsing!=3.0.5,>=2.0.2 in /usr/local/lib/python3.7/dist-packages (from packaging<22->mlflow) (3.0.9)\n",
            "Requirement already satisfied: python-dateutil>=2.7.3 in /usr/local/lib/python3.7/dist-packages (from pandas<2->mlflow) (2.8.2)\n",
            "Requirement already satisfied: prometheus-client in /usr/local/lib/python3.7/dist-packages (from prometheus-flask-exporter<1->mlflow) (0.14.1)\n",
            "Requirement already satisfied: charset-normalizer<3,>=2 in /usr/local/lib/python3.7/dist-packages (from requests<3,>=2.17.3->mlflow) (2.1.1)\n",
            "Requirement already satisfied: idna<4,>=2.5 in /usr/local/lib/python3.7/dist-packages (from requests<3,>=2.17.3->mlflow) (2.10)\n",
            "Requirement already satisfied: certifi>=2017.4.17 in /usr/local/lib/python3.7/dist-packages (from requests<3,>=2.17.3->mlflow) (2022.6.15)\n",
            "Requirement already satisfied: greenlet!=0.4.17 in /usr/local/lib/python3.7/dist-packages (from sqlalchemy<2,>=1.4.0->mlflow) (1.1.3)\n"
          ]
        }
      ]
    },
    {
      "cell_type": "code",
      "source": [
        "mlflow.sklearn.autolog()"
      ],
      "metadata": {
        "id": "ARVAVdXoJqin"
      },
      "execution_count": 509,
      "outputs": []
    },
    {
      "cell_type": "markdown",
      "source": [
        "Criar dicionário para armazenar scores:"
      ],
      "metadata": {
        "id": "miMTHBodgMrK"
      }
    },
    {
      "cell_type": "code",
      "source": [
        "scores = {}\n",
        "tunned_scores = {}"
      ],
      "metadata": {
        "id": "ZoKcXBjvgPxi"
      },
      "execution_count": 510,
      "outputs": []
    },
    {
      "cell_type": "markdown",
      "source": [
        "## 1. Regressão Linear"
      ],
      "metadata": {
        "id": "_xFzwaI-9yOf"
      }
    },
    {
      "cell_type": "code",
      "source": [
        "from sklearn.linear_model import LinearRegression\n",
        "\n",
        "algoritmo1 = LinearRegression()\n",
        "\n",
        "with mlflow.start_run() as run1:\n",
        "  algoritmo1.fit(x_train, y_train)\n",
        "  print(\"Data in run {}\".format(run1.info.run_id))\n",
        "\n",
        "y_pred1 = algoritmo1.predict(x_test)"
      ],
      "metadata": {
        "colab": {
          "base_uri": "https://localhost:8080/"
        },
        "id": "9uVv7O7gEea_",
        "outputId": "b9c18487-9417-4719-aa25-13e5321d9199"
      },
      "execution_count": 511,
      "outputs": [
        {
          "output_type": "stream",
          "name": "stderr",
          "text": [
            "2022/10/04 02:37:52 WARNING mlflow.utils.autologging_utils: MLflow autologging encountered a warning: \"/usr/local/lib/python3.7/dist-packages/mlflow/models/signature.py:129: UserWarning: Hint: Inferred schema contains integer column(s). Integer columns in Python cannot represent missing values. If your input data contains missing values at inference time, it will be encoded as floats and will cause a schema enforcement error. The best way to avoid this problem is to infer the model schema based on a realistic data sample (training dataset) that includes missing values. Alternatively, you can declare integer columns as doubles (float64) whenever these columns may have missing values. See `Handling Integers With Missing Values <https://www.mlflow.org/docs/latest/models.html#handling-integers-with-missing-values>`_ for more details.\"\n"
          ]
        },
        {
          "output_type": "stream",
          "name": "stdout",
          "text": [
            "Data in run cae2a1aa4bd34f9ca5ba76b739026148\n"
          ]
        }
      ]
    },
    {
      "cell_type": "code",
      "source": [
        "from sklearn.metrics import r2_score\n",
        "\n",
        "scores['y_pred1'] = r2_score(y_test, y_pred1)"
      ],
      "metadata": {
        "id": "R2zEraxgZJHN"
      },
      "execution_count": 512,
      "outputs": []
    },
    {
      "cell_type": "markdown",
      "source": [
        "## 2. Decision Tree"
      ],
      "metadata": {
        "id": "-q2u7jW79-YZ"
      }
    },
    {
      "cell_type": "code",
      "source": [
        "from sklearn import tree\n",
        "\n",
        "algoritmo2 = tree.DecisionTreeRegressor(random_state=10)\n",
        "\n",
        "with mlflow.start_run() as run2:\n",
        "  algoritmo2.fit(x_train, y_train)\n",
        "  print(\"Data in run {}\".format(run2.info.run_id))\n",
        "\n",
        "y_pred2 = algoritmo2.predict(x_test)\n",
        "\n"
      ],
      "metadata": {
        "colab": {
          "base_uri": "https://localhost:8080/"
        },
        "id": "qZ6bgzhL-YxG",
        "outputId": "0d79235d-0c07-45ba-9371-44278f264326"
      },
      "execution_count": 513,
      "outputs": [
        {
          "output_type": "stream",
          "name": "stderr",
          "text": [
            "2022/10/04 02:37:54 WARNING mlflow.utils.autologging_utils: MLflow autologging encountered a warning: \"/usr/local/lib/python3.7/dist-packages/mlflow/models/signature.py:129: UserWarning: Hint: Inferred schema contains integer column(s). Integer columns in Python cannot represent missing values. If your input data contains missing values at inference time, it will be encoded as floats and will cause a schema enforcement error. The best way to avoid this problem is to infer the model schema based on a realistic data sample (training dataset) that includes missing values. Alternatively, you can declare integer columns as doubles (float64) whenever these columns may have missing values. See `Handling Integers With Missing Values <https://www.mlflow.org/docs/latest/models.html#handling-integers-with-missing-values>`_ for more details.\"\n"
          ]
        },
        {
          "output_type": "stream",
          "name": "stdout",
          "text": [
            "Data in run 80a124a6cc494808b456232d273c13ae\n"
          ]
        }
      ]
    },
    {
      "cell_type": "code",
      "source": [
        "scores['y_pred2'] = r2_score(y_test, y_pred2)"
      ],
      "metadata": {
        "id": "ky-Jbvvv_saQ"
      },
      "execution_count": 514,
      "outputs": []
    },
    {
      "cell_type": "markdown",
      "source": [
        "## 3. KNN Model"
      ],
      "metadata": {
        "id": "T61UDvU1BHY8"
      }
    },
    {
      "cell_type": "code",
      "source": [
        "from sklearn.neighbors import KNeighborsClassifier\n",
        "\n",
        "algoritmo3 = KNeighborsClassifier(n_neighbors=3)\n",
        "\n",
        "with mlflow.start_run() as run3:\n",
        "  algoritmo3.fit(x_train, y_train)\n",
        "  print(\"Data in run {}\".format(run3.info.run_id))\n",
        "\n",
        "y_pred3 = algoritmo3.predict(x_test)"
      ],
      "metadata": {
        "colab": {
          "base_uri": "https://localhost:8080/"
        },
        "id": "qPk3g8DRBM9B",
        "outputId": "e247ce97-4fca-411a-c739-79768029d118"
      },
      "execution_count": 515,
      "outputs": [
        {
          "output_type": "stream",
          "name": "stderr",
          "text": [
            "/usr/local/lib/python3.7/dist-packages/sklearn/metrics/_classification.py:1318: UndefinedMetricWarning: Precision is ill-defined and being set to 0.0 in labels with no predicted samples. Use `zero_division` parameter to control this behavior.\n",
            "  _warn_prf(average, modifier, msg_start, len(result))\n",
            "2022/10/04 02:38:28 WARNING mlflow.utils.autologging_utils: MLflow autologging encountered a warning: \"/usr/local/lib/python3.7/dist-packages/mlflow/models/signature.py:129: UserWarning: Hint: Inferred schema contains integer column(s). Integer columns in Python cannot represent missing values. If your input data contains missing values at inference time, it will be encoded as floats and will cause a schema enforcement error. The best way to avoid this problem is to infer the model schema based on a realistic data sample (training dataset) that includes missing values. Alternatively, you can declare integer columns as doubles (float64) whenever these columns may have missing values. See `Handling Integers With Missing Values <https://www.mlflow.org/docs/latest/models.html#handling-integers-with-missing-values>`_ for more details.\"\n"
          ]
        },
        {
          "output_type": "stream",
          "name": "stdout",
          "text": [
            "Data in run 63af9c46b3cd4296ae37a5c9fd0db34b\n"
          ]
        }
      ]
    },
    {
      "cell_type": "code",
      "source": [
        "scores['y_pred3'] = r2_score(y_test, y_pred3)"
      ],
      "metadata": {
        "id": "UMKeY4M_FWoV"
      },
      "execution_count": 516,
      "outputs": []
    },
    {
      "cell_type": "markdown",
      "source": [
        "## 4. Neural Network"
      ],
      "metadata": {
        "id": "awuRRnatJTQ1"
      }
    },
    {
      "cell_type": "code",
      "source": [
        "from sklearn.neural_network import MLPRegressor\n",
        "\n",
        "algoritmo4 = MLPRegressor(random_state=10)\n",
        "\n",
        "with mlflow.start_run() as run4:\n",
        "  algoritmo4.fit(x_train, y_train)\n",
        "  print(\"Data in run {}\".format(run4.info.run_id))\n",
        "\n",
        "y_pred4 = algoritmo4.predict(x_test)"
      ],
      "metadata": {
        "colab": {
          "base_uri": "https://localhost:8080/"
        },
        "id": "4DcMcVv4FvtL",
        "outputId": "843d0513-2472-4ad0-8ee3-55fdca5083bc"
      },
      "execution_count": 517,
      "outputs": [
        {
          "output_type": "stream",
          "name": "stderr",
          "text": [
            "/usr/local/lib/python3.7/dist-packages/sklearn/neural_network/_multilayer_perceptron.py:696: ConvergenceWarning: Stochastic Optimizer: Maximum iterations (200) reached and the optimization hasn't converged yet.\n",
            "  ConvergenceWarning,\n",
            "2022/10/04 02:38:45 WARNING mlflow.utils.autologging_utils: MLflow autologging encountered a warning: \"/usr/local/lib/python3.7/dist-packages/mlflow/models/signature.py:129: UserWarning: Hint: Inferred schema contains integer column(s). Integer columns in Python cannot represent missing values. If your input data contains missing values at inference time, it will be encoded as floats and will cause a schema enforcement error. The best way to avoid this problem is to infer the model schema based on a realistic data sample (training dataset) that includes missing values. Alternatively, you can declare integer columns as doubles (float64) whenever these columns may have missing values. See `Handling Integers With Missing Values <https://www.mlflow.org/docs/latest/models.html#handling-integers-with-missing-values>`_ for more details.\"\n"
          ]
        },
        {
          "output_type": "stream",
          "name": "stdout",
          "text": [
            "Data in run a19bcb0321e243c6bfd01a6a40c5ab69\n"
          ]
        }
      ]
    },
    {
      "cell_type": "code",
      "source": [
        "scores['y_pred4'] = r2_score(y_test, y_pred4)"
      ],
      "metadata": {
        "id": "6qnayEhFGAvP"
      },
      "execution_count": 518,
      "outputs": []
    },
    {
      "cell_type": "markdown",
      "source": [
        "# 3. Seleção de Hiper-parâmetros"
      ],
      "metadata": {
        "id": "2RcDd3SyX-Mh"
      }
    },
    {
      "cell_type": "code",
      "source": [
        "!pip install optuna\n",
        "import optuna"
      ],
      "metadata": {
        "colab": {
          "base_uri": "https://localhost:8080/"
        },
        "id": "pWFGVktjYGUt",
        "outputId": "a20d87be-880f-4a62-9324-1c3488e37fd8"
      },
      "execution_count": 519,
      "outputs": [
        {
          "output_type": "stream",
          "name": "stdout",
          "text": [
            "Looking in indexes: https://pypi.org/simple, https://us-python.pkg.dev/colab-wheels/public/simple/\n",
            "Requirement already satisfied: optuna in /usr/local/lib/python3.7/dist-packages (3.0.2)\n",
            "Requirement already satisfied: numpy in /usr/local/lib/python3.7/dist-packages (from optuna) (1.21.6)\n",
            "Requirement already satisfied: tqdm in /usr/local/lib/python3.7/dist-packages (from optuna) (4.64.1)\n",
            "Requirement already satisfied: packaging>=20.0 in /usr/local/lib/python3.7/dist-packages (from optuna) (21.3)\n",
            "Requirement already satisfied: PyYAML in /usr/local/lib/python3.7/dist-packages (from optuna) (6.0)\n",
            "Requirement already satisfied: scipy<1.9.0,>=1.7.0 in /usr/local/lib/python3.7/dist-packages (from optuna) (1.7.3)\n",
            "Requirement already satisfied: colorlog in /usr/local/lib/python3.7/dist-packages (from optuna) (6.7.0)\n",
            "Requirement already satisfied: cmaes>=0.8.2 in /usr/local/lib/python3.7/dist-packages (from optuna) (0.8.2)\n",
            "Requirement already satisfied: alembic>=1.5.0 in /usr/local/lib/python3.7/dist-packages (from optuna) (1.8.1)\n",
            "Requirement already satisfied: cliff in /usr/local/lib/python3.7/dist-packages (from optuna) (3.10.1)\n",
            "Requirement already satisfied: sqlalchemy>=1.3.0 in /usr/local/lib/python3.7/dist-packages (from optuna) (1.4.41)\n",
            "Requirement already satisfied: importlib-metadata in /usr/local/lib/python3.7/dist-packages (from alembic>=1.5.0->optuna) (4.12.0)\n",
            "Requirement already satisfied: importlib-resources in /usr/local/lib/python3.7/dist-packages (from alembic>=1.5.0->optuna) (5.9.0)\n",
            "Requirement already satisfied: Mako in /usr/local/lib/python3.7/dist-packages (from alembic>=1.5.0->optuna) (1.2.3)\n",
            "Requirement already satisfied: pyparsing!=3.0.5,>=2.0.2 in /usr/local/lib/python3.7/dist-packages (from packaging>=20.0->optuna) (3.0.9)\n",
            "Requirement already satisfied: greenlet!=0.4.17 in /usr/local/lib/python3.7/dist-packages (from sqlalchemy>=1.3.0->optuna) (1.1.3)\n",
            "Requirement already satisfied: autopage>=0.4.0 in /usr/local/lib/python3.7/dist-packages (from cliff->optuna) (0.5.1)\n",
            "Requirement already satisfied: pbr!=2.1.0,>=2.0.0 in /usr/local/lib/python3.7/dist-packages (from cliff->optuna) (5.10.0)\n",
            "Requirement already satisfied: PrettyTable>=0.7.2 in /usr/local/lib/python3.7/dist-packages (from cliff->optuna) (3.4.1)\n",
            "Requirement already satisfied: cmd2>=1.0.0 in /usr/local/lib/python3.7/dist-packages (from cliff->optuna) (2.4.2)\n",
            "Requirement already satisfied: stevedore>=2.0.1 in /usr/local/lib/python3.7/dist-packages (from cliff->optuna) (3.5.0)\n",
            "Requirement already satisfied: attrs>=16.3.0 in /usr/local/lib/python3.7/dist-packages (from cmd2>=1.0.0->cliff->optuna) (22.1.0)\n",
            "Requirement already satisfied: typing-extensions in /usr/local/lib/python3.7/dist-packages (from cmd2>=1.0.0->cliff->optuna) (4.1.1)\n",
            "Requirement already satisfied: pyperclip>=1.6 in /usr/local/lib/python3.7/dist-packages (from cmd2>=1.0.0->cliff->optuna) (1.8.2)\n",
            "Requirement already satisfied: wcwidth>=0.1.7 in /usr/local/lib/python3.7/dist-packages (from cmd2>=1.0.0->cliff->optuna) (0.2.5)\n",
            "Requirement already satisfied: zipp>=0.5 in /usr/local/lib/python3.7/dist-packages (from importlib-metadata->alembic>=1.5.0->optuna) (3.8.1)\n",
            "Requirement already satisfied: MarkupSafe>=0.9.2 in /usr/local/lib/python3.7/dist-packages (from Mako->alembic>=1.5.0->optuna) (2.0.1)\n"
          ]
        }
      ]
    },
    {
      "cell_type": "markdown",
      "source": [
        "## 1. Linear Regression"
      ],
      "metadata": {
        "id": "6uo2WeVcgkl5"
      }
    },
    {
      "cell_type": "code",
      "source": [
        "def objectiveLinearRegression(trial):\n",
        "    param = {\n",
        "        \"fit_intercept\": trial.suggest_categorical(\"fit_intercept\", [\"True\", \"False\"]),\n",
        "        \"copy_X\": trial.suggest_categorical(\"copy_X\", [\"True\", \"False\"]),\n",
        "        \"n_jobs\": trial.suggest_int(\"n_jobs\", 2, 10)\n",
        "    }\n",
        "\n",
        "    reg = LinearRegression(**param)\n",
        "    reg.fit(x_train, y_train)\n",
        "    y_pred = reg.predict(x_test)\n",
        "    score = r2_score(y_test, y_pred)\n",
        "    return score"
      ],
      "metadata": {
        "id": "OAjhHGq1bOCh"
      },
      "execution_count": 520,
      "outputs": []
    },
    {
      "cell_type": "code",
      "source": [
        "study = optuna.create_study(direction=\"maximize\")\n",
        "study.optimize(objectiveLinearRegression, n_trials=5)\n",
        "print(\"Number of completed trials: {}\".format(len(study.trials)))\n",
        "print(\"Best trial: {}\".format(study.best_params))\n",
        "\n",
        "linearRegressionBestParams = study.best_params"
      ],
      "metadata": {
        "colab": {
          "base_uri": "https://localhost:8080/"
        },
        "id": "QuGEgqxidmvi",
        "outputId": "44dca58b-6e58-4f8e-9b45-bcc8d5fb8b94"
      },
      "execution_count": 521,
      "outputs": [
        {
          "output_type": "stream",
          "name": "stderr",
          "text": [
            "\u001b[32m[I 2022-10-04 02:38:50,836]\u001b[0m A new study created in memory with name: no-name-c83aba8e-8094-4b3d-ad10-13402169563e\u001b[0m\n",
            "2022/10/04 02:38:50 INFO mlflow.utils.autologging_utils: Created MLflow autologging run with ID 'a0b55805b0264048b17537b5830f924e', which will track hyperparameters, performance metrics, model artifacts, and lineage information for the current sklearn workflow\n",
            "2022/10/04 02:38:50 WARNING mlflow.utils.autologging_utils: MLflow autologging encountered a warning: \"/usr/local/lib/python3.7/dist-packages/mlflow/models/signature.py:129: UserWarning: Hint: Inferred schema contains integer column(s). Integer columns in Python cannot represent missing values. If your input data contains missing values at inference time, it will be encoded as floats and will cause a schema enforcement error. The best way to avoid this problem is to infer the model schema based on a realistic data sample (training dataset) that includes missing values. Alternatively, you can declare integer columns as doubles (float64) whenever these columns may have missing values. See `Handling Integers With Missing Values <https://www.mlflow.org/docs/latest/models.html#handling-integers-with-missing-values>`_ for more details.\"\n",
            "\u001b[32m[I 2022-10-04 02:38:52,691]\u001b[0m Trial 0 finished with value: 0.16799258953166452 and parameters: {'fit_intercept': 'True', 'copy_X': 'False', 'n_jobs': 10}. Best is trial 0 with value: 0.16799258953166452.\u001b[0m\n",
            "2022/10/04 02:38:52 INFO mlflow.utils.autologging_utils: Created MLflow autologging run with ID '3f064ad13f994629abd30e4aab2adc89', which will track hyperparameters, performance metrics, model artifacts, and lineage information for the current sklearn workflow\n",
            "2022/10/04 02:38:52 WARNING mlflow.utils.autologging_utils: MLflow autologging encountered a warning: \"/usr/local/lib/python3.7/dist-packages/mlflow/models/signature.py:129: UserWarning: Hint: Inferred schema contains integer column(s). Integer columns in Python cannot represent missing values. If your input data contains missing values at inference time, it will be encoded as floats and will cause a schema enforcement error. The best way to avoid this problem is to infer the model schema based on a realistic data sample (training dataset) that includes missing values. Alternatively, you can declare integer columns as doubles (float64) whenever these columns may have missing values. See `Handling Integers With Missing Values <https://www.mlflow.org/docs/latest/models.html#handling-integers-with-missing-values>`_ for more details.\"\n",
            "\u001b[32m[I 2022-10-04 02:38:54,591]\u001b[0m Trial 1 finished with value: 0.16799258953166452 and parameters: {'fit_intercept': 'True', 'copy_X': 'True', 'n_jobs': 5}. Best is trial 0 with value: 0.16799258953166452.\u001b[0m\n",
            "2022/10/04 02:38:54 INFO mlflow.utils.autologging_utils: Created MLflow autologging run with ID '0800446035054253b18cab1992add4da', which will track hyperparameters, performance metrics, model artifacts, and lineage information for the current sklearn workflow\n",
            "2022/10/04 02:38:54 WARNING mlflow.utils.autologging_utils: MLflow autologging encountered a warning: \"/usr/local/lib/python3.7/dist-packages/mlflow/models/signature.py:129: UserWarning: Hint: Inferred schema contains integer column(s). Integer columns in Python cannot represent missing values. If your input data contains missing values at inference time, it will be encoded as floats and will cause a schema enforcement error. The best way to avoid this problem is to infer the model schema based on a realistic data sample (training dataset) that includes missing values. Alternatively, you can declare integer columns as doubles (float64) whenever these columns may have missing values. See `Handling Integers With Missing Values <https://www.mlflow.org/docs/latest/models.html#handling-integers-with-missing-values>`_ for more details.\"\n",
            "\u001b[32m[I 2022-10-04 02:38:56,459]\u001b[0m Trial 2 finished with value: 0.16799258953166452 and parameters: {'fit_intercept': 'True', 'copy_X': 'False', 'n_jobs': 3}. Best is trial 0 with value: 0.16799258953166452.\u001b[0m\n",
            "2022/10/04 02:38:56 INFO mlflow.utils.autologging_utils: Created MLflow autologging run with ID '10527dc6cfad406ebebb1e823c47c5a4', which will track hyperparameters, performance metrics, model artifacts, and lineage information for the current sklearn workflow\n",
            "2022/10/04 02:38:56 WARNING mlflow.utils.autologging_utils: MLflow autologging encountered a warning: \"/usr/local/lib/python3.7/dist-packages/mlflow/models/signature.py:129: UserWarning: Hint: Inferred schema contains integer column(s). Integer columns in Python cannot represent missing values. If your input data contains missing values at inference time, it will be encoded as floats and will cause a schema enforcement error. The best way to avoid this problem is to infer the model schema based on a realistic data sample (training dataset) that includes missing values. Alternatively, you can declare integer columns as doubles (float64) whenever these columns may have missing values. See `Handling Integers With Missing Values <https://www.mlflow.org/docs/latest/models.html#handling-integers-with-missing-values>`_ for more details.\"\n",
            "\u001b[32m[I 2022-10-04 02:38:58,229]\u001b[0m Trial 3 finished with value: 0.16799258953166452 and parameters: {'fit_intercept': 'True', 'copy_X': 'True', 'n_jobs': 10}. Best is trial 0 with value: 0.16799258953166452.\u001b[0m\n",
            "2022/10/04 02:38:58 INFO mlflow.utils.autologging_utils: Created MLflow autologging run with ID '0f12b0d7d6b6445589db255d06e90718', which will track hyperparameters, performance metrics, model artifacts, and lineage information for the current sklearn workflow\n",
            "2022/10/04 02:38:58 WARNING mlflow.utils.autologging_utils: MLflow autologging encountered a warning: \"/usr/local/lib/python3.7/dist-packages/mlflow/models/signature.py:129: UserWarning: Hint: Inferred schema contains integer column(s). Integer columns in Python cannot represent missing values. If your input data contains missing values at inference time, it will be encoded as floats and will cause a schema enforcement error. The best way to avoid this problem is to infer the model schema based on a realistic data sample (training dataset) that includes missing values. Alternatively, you can declare integer columns as doubles (float64) whenever these columns may have missing values. See `Handling Integers With Missing Values <https://www.mlflow.org/docs/latest/models.html#handling-integers-with-missing-values>`_ for more details.\"\n",
            "\u001b[32m[I 2022-10-04 02:39:01,562]\u001b[0m Trial 4 finished with value: 0.16799258953166452 and parameters: {'fit_intercept': 'True', 'copy_X': 'True', 'n_jobs': 6}. Best is trial 0 with value: 0.16799258953166452.\u001b[0m\n"
          ]
        },
        {
          "output_type": "stream",
          "name": "stdout",
          "text": [
            "Number of completed trials: 5\n",
            "Best trial: {'fit_intercept': 'True', 'copy_X': 'False', 'n_jobs': 10}\n"
          ]
        }
      ]
    },
    {
      "cell_type": "code",
      "source": [
        "modelo1 = LinearRegression(**linearRegressionBestParams)\n",
        "\n",
        "modelo1.fit(x_train, y_train)\n",
        "\n",
        "y_pred1 = modelo1.predict(x_test)\n",
        "\n",
        "tunned_scores['y_pred1'] = r2_score(y_test, y_pred1)"
      ],
      "metadata": {
        "colab": {
          "base_uri": "https://localhost:8080/"
        },
        "id": "vRPumZtVfONf",
        "outputId": "4f37affa-eb01-45dd-d0fc-2afca1c3470d"
      },
      "execution_count": 522,
      "outputs": [
        {
          "output_type": "stream",
          "name": "stderr",
          "text": [
            "2022/10/04 02:39:01 INFO mlflow.utils.autologging_utils: Created MLflow autologging run with ID '2cd116dde97e48109a93b4a7af18b86f', which will track hyperparameters, performance metrics, model artifacts, and lineage information for the current sklearn workflow\n",
            "2022/10/04 02:39:01 WARNING mlflow.utils.autologging_utils: MLflow autologging encountered a warning: \"/usr/local/lib/python3.7/dist-packages/mlflow/models/signature.py:129: UserWarning: Hint: Inferred schema contains integer column(s). Integer columns in Python cannot represent missing values. If your input data contains missing values at inference time, it will be encoded as floats and will cause a schema enforcement error. The best way to avoid this problem is to infer the model schema based on a realistic data sample (training dataset) that includes missing values. Alternatively, you can declare integer columns as doubles (float64) whenever these columns may have missing values. See `Handling Integers With Missing Values <https://www.mlflow.org/docs/latest/models.html#handling-integers-with-missing-values>`_ for more details.\"\n"
          ]
        }
      ]
    },
    {
      "cell_type": "markdown",
      "source": [
        "## 2. Decision Tree"
      ],
      "metadata": {
        "id": "m3G_34Q4gnDn"
      }
    },
    {
      "cell_type": "code",
      "source": [
        "def objectiveDecisionTree(trial):\n",
        "    param = {\n",
        "        \"min_samples_split\": trial.suggest_int(\"min_samples_split\", 2, 10),\n",
        "        \"random_state\": trial.suggest_int(\"random_state\", 2, 8),\n",
        "        \"max_leaf_nodes\": trial.suggest_int(\"max_leaf_nodes\", 10, 30)\n",
        "    }\n",
        "\n",
        "    reg = tree.DecisionTreeRegressor(**param)\n",
        "    reg.fit(x_train, y_train)\n",
        "    y_pred = reg.predict(x_test)\n",
        "    score = r2_score(y_test, y_pred)\n",
        "    return score"
      ],
      "metadata": {
        "id": "xMwBKEdehF0p"
      },
      "execution_count": 548,
      "outputs": []
    },
    {
      "cell_type": "code",
      "source": [
        "study = optuna.create_study(direction=\"maximize\")\n",
        "study.optimize(objectiveDecisionTree, n_trials=5)\n",
        "print(\"Number of completed trials: {}\".format(len(study.trials)))\n",
        "print(\"Best trial: {}\".format(study.best_params))\n",
        "\n",
        "decisionTreeBestParams = study.best_params"
      ],
      "metadata": {
        "colab": {
          "base_uri": "https://localhost:8080/"
        },
        "id": "6FR3mRp2r-Sj",
        "outputId": "f7d4c922-13ca-4aae-e5e4-1003943acf41"
      },
      "execution_count": 549,
      "outputs": [
        {
          "output_type": "stream",
          "name": "stderr",
          "text": [
            "\u001b[32m[I 2022-10-04 03:03:05,637]\u001b[0m A new study created in memory with name: no-name-bc24ee77-8e73-440b-9b02-ccc87a71cb41\u001b[0m\n",
            "2022/10/04 03:03:05 INFO mlflow.utils.autologging_utils: Created MLflow autologging run with ID '74dde64d28404999bd40a37186080cf7', which will track hyperparameters, performance metrics, model artifacts, and lineage information for the current sklearn workflow\n",
            "2022/10/04 03:03:05 WARNING mlflow.utils.autologging_utils: MLflow autologging encountered a warning: \"/usr/local/lib/python3.7/dist-packages/mlflow/models/signature.py:129: UserWarning: Hint: Inferred schema contains integer column(s). Integer columns in Python cannot represent missing values. If your input data contains missing values at inference time, it will be encoded as floats and will cause a schema enforcement error. The best way to avoid this problem is to infer the model schema based on a realistic data sample (training dataset) that includes missing values. Alternatively, you can declare integer columns as doubles (float64) whenever these columns may have missing values. See `Handling Integers With Missing Values <https://www.mlflow.org/docs/latest/models.html#handling-integers-with-missing-values>`_ for more details.\"\n",
            "\u001b[32m[I 2022-10-04 03:03:07,539]\u001b[0m Trial 0 finished with value: 0.6822522614233124 and parameters: {'min_samples_split': 2, 'random_state': 8, 'max_leaf_nodes': 20}. Best is trial 0 with value: 0.6822522614233124.\u001b[0m\n",
            "2022/10/04 03:03:07 INFO mlflow.utils.autologging_utils: Created MLflow autologging run with ID '33ee44a14bf341bf96254f0666618d58', which will track hyperparameters, performance metrics, model artifacts, and lineage information for the current sklearn workflow\n",
            "2022/10/04 03:03:07 WARNING mlflow.utils.autologging_utils: MLflow autologging encountered a warning: \"/usr/local/lib/python3.7/dist-packages/mlflow/models/signature.py:129: UserWarning: Hint: Inferred schema contains integer column(s). Integer columns in Python cannot represent missing values. If your input data contains missing values at inference time, it will be encoded as floats and will cause a schema enforcement error. The best way to avoid this problem is to infer the model schema based on a realistic data sample (training dataset) that includes missing values. Alternatively, you can declare integer columns as doubles (float64) whenever these columns may have missing values. See `Handling Integers With Missing Values <https://www.mlflow.org/docs/latest/models.html#handling-integers-with-missing-values>`_ for more details.\"\n",
            "\u001b[32m[I 2022-10-04 03:03:09,428]\u001b[0m Trial 1 finished with value: 0.689643586847764 and parameters: {'min_samples_split': 3, 'random_state': 8, 'max_leaf_nodes': 10}. Best is trial 1 with value: 0.689643586847764.\u001b[0m\n",
            "2022/10/04 03:03:09 INFO mlflow.utils.autologging_utils: Created MLflow autologging run with ID 'fbec84f2371a46efb7296c01a8ce68ee', which will track hyperparameters, performance metrics, model artifacts, and lineage information for the current sklearn workflow\n",
            "2022/10/04 03:03:09 WARNING mlflow.utils.autologging_utils: MLflow autologging encountered a warning: \"/usr/local/lib/python3.7/dist-packages/mlflow/models/signature.py:129: UserWarning: Hint: Inferred schema contains integer column(s). Integer columns in Python cannot represent missing values. If your input data contains missing values at inference time, it will be encoded as floats and will cause a schema enforcement error. The best way to avoid this problem is to infer the model schema based on a realistic data sample (training dataset) that includes missing values. Alternatively, you can declare integer columns as doubles (float64) whenever these columns may have missing values. See `Handling Integers With Missing Values <https://www.mlflow.org/docs/latest/models.html#handling-integers-with-missing-values>`_ for more details.\"\n",
            "\u001b[32m[I 2022-10-04 03:03:11,301]\u001b[0m Trial 2 finished with value: 0.6937955310652263 and parameters: {'min_samples_split': 10, 'random_state': 3, 'max_leaf_nodes': 11}. Best is trial 2 with value: 0.6937955310652263.\u001b[0m\n",
            "2022/10/04 03:03:11 INFO mlflow.utils.autologging_utils: Created MLflow autologging run with ID '4cc664e65709408fb1a5c622e3f7f624', which will track hyperparameters, performance metrics, model artifacts, and lineage information for the current sklearn workflow\n",
            "2022/10/04 03:03:11 WARNING mlflow.utils.autologging_utils: MLflow autologging encountered a warning: \"/usr/local/lib/python3.7/dist-packages/mlflow/models/signature.py:129: UserWarning: Hint: Inferred schema contains integer column(s). Integer columns in Python cannot represent missing values. If your input data contains missing values at inference time, it will be encoded as floats and will cause a schema enforcement error. The best way to avoid this problem is to infer the model schema based on a realistic data sample (training dataset) that includes missing values. Alternatively, you can declare integer columns as doubles (float64) whenever these columns may have missing values. See `Handling Integers With Missing Values <https://www.mlflow.org/docs/latest/models.html#handling-integers-with-missing-values>`_ for more details.\"\n",
            "\u001b[32m[I 2022-10-04 03:03:13,196]\u001b[0m Trial 3 finished with value: 0.6604502541952133 and parameters: {'min_samples_split': 3, 'random_state': 5, 'max_leaf_nodes': 15}. Best is trial 2 with value: 0.6937955310652263.\u001b[0m\n",
            "2022/10/04 03:03:13 INFO mlflow.utils.autologging_utils: Created MLflow autologging run with ID 'bd8941b9f2ca44f89e73d5805fa8a949', which will track hyperparameters, performance metrics, model artifacts, and lineage information for the current sklearn workflow\n",
            "2022/10/04 03:03:13 WARNING mlflow.utils.autologging_utils: MLflow autologging encountered a warning: \"/usr/local/lib/python3.7/dist-packages/mlflow/models/signature.py:129: UserWarning: Hint: Inferred schema contains integer column(s). Integer columns in Python cannot represent missing values. If your input data contains missing values at inference time, it will be encoded as floats and will cause a schema enforcement error. The best way to avoid this problem is to infer the model schema based on a realistic data sample (training dataset) that includes missing values. Alternatively, you can declare integer columns as doubles (float64) whenever these columns may have missing values. See `Handling Integers With Missing Values <https://www.mlflow.org/docs/latest/models.html#handling-integers-with-missing-values>`_ for more details.\"\n",
            "\u001b[32m[I 2022-10-04 03:03:15,065]\u001b[0m Trial 4 finished with value: 0.6414157858734532 and parameters: {'min_samples_split': 3, 'random_state': 7, 'max_leaf_nodes': 20}. Best is trial 2 with value: 0.6937955310652263.\u001b[0m\n"
          ]
        },
        {
          "output_type": "stream",
          "name": "stdout",
          "text": [
            "Number of completed trials: 5\n",
            "Best trial: {'min_samples_split': 10, 'random_state': 3, 'max_leaf_nodes': 11}\n"
          ]
        }
      ]
    },
    {
      "cell_type": "code",
      "source": [
        "modelo2 = tree.DecisionTreeRegressor(**decisionTreeBestParams)\n",
        "\n",
        "modelo2.fit(x_train, y_train)\n",
        "\n",
        "y_pred2 = modelo2.predict(x_test)\n",
        "\n",
        "tunned_scores['y_pred2'] = r2_score(y_test, y_pred2)"
      ],
      "metadata": {
        "colab": {
          "base_uri": "https://localhost:8080/"
        },
        "id": "0YItNDdRsIm9",
        "outputId": "a70bbd8f-2fd0-4034-c323-5bdbe1e59f3f"
      },
      "execution_count": 550,
      "outputs": [
        {
          "output_type": "stream",
          "name": "stderr",
          "text": [
            "2022/10/04 03:03:18 INFO mlflow.utils.autologging_utils: Created MLflow autologging run with ID '4f5332f33954413888dc6d52248ee17a', which will track hyperparameters, performance metrics, model artifacts, and lineage information for the current sklearn workflow\n",
            "2022/10/04 03:03:18 WARNING mlflow.utils.autologging_utils: MLflow autologging encountered a warning: \"/usr/local/lib/python3.7/dist-packages/mlflow/models/signature.py:129: UserWarning: Hint: Inferred schema contains integer column(s). Integer columns in Python cannot represent missing values. If your input data contains missing values at inference time, it will be encoded as floats and will cause a schema enforcement error. The best way to avoid this problem is to infer the model schema based on a realistic data sample (training dataset) that includes missing values. Alternatively, you can declare integer columns as doubles (float64) whenever these columns may have missing values. See `Handling Integers With Missing Values <https://www.mlflow.org/docs/latest/models.html#handling-integers-with-missing-values>`_ for more details.\"\n"
          ]
        }
      ]
    },
    {
      "cell_type": "markdown",
      "source": [
        "## 3. KNN Model"
      ],
      "metadata": {
        "id": "wimXGjXysV4X"
      }
    },
    {
      "cell_type": "code",
      "source": [
        "def objectiveKNN(trial):\n",
        "    param = {\n",
        "        \"n_neighbors\": trial.suggest_int(\"n_neighbors\", 2, 8),\n",
        "        \"n_jobs\": trial.suggest_int(\"n_jobs\", 1, 10),\n",
        "        \"algorithm\": trial.suggest_categorical(\"algorithm\", [\"auto\", \"ball_tree\", \"ball_tree\", \"brute\"])\n",
        "    }\n",
        "\n",
        "    reg = KNeighborsClassifier(**param)\n",
        "    reg.fit(x_train, y_train)\n",
        "    y_pred = reg.predict(x_test)\n",
        "    score = r2_score(y_test, y_pred)\n",
        "    return score"
      ],
      "metadata": {
        "id": "dn7jfIu2sgFb"
      },
      "execution_count": 555,
      "outputs": []
    },
    {
      "cell_type": "code",
      "source": [
        "study = optuna.create_study(direction=\"maximize\")\n",
        "study.optimize(objectiveKNN, n_trials=5)\n",
        "print(\"Number of completed trials: {}\".format(len(study.trials)))\n",
        "print(\"Best trial: {}\".format(study.best_params))\n",
        "\n",
        "KnnModelBestParams = study.best_params"
      ],
      "metadata": {
        "colab": {
          "base_uri": "https://localhost:8080/"
        },
        "id": "hyI9XGdyuAS7",
        "outputId": "e660ef18-54d5-465e-96f7-182376225ad0"
      },
      "execution_count": 556,
      "outputs": [
        {
          "output_type": "stream",
          "name": "stderr",
          "text": [
            "\u001b[32m[I 2022-10-04 03:07:54,766]\u001b[0m A new study created in memory with name: no-name-2569b6a6-2c4c-4e0b-9c90-5ae9ededa1e0\u001b[0m\n",
            "2022/10/04 03:07:54 INFO mlflow.utils.autologging_utils: Created MLflow autologging run with ID '5bfa1d65b752489a9b28c42b79ba130e', which will track hyperparameters, performance metrics, model artifacts, and lineage information for the current sklearn workflow\n",
            "/usr/local/lib/python3.7/dist-packages/sklearn/metrics/_classification.py:1318: UndefinedMetricWarning: Precision is ill-defined and being set to 0.0 in labels with no predicted samples. Use `zero_division` parameter to control this behavior.\n",
            "  _warn_prf(average, modifier, msg_start, len(result))\n",
            "2022/10/04 03:08:20 WARNING mlflow.utils.autologging_utils: MLflow autologging encountered a warning: \"/usr/local/lib/python3.7/dist-packages/mlflow/models/signature.py:129: UserWarning: Hint: Inferred schema contains integer column(s). Integer columns in Python cannot represent missing values. If your input data contains missing values at inference time, it will be encoded as floats and will cause a schema enforcement error. The best way to avoid this problem is to infer the model schema based on a realistic data sample (training dataset) that includes missing values. Alternatively, you can declare integer columns as doubles (float64) whenever these columns may have missing values. See `Handling Integers With Missing Values <https://www.mlflow.org/docs/latest/models.html#handling-integers-with-missing-values>`_ for more details.\"\n",
            "\u001b[32m[I 2022-10-04 03:08:22,780]\u001b[0m Trial 0 finished with value: 0.3570624996513554 and parameters: {'n_neighbors': 3, 'n_jobs': 6, 'algorithm': 'ball_tree'}. Best is trial 0 with value: 0.3570624996513554.\u001b[0m\n",
            "2022/10/04 03:08:22 INFO mlflow.utils.autologging_utils: Created MLflow autologging run with ID '76cbc0a4325c49e2a62a13f205a055ed', which will track hyperparameters, performance metrics, model artifacts, and lineage information for the current sklearn workflow\n",
            "/usr/local/lib/python3.7/dist-packages/sklearn/metrics/_classification.py:1318: UndefinedMetricWarning: Precision is ill-defined and being set to 0.0 in labels with no predicted samples. Use `zero_division` parameter to control this behavior.\n",
            "  _warn_prf(average, modifier, msg_start, len(result))\n",
            "2022/10/04 03:08:45 WARNING mlflow.utils.autologging_utils: MLflow autologging encountered a warning: \"/usr/local/lib/python3.7/dist-packages/mlflow/models/signature.py:129: UserWarning: Hint: Inferred schema contains integer column(s). Integer columns in Python cannot represent missing values. If your input data contains missing values at inference time, it will be encoded as floats and will cause a schema enforcement error. The best way to avoid this problem is to infer the model schema based on a realistic data sample (training dataset) that includes missing values. Alternatively, you can declare integer columns as doubles (float64) whenever these columns may have missing values. See `Handling Integers With Missing Values <https://www.mlflow.org/docs/latest/models.html#handling-integers-with-missing-values>`_ for more details.\"\n",
            "\u001b[32m[I 2022-10-04 03:08:47,395]\u001b[0m Trial 1 finished with value: 0.2130009486952975 and parameters: {'n_neighbors': 7, 'n_jobs': 1, 'algorithm': 'ball_tree'}. Best is trial 0 with value: 0.3570624996513554.\u001b[0m\n",
            "2022/10/04 03:08:47 INFO mlflow.utils.autologging_utils: Created MLflow autologging run with ID 'c8825e8478e34fbf8cf3f044af26d8d8', which will track hyperparameters, performance metrics, model artifacts, and lineage information for the current sklearn workflow\n",
            "/usr/local/lib/python3.7/dist-packages/sklearn/metrics/_classification.py:1318: UndefinedMetricWarning: Precision is ill-defined and being set to 0.0 in labels with no predicted samples. Use `zero_division` parameter to control this behavior.\n",
            "  _warn_prf(average, modifier, msg_start, len(result))\n",
            "2022/10/04 03:09:11 WARNING mlflow.utils.autologging_utils: MLflow autologging encountered a warning: \"/usr/local/lib/python3.7/dist-packages/mlflow/models/signature.py:129: UserWarning: Hint: Inferred schema contains integer column(s). Integer columns in Python cannot represent missing values. If your input data contains missing values at inference time, it will be encoded as floats and will cause a schema enforcement error. The best way to avoid this problem is to infer the model schema based on a realistic data sample (training dataset) that includes missing values. Alternatively, you can declare integer columns as doubles (float64) whenever these columns may have missing values. See `Handling Integers With Missing Values <https://www.mlflow.org/docs/latest/models.html#handling-integers-with-missing-values>`_ for more details.\"\n",
            "\u001b[32m[I 2022-10-04 03:09:13,454]\u001b[0m Trial 2 finished with value: 0.22332862509242313 and parameters: {'n_neighbors': 6, 'n_jobs': 10, 'algorithm': 'auto'}. Best is trial 0 with value: 0.3570624996513554.\u001b[0m\n",
            "2022/10/04 03:09:13 INFO mlflow.utils.autologging_utils: Created MLflow autologging run with ID 'b4f19125c186424dae9742226ab6b00c', which will track hyperparameters, performance metrics, model artifacts, and lineage information for the current sklearn workflow\n",
            "/usr/local/lib/python3.7/dist-packages/sklearn/metrics/_classification.py:1318: UndefinedMetricWarning: Precision is ill-defined and being set to 0.0 in labels with no predicted samples. Use `zero_division` parameter to control this behavior.\n",
            "  _warn_prf(average, modifier, msg_start, len(result))\n",
            "2022/10/04 03:09:37 WARNING mlflow.utils.autologging_utils: MLflow autologging encountered a warning: \"/usr/local/lib/python3.7/dist-packages/mlflow/models/signature.py:129: UserWarning: Hint: Inferred schema contains integer column(s). Integer columns in Python cannot represent missing values. If your input data contains missing values at inference time, it will be encoded as floats and will cause a schema enforcement error. The best way to avoid this problem is to infer the model schema based on a realistic data sample (training dataset) that includes missing values. Alternatively, you can declare integer columns as doubles (float64) whenever these columns may have missing values. See `Handling Integers With Missing Values <https://www.mlflow.org/docs/latest/models.html#handling-integers-with-missing-values>`_ for more details.\"\n",
            "\u001b[32m[I 2022-10-04 03:09:39,500]\u001b[0m Trial 3 finished with value: 0.26011683215367154 and parameters: {'n_neighbors': 4, 'n_jobs': 1, 'algorithm': 'ball_tree'}. Best is trial 0 with value: 0.3570624996513554.\u001b[0m\n",
            "2022/10/04 03:09:39 INFO mlflow.utils.autologging_utils: Created MLflow autologging run with ID 'eb9807d5bce44b3c94fce5ef34e8150e', which will track hyperparameters, performance metrics, model artifacts, and lineage information for the current sklearn workflow\n",
            "/usr/local/lib/python3.7/dist-packages/sklearn/metrics/_classification.py:1318: UndefinedMetricWarning: Precision is ill-defined and being set to 0.0 in labels with no predicted samples. Use `zero_division` parameter to control this behavior.\n",
            "  _warn_prf(average, modifier, msg_start, len(result))\n",
            "2022/10/04 03:10:02 WARNING mlflow.utils.autologging_utils: MLflow autologging encountered a warning: \"/usr/local/lib/python3.7/dist-packages/mlflow/models/signature.py:129: UserWarning: Hint: Inferred schema contains integer column(s). Integer columns in Python cannot represent missing values. If your input data contains missing values at inference time, it will be encoded as floats and will cause a schema enforcement error. The best way to avoid this problem is to infer the model schema based on a realistic data sample (training dataset) that includes missing values. Alternatively, you can declare integer columns as doubles (float64) whenever these columns may have missing values. See `Handling Integers With Missing Values <https://www.mlflow.org/docs/latest/models.html#handling-integers-with-missing-values>`_ for more details.\"\n",
            "\u001b[32m[I 2022-10-04 03:10:05,046]\u001b[0m Trial 4 finished with value: 0.4046701772238783 and parameters: {'n_neighbors': 2, 'n_jobs': 6, 'algorithm': 'ball_tree'}. Best is trial 4 with value: 0.4046701772238783.\u001b[0m\n"
          ]
        },
        {
          "output_type": "stream",
          "name": "stdout",
          "text": [
            "Number of completed trials: 5\n",
            "Best trial: {'n_neighbors': 2, 'n_jobs': 6, 'algorithm': 'ball_tree'}\n"
          ]
        }
      ]
    },
    {
      "cell_type": "code",
      "source": [
        "modelo3 = KNeighborsClassifier(**KnnModelBestParams)\n",
        "\n",
        "modelo3.fit(x_train, y_train)\n",
        "\n",
        "y_pred3 = modelo3.predict(x_test)\n",
        "\n",
        "tunned_scores['y_pred3'] = r2_score(y_test, y_pred3)"
      ],
      "metadata": {
        "colab": {
          "base_uri": "https://localhost:8080/"
        },
        "id": "Kn82-2szuLV6",
        "outputId": "ac36851a-955b-431c-c9e6-f798bd15e599"
      },
      "execution_count": 557,
      "outputs": [
        {
          "output_type": "stream",
          "name": "stderr",
          "text": [
            "2022/10/04 03:10:05 INFO mlflow.utils.autologging_utils: Created MLflow autologging run with ID 'a338138dd7d44bb89f4350d8d90f1cb9', which will track hyperparameters, performance metrics, model artifacts, and lineage information for the current sklearn workflow\n",
            "/usr/local/lib/python3.7/dist-packages/sklearn/metrics/_classification.py:1318: UndefinedMetricWarning: Precision is ill-defined and being set to 0.0 in labels with no predicted samples. Use `zero_division` parameter to control this behavior.\n",
            "  _warn_prf(average, modifier, msg_start, len(result))\n",
            "2022/10/04 03:10:26 WARNING mlflow.utils.autologging_utils: MLflow autologging encountered a warning: \"/usr/local/lib/python3.7/dist-packages/mlflow/models/signature.py:129: UserWarning: Hint: Inferred schema contains integer column(s). Integer columns in Python cannot represent missing values. If your input data contains missing values at inference time, it will be encoded as floats and will cause a schema enforcement error. The best way to avoid this problem is to infer the model schema based on a realistic data sample (training dataset) that includes missing values. Alternatively, you can declare integer columns as doubles (float64) whenever these columns may have missing values. See `Handling Integers With Missing Values <https://www.mlflow.org/docs/latest/models.html#handling-integers-with-missing-values>`_ for more details.\"\n"
          ]
        }
      ]
    },
    {
      "cell_type": "markdown",
      "source": [
        "## 4. Neural Network"
      ],
      "metadata": {
        "id": "3wEDPsleuaG0"
      }
    },
    {
      "cell_type": "code",
      "source": [
        "def objectiveNeural(trial):\n",
        "    param = {\n",
        "        \"activation\": trial.suggest_categorical(\"activation\", [\"identity\", \"logistic\", \"tanh\", \"relu\"]),\n",
        "        \"learning_rate\": trial.suggest_categorical(\"learning_rate\", [\"constant\", \"invscaling\", \"adaptive\"]),\n",
        "        \"max_iter\": trial.suggest_int(\"max_iter\", 100, 300)\n",
        "    }\n",
        "\n",
        "    reg = MLPRegressor(**param)\n",
        "    reg.fit(x_train, y_train)\n",
        "    y_pred = reg.predict(x_test)\n",
        "    score = r2_score(y_test, y_pred)\n",
        "    return score"
      ],
      "metadata": {
        "id": "ElGpAmF4ucQJ"
      },
      "execution_count": 564,
      "outputs": []
    },
    {
      "cell_type": "code",
      "source": [
        "study = optuna.create_study(direction=\"maximize\")\n",
        "study.optimize(objectiveNeural, n_trials=5)\n",
        "print(\"Number of completed trials: {}\".format(len(study.trials)))\n",
        "print(\"Best trial: {}\".format(study.best_params))\n",
        "\n",
        "neuralNetworkBestParams = study.best_params"
      ],
      "metadata": {
        "colab": {
          "base_uri": "https://localhost:8080/"
        },
        "id": "f9YTMuqEvZs1",
        "outputId": "a3629414-e6a2-4e21-c062-53d5dae0959c"
      },
      "execution_count": 565,
      "outputs": [
        {
          "output_type": "stream",
          "name": "stderr",
          "text": [
            "\u001b[32m[I 2022-10-04 03:14:04,108]\u001b[0m A new study created in memory with name: no-name-9296c48d-1a73-4cf0-8632-f1701beed8d1\u001b[0m\n",
            "2022/10/04 03:14:04 INFO mlflow.utils.autologging_utils: Created MLflow autologging run with ID 'd15e0a141656474bb50f534661020bb3', which will track hyperparameters, performance metrics, model artifacts, and lineage information for the current sklearn workflow\n",
            "/usr/local/lib/python3.7/dist-packages/sklearn/neural_network/_multilayer_perceptron.py:696: ConvergenceWarning: Stochastic Optimizer: Maximum iterations (173) reached and the optimization hasn't converged yet.\n",
            "  ConvergenceWarning,\n",
            "2022/10/04 03:14:17 WARNING mlflow.utils.autologging_utils: MLflow autologging encountered a warning: \"/usr/local/lib/python3.7/dist-packages/mlflow/models/signature.py:129: UserWarning: Hint: Inferred schema contains integer column(s). Integer columns in Python cannot represent missing values. If your input data contains missing values at inference time, it will be encoded as floats and will cause a schema enforcement error. The best way to avoid this problem is to infer the model schema based on a realistic data sample (training dataset) that includes missing values. Alternatively, you can declare integer columns as doubles (float64) whenever these columns may have missing values. See `Handling Integers With Missing Values <https://www.mlflow.org/docs/latest/models.html#handling-integers-with-missing-values>`_ for more details.\"\n",
            "\u001b[32m[I 2022-10-04 03:14:18,993]\u001b[0m Trial 0 finished with value: 0.4859326610513066 and parameters: {'activation': 'relu', 'learning_rate': 'constant', 'max_iter': 173}. Best is trial 0 with value: 0.4859326610513066.\u001b[0m\n",
            "2022/10/04 03:14:19 INFO mlflow.utils.autologging_utils: Created MLflow autologging run with ID '858d2d4228bb46288dcfcc9e02db59fe', which will track hyperparameters, performance metrics, model artifacts, and lineage information for the current sklearn workflow\n",
            "2022/10/04 03:14:26 WARNING mlflow.utils.autologging_utils: MLflow autologging encountered a warning: \"/usr/local/lib/python3.7/dist-packages/mlflow/models/signature.py:129: UserWarning: Hint: Inferred schema contains integer column(s). Integer columns in Python cannot represent missing values. If your input data contains missing values at inference time, it will be encoded as floats and will cause a schema enforcement error. The best way to avoid this problem is to infer the model schema based on a realistic data sample (training dataset) that includes missing values. Alternatively, you can declare integer columns as doubles (float64) whenever these columns may have missing values. See `Handling Integers With Missing Values <https://www.mlflow.org/docs/latest/models.html#handling-integers-with-missing-values>`_ for more details.\"\n",
            "\u001b[32m[I 2022-10-04 03:14:28,357]\u001b[0m Trial 1 finished with value: 0.1521071996016362 and parameters: {'activation': 'identity', 'learning_rate': 'constant', 'max_iter': 145}. Best is trial 0 with value: 0.4859326610513066.\u001b[0m\n",
            "2022/10/04 03:14:28 INFO mlflow.utils.autologging_utils: Created MLflow autologging run with ID '78f3743d3b8648c096254b7fa15df108', which will track hyperparameters, performance metrics, model artifacts, and lineage information for the current sklearn workflow\n",
            "/usr/local/lib/python3.7/dist-packages/sklearn/neural_network/_multilayer_perceptron.py:696: ConvergenceWarning: Stochastic Optimizer: Maximum iterations (161) reached and the optimization hasn't converged yet.\n",
            "  ConvergenceWarning,\n",
            "2022/10/04 03:14:45 WARNING mlflow.utils.autologging_utils: MLflow autologging encountered a warning: \"/usr/local/lib/python3.7/dist-packages/mlflow/models/signature.py:129: UserWarning: Hint: Inferred schema contains integer column(s). Integer columns in Python cannot represent missing values. If your input data contains missing values at inference time, it will be encoded as floats and will cause a schema enforcement error. The best way to avoid this problem is to infer the model schema based on a realistic data sample (training dataset) that includes missing values. Alternatively, you can declare integer columns as doubles (float64) whenever these columns may have missing values. See `Handling Integers With Missing Values <https://www.mlflow.org/docs/latest/models.html#handling-integers-with-missing-values>`_ for more details.\"\n",
            "\u001b[32m[I 2022-10-04 03:14:47,522]\u001b[0m Trial 2 finished with value: 0.45336659682408176 and parameters: {'activation': 'logistic', 'learning_rate': 'constant', 'max_iter': 161}. Best is trial 0 with value: 0.4859326610513066.\u001b[0m\n",
            "2022/10/04 03:14:47 INFO mlflow.utils.autologging_utils: Created MLflow autologging run with ID '1318e6aa06b84d7cb3fdb191a752dcc9', which will track hyperparameters, performance metrics, model artifacts, and lineage information for the current sklearn workflow\n",
            "/usr/local/lib/python3.7/dist-packages/sklearn/neural_network/_multilayer_perceptron.py:696: ConvergenceWarning: Stochastic Optimizer: Maximum iterations (124) reached and the optimization hasn't converged yet.\n",
            "  ConvergenceWarning,\n",
            "2022/10/04 03:14:58 WARNING mlflow.utils.autologging_utils: MLflow autologging encountered a warning: \"/usr/local/lib/python3.7/dist-packages/mlflow/models/signature.py:129: UserWarning: Hint: Inferred schema contains integer column(s). Integer columns in Python cannot represent missing values. If your input data contains missing values at inference time, it will be encoded as floats and will cause a schema enforcement error. The best way to avoid this problem is to infer the model schema based on a realistic data sample (training dataset) that includes missing values. Alternatively, you can declare integer columns as doubles (float64) whenever these columns may have missing values. See `Handling Integers With Missing Values <https://www.mlflow.org/docs/latest/models.html#handling-integers-with-missing-values>`_ for more details.\"\n",
            "\u001b[32m[I 2022-10-04 03:15:00,224]\u001b[0m Trial 3 finished with value: 0.4261190365281118 and parameters: {'activation': 'relu', 'learning_rate': 'invscaling', 'max_iter': 124}. Best is trial 0 with value: 0.4859326610513066.\u001b[0m\n",
            "2022/10/04 03:15:00 INFO mlflow.utils.autologging_utils: Created MLflow autologging run with ID '1997304167884bb492fef2cfabb994b8', which will track hyperparameters, performance metrics, model artifacts, and lineage information for the current sklearn workflow\n",
            "2022/10/04 03:15:17 WARNING mlflow.utils.autologging_utils: MLflow autologging encountered a warning: \"/usr/local/lib/python3.7/dist-packages/mlflow/models/signature.py:129: UserWarning: Hint: Inferred schema contains integer column(s). Integer columns in Python cannot represent missing values. If your input data contains missing values at inference time, it will be encoded as floats and will cause a schema enforcement error. The best way to avoid this problem is to infer the model schema based on a realistic data sample (training dataset) that includes missing values. Alternatively, you can declare integer columns as doubles (float64) whenever these columns may have missing values. See `Handling Integers With Missing Values <https://www.mlflow.org/docs/latest/models.html#handling-integers-with-missing-values>`_ for more details.\"\n",
            "\u001b[32m[I 2022-10-04 03:15:19,030]\u001b[0m Trial 4 finished with value: 0.4454840902781163 and parameters: {'activation': 'tanh', 'learning_rate': 'adaptive', 'max_iter': 273}. Best is trial 0 with value: 0.4859326610513066.\u001b[0m\n"
          ]
        },
        {
          "output_type": "stream",
          "name": "stdout",
          "text": [
            "Number of completed trials: 5\n",
            "Best trial: {'activation': 'relu', 'learning_rate': 'constant', 'max_iter': 173}\n"
          ]
        }
      ]
    },
    {
      "cell_type": "code",
      "source": [
        "modelo4 = MLPRegressor(**neuralNetworkBestParams)\n",
        "\n",
        "modelo4.fit(x_train, y_train)\n",
        "\n",
        "y_pred4 = modelo4.predict(x_test)\n",
        "\n",
        "tunned_scores['y_pred4'] = r2_score(y_test, y_pred4)"
      ],
      "metadata": {
        "colab": {
          "base_uri": "https://localhost:8080/"
        },
        "id": "8Fa6Zm5zvihU",
        "outputId": "3e4e5009-d114-4015-f304-b55fb1abda3d"
      },
      "execution_count": 566,
      "outputs": [
        {
          "output_type": "stream",
          "name": "stderr",
          "text": [
            "2022/10/04 03:15:28 INFO mlflow.utils.autologging_utils: Created MLflow autologging run with ID '3c3df03edeaa439e81a01724d90cd081', which will track hyperparameters, performance metrics, model artifacts, and lineage information for the current sklearn workflow\n",
            "/usr/local/lib/python3.7/dist-packages/sklearn/neural_network/_multilayer_perceptron.py:696: ConvergenceWarning: Stochastic Optimizer: Maximum iterations (173) reached and the optimization hasn't converged yet.\n",
            "  ConvergenceWarning,\n",
            "2022/10/04 03:15:43 WARNING mlflow.utils.autologging_utils: MLflow autologging encountered a warning: \"/usr/local/lib/python3.7/dist-packages/mlflow/models/signature.py:129: UserWarning: Hint: Inferred schema contains integer column(s). Integer columns in Python cannot represent missing values. If your input data contains missing values at inference time, it will be encoded as floats and will cause a schema enforcement error. The best way to avoid this problem is to infer the model schema based on a realistic data sample (training dataset) that includes missing values. Alternatively, you can declare integer columns as doubles (float64) whenever these columns may have missing values. See `Handling Integers With Missing Values <https://www.mlflow.org/docs/latest/models.html#handling-integers-with-missing-values>`_ for more details.\"\n"
          ]
        }
      ]
    },
    {
      "cell_type": "code",
      "source": [
        "scores"
      ],
      "metadata": {
        "colab": {
          "base_uri": "https://localhost:8080/"
        },
        "id": "CI6MJU2f3PSf",
        "outputId": "fc8c012f-482f-439d-821c-838ff4335d5f"
      },
      "execution_count": 532,
      "outputs": [
        {
          "output_type": "execute_result",
          "data": {
            "text/plain": [
              "{'y_pred1': 0.16799258953166452,\n",
              " 'y_pred2': 0.586716299698461,\n",
              " 'y_pred3': 0.35702235319305753,\n",
              " 'y_pred4': 0.4906463635013827}"
            ]
          },
          "metadata": {},
          "execution_count": 532
        }
      ]
    },
    {
      "cell_type": "code",
      "source": [
        "tunned_scores"
      ],
      "metadata": {
        "colab": {
          "base_uri": "https://localhost:8080/"
        },
        "id": "-vMFsVfa3R1f",
        "outputId": "d9542c07-eb5e-42ac-ea28-d62bd7699eba"
      },
      "execution_count": 567,
      "outputs": [
        {
          "output_type": "execute_result",
          "data": {
            "text/plain": [
              "{'y_pred1': 0.16799258953166452,\n",
              " 'y_pred2': 0.6937955310652263,\n",
              " 'y_pred3': 0.4046701772238783,\n",
              " 'y_pred4': 0.4724398380247775}"
            ]
          },
          "metadata": {},
          "execution_count": 567
        }
      ]
    },
    {
      "cell_type": "markdown",
      "source": [
        "# 4. Diagnóstico"
      ],
      "metadata": {
        "id": "wr45blti_3fU"
      }
    },
    {
      "cell_type": "markdown",
      "source": [
        "### Aplicando na Decision Tree, que foi o modelo de melhor desempenho para esse dataset:"
      ],
      "metadata": {
        "id": "qUj7Qfy9ABb6"
      }
    },
    {
      "cell_type": "code",
      "source": [
        "modelo = tree.DecisionTreeRegressor(**decisionTreeBestParams)\n",
        "\n",
        "modelo.fit(x_train, y_train)\n",
        "\n",
        "y_pred = modelo.predict(x_train)\n",
        "\n",
        "r2_score(y_train, y_pred)"
      ],
      "metadata": {
        "colab": {
          "base_uri": "https://localhost:8080/"
        },
        "id": "4KbWK8WY_-gX",
        "outputId": "f52bd14f-f2eb-409b-e04a-475710785594"
      },
      "execution_count": 570,
      "outputs": [
        {
          "output_type": "stream",
          "name": "stderr",
          "text": [
            "2022/10/04 03:32:55 INFO mlflow.utils.autologging_utils: Created MLflow autologging run with ID 'd1b4e196ddc74edf8dc6ad6a87d1d2a9', which will track hyperparameters, performance metrics, model artifacts, and lineage information for the current sklearn workflow\n",
            "2022/10/04 03:32:55 WARNING mlflow.utils.autologging_utils: MLflow autologging encountered a warning: \"/usr/local/lib/python3.7/dist-packages/mlflow/models/signature.py:129: UserWarning: Hint: Inferred schema contains integer column(s). Integer columns in Python cannot represent missing values. If your input data contains missing values at inference time, it will be encoded as floats and will cause a schema enforcement error. The best way to avoid this problem is to infer the model schema based on a realistic data sample (training dataset) that includes missing values. Alternatively, you can declare integer columns as doubles (float64) whenever these columns may have missing values. See `Handling Integers With Missing Values <https://www.mlflow.org/docs/latest/models.html#handling-integers-with-missing-values>`_ for more details.\"\n"
          ]
        },
        {
          "output_type": "execute_result",
          "data": {
            "text/plain": [
              "0.7063843073012408"
            ]
          },
          "metadata": {},
          "execution_count": 570
        }
      ]
    }
  ]
}